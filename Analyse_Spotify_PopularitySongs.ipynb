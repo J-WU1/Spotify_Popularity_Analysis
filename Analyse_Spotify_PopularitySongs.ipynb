{
 "cells": [
  {
   "cell_type": "markdown",
   "metadata": {
    "application/vnd.databricks.v1+cell": {
     "cellMetadata": {},
     "inputWidgets": {},
     "nuid": "abba78ed-d0b9-41ef-9a29-b84921af30dd",
     "showTitle": false,
     "tableResultSettingsMap": {},
     "title": ""
    }
   },
   "source": [
    "Ce projet analyse les flux de streaming Spotify pour identifier les tendances, les artistes les plus populaires et le profil audio des hits. L’objectif est de démontrer la capacité à exploiter des données brutes, à réaliser de la data cleaning, une analyse exploratoire, et à produire des tableaux de bord exploitables."
   ]
  },
  {
   "cell_type": "code",
   "execution_count": 0,
   "metadata": {
    "application/vnd.databricks.v1+cell": {
     "cellMetadata": {
      "byteLimit": 2048000,
      "rowLimit": 10000
     },
     "inputWidgets": {},
     "nuid": "2a5af50b-cfb9-4f3a-bd39-6b9bc4918332",
     "showTitle": false,
     "tableResultSettingsMap": {
      "1": {
       "dataGridStateBlob": "{\"version\":1,\"tableState\":{\"columnPinning\":{\"left\":[\"#row_number#\"],\"right\":[]},\"columnSizing\":{\"artist_s__name\":194,\"track_name\":206},\"columnVisibility\":{}},\"settings\":{\"columns\":{}},\"syncTimestamp\":1758211185224}",
       "filterBlob": null,
       "queryPlanFiltersBlob": null,
       "tableResultIndex": 1
      },
      "2": {
       "dataGridStateBlob": "{\"version\":1,\"tableState\":{\"columnPinning\":{\"left\":[\"#row_number#\"],\"right\":[]},\"columnSizing\":{},\"columnVisibility\":{}},\"settings\":{\"columns\":{}},\"syncTimestamp\":1758209033572}",
       "filterBlob": null,
       "queryPlanFiltersBlob": null,
       "tableResultIndex": 2
      },
      "3": {
       "dataGridStateBlob": "{\"version\":1,\"tableState\":{\"columnPinning\":{\"left\":[\"#row_number#\"],\"right\":[]},\"columnSizing\":{},\"columnVisibility\":{}},\"settings\":{\"columns\":{}},\"syncTimestamp\":1758209017636}",
       "filterBlob": null,
       "queryPlanFiltersBlob": null,
       "tableResultIndex": 3
      },
      "4": {
       "dataGridStateBlob": "{\"version\":1,\"tableState\":{\"columnPinning\":{\"left\":[\"#row_number#\"],\"right\":[]},\"columnSizing\":{},\"columnVisibility\":{}},\"settings\":{\"columns\":{}},\"syncTimestamp\":1758209000687}",
       "filterBlob": "{\"version\":1,\"filterGroups\":[],\"syncTimestamp\":1758209012185}",
       "queryPlanFiltersBlob": "[]",
       "tableResultIndex": 4
      }
     },
     "title": ""
    }
   },
   "outputs": [
    {
     "output_type": "stream",
     "name": "stdout",
     "output_type": "stream",
     "text": [
      "Colonnes nettoyées : ['track_name', 'artist_s__name', 'artist_count', 'released_year', 'released_month', 'released_day', 'in_spotify_playlists', 'in_spotify_charts', 'streams', 'in_apple_playlists', 'in_apple_charts', 'in_deezer_playlists', 'in_deezer_charts', 'in_shazam_charts', 'bpm', 'key', 'mode', 'danceability_%', 'valence_%', 'energy_%', 'acousticness_%', 'instrumentalness_%', 'liveness_%', 'speechiness_%']\nStatistiques descriptives sur les streams :\n+-------+-------------------+\n|summary|            streams|\n+-------+-------------------+\n|  count|                951|\n|   mean|5.146780502418507E8|\n| stddev|5.669096048195426E8|\n|    min|          1365184.0|\n|    max|      3.703895074E9|\n+-------+-------------------+\n\nTop 10 artistes par streams cumulés\n"
     ]
    },
    {
     "output_type": "display_data",
     "data": {
      "text/html": [
       "<style scoped>\n",
       "  .table-result-container {\n",
       "    max-height: 300px;\n",
       "    overflow: auto;\n",
       "  }\n",
       "  table, th, td {\n",
       "    border: 1px solid black;\n",
       "    border-collapse: collapse;\n",
       "  }\n",
       "  th, td {\n",
       "    padding: 5px;\n",
       "  }\n",
       "  th {\n",
       "    text-align: left;\n",
       "  }\n",
       "</style><div class='table-result-container'><table class='table-result'><thead style='background-color: white'><tr><th>artist_s__name</th><th>streams_millions</th></tr></thead><tbody><tr><td>The Weeknd</td><td>14,185.6</td></tr><tr><td>Taylor Swift</td><td>14,053.7</td></tr><tr><td>Ed Sheeran</td><td>13,908.9</td></tr><tr><td>Harry Styles</td><td>11,608.6</td></tr><tr><td>Bad Bunny</td><td>9,997.8</td></tr><tr><td>Olivia Rodrigo</td><td>7,442.1</td></tr><tr><td>Eminem</td><td>6,183.8</td></tr><tr><td>Bruno Mars</td><td>5,846.9</td></tr><tr><td>Arctic Monkeys</td><td>5,569.8</td></tr><tr><td>Imagine Dragons</td><td>5,272.5</td></tr></tbody></table></div>"
      ]
     },
     "metadata": {
      "application/vnd.databricks.v1+output": {
       "addedWidgets": {},
       "aggData": [],
       "aggError": "",
       "aggOverflow": false,
       "aggSchema": [],
       "aggSeriesLimitReached": false,
       "aggType": "",
       "arguments": {},
       "columnCustomDisplayInfos": {},
       "data": [
        [
         "The Weeknd",
         "14,185.6"
        ],
        [
         "Taylor Swift",
         "14,053.7"
        ],
        [
         "Ed Sheeran",
         "13,908.9"
        ],
        [
         "Harry Styles",
         "11,608.6"
        ],
        [
         "Bad Bunny",
         "9,997.8"
        ],
        [
         "Olivia Rodrigo",
         "7,442.1"
        ],
        [
         "Eminem",
         "6,183.8"
        ],
        [
         "Bruno Mars",
         "5,846.9"
        ],
        [
         "Arctic Monkeys",
         "5,569.8"
        ],
        [
         "Imagine Dragons",
         "5,272.5"
        ]
       ],
       "datasetInfos": [],
       "dbfsResultPath": null,
       "isJsonSchema": true,
       "metadata": {},
       "overflow": false,
       "plotOptions": {
        "customPlotOptions": {},
        "displayType": "table",
        "pivotAggregation": null,
        "pivotColumns": null,
        "xColumns": null,
        "yColumns": null
       },
       "removedWidgets": [],
       "schema": [
        {
         "metadata": "{}",
         "name": "artist_s__name",
         "type": "\"string\""
        },
        {
         "metadata": "{}",
         "name": "streams_millions",
         "type": "\"string\""
        }
       ],
       "type": "table"
      }
     },
     "output_type": "display_data"
    },
    {
     "output_type": "stream",
     "name": "stdout",
     "output_type": "stream",
     "text": [
      "Nombre de streams par titre\n"
     ]
    },
    {
     "output_type": "display_data",
     "data": {
      "text/html": [
       "<style scoped>\n",
       "  .table-result-container {\n",
       "    max-height: 300px;\n",
       "    overflow: auto;\n",
       "  }\n",
       "  table, th, td {\n",
       "    border: 1px solid black;\n",
       "    border-collapse: collapse;\n",
       "  }\n",
       "  th, td {\n",
       "    padding: 5px;\n",
       "  }\n",
       "  th {\n",
       "    text-align: left;\n",
       "  }\n",
       "</style><div class='table-result-container'><table class='table-result'><thead style='background-color: white'><tr><th>artist_s__name</th><th>track_name</th><th>streams_millions</th></tr></thead><tbody><tr><td>Latto, Jung Kook</td><td>Seven (feat. Latto) (Explicit Ver.)</td><td>141.4</td></tr><tr><td>Myke Towers</td><td>LALA</td><td>133.7</td></tr><tr><td>Olivia Rodrigo</td><td>vampire</td><td>140.0</td></tr><tr><td>Taylor Swift</td><td>Cruel Summer</td><td>800.8</td></tr><tr><td>Bad Bunny</td><td>WHERE SHE GOES</td><td>303.2</td></tr><tr><td>Dave, Central Cee</td><td>Sprinter</td><td>183.7</td></tr><tr><td>Eslabon Armado, Peso Pluma</td><td>Ella Baila Sola</td><td>726.0</td></tr><tr><td>Quevedo</td><td>Columbia</td><td>58.1</td></tr><tr><td>Gunna</td><td>fukumean</td><td>95.2</td></tr><tr><td>Peso Pluma, Yng Lvcas</td><td>La Bebe - Remix</td><td>553.6</td></tr><tr><td>Bad Bunny, Grupo Frontera</td><td>un x100to</td><td>505.7</td></tr><tr><td>NewJeans</td><td>Super Shy</td><td>58.3</td></tr><tr><td>Miley Cyrus</td><td>Flowers</td><td>1,316.9</td></tr><tr><td>David Kushner</td><td>Daylight</td><td>387.6</td></tr><tr><td>Harry Styles</td><td>As It Was</td><td>2,513.2</td></tr><tr><td>SZA</td><td>Kill Bill</td><td>1,163.1</td></tr><tr><td>Fifty Fifty</td><td>Cupid - Twin Ver.</td><td>496.8</td></tr><tr><td>Billie Eilish</td><td>What Was I Made For? [From The Motion Picture \"Barbie\"]</td><td>30.5</td></tr><tr><td>Feid, Young Miko</td><td>Classy 101</td><td>335.2</td></tr><tr><td>Jimin</td><td>Like Crazy</td><td>363.4</td></tr><tr><td>Gabito Ballesteros, Junior H, Peso Pluma</td><td>LADY GAGA</td><td>86.4</td></tr><tr><td>Taylor Swift</td><td>I Can See You (Taylor���s Version) (From The </td><td>52.1</td></tr><tr><td>Arctic Monkeys</td><td>I Wanna Be Yours</td><td>1,297.0</td></tr><tr><td>Bizarrap, Peso Pluma</td><td>Peso Pluma: Bzrp Music Sessions, Vol. 55</td><td>200.6</td></tr><tr><td>The Weeknd, Madonna, Playboi Carti</td><td>Popular (with Playboi Carti & Madonna) - The Idol Vol. 1 (Music from the HBO Original Series)</td><td>115.4</td></tr><tr><td>Fuerza Regida</td><td>SABOR FRESA</td><td>78.3</td></tr><tr><td>R��ma, Selena G</td><td>Calm Down (with Selena Gomez)</td><td>899.2</td></tr><tr><td>Tainy, Bad Bunny</td><td>MOJABI GHOST</td><td>61.2</td></tr><tr><td>Morgan Wallen</td><td>Last Night</td><td>429.8</td></tr><tr><td>Dua Lipa</td><td>Dance The Night (From Barbie The Album)</td><td>127.4</td></tr><tr><td>Troye Sivan</td><td>Rush</td><td>22.6</td></tr><tr><td>Peso Pluma, Grupo Frontera</td><td>TULUM</td><td>52.3</td></tr><tr><td>The Weeknd, 21 Savage, Metro Boomin</td><td>Creepin'</td><td>844.0</td></tr><tr><td>Taylor Swift</td><td>Anti-Hero</td><td>999.7</td></tr><tr><td>Karol G, Shakira</td><td>TQG</td><td>619.0</td></tr><tr><td>Big One, Duki, Lit Killah, Maria Becerra, FMK, Rusherking, Emilia, Tiago pzk</td><td>Los del Espacio</td><td>123.1</td></tr><tr><td>Yahritza Y Su Esencia, Grupo Frontera</td><td>Fr��gil (feat. Grupo Front</td><td>188.9</td></tr><tr><td>Taylor Swift</td><td>Blank Space</td><td>1,356.0</td></tr><tr><td>Taylor Swift</td><td>Style</td><td>786.2</td></tr><tr><td>Fuerza Regida</td><td>TQM</td><td>176.6</td></tr><tr><td>Junior H, Peso Pluma</td><td>El Azul</td><td>354.5</td></tr><tr><td>Post Malone, Swae Lee</td><td>Sunflower - Spider-Man: Into the Spider-Verse</td><td>2,808.1</td></tr><tr><td>Bebe Rexha, David Guetta</td><td>I'm Good (Blue)</td><td>1,109.4</td></tr><tr><td>Tyler, The Creator, Kali Uchis</td><td>See You Again</td><td>1,047.1</td></tr><tr><td>Nicki Minaj, Aqua, Ice Spice</td><td>Barbie World (with Aqua) [From Barbie The Album]</td><td>65.2</td></tr><tr><td>Miley Cyrus</td><td>Angels Like You</td><td>570.5</td></tr><tr><td>OneRepublic</td><td>I Ain't Worried</td><td>1,085.7</td></tr><tr><td>The Weeknd</td><td>Die For You</td><td>1,648.0</td></tr><tr><td>The Weeknd, Daft Punk</td><td>Starboy</td><td>2,565.5</td></tr><tr><td>Ariana Grande, The Weeknd</td><td>Die For You - Remix</td><td>518.7</td></tr><tr><td>Feid, Myke Towers, Sky Rompiendo</td><td>El Cielo</td><td>107.8</td></tr><tr><td>David Guetta, Anne-Marie, Coi Leray</td><td>Baby Don't Hurt Me</td><td>177.7</td></tr><tr><td>Karol G</td><td>AMARGURA</td><td>153.4</td></tr><tr><td>Peggy Gou</td><td>(It Goes Like) Nanana - Edit</td><td>57.9</td></tr><tr><td>Tom Odell</td><td>Another Love</td><td>1,813.7</td></tr><tr><td>The Weeknd</td><td>Blinding Lights</td><td>3,703.9</td></tr><tr><td>Kali Uchis</td><td>Moonlight</td><td>256.5</td></tr><tr><td>Manuel Turizo</td><td>La Bachata</td><td>1,214.1</td></tr><tr><td>Karol G</td><td>S91</td><td>16.0</td></tr><tr><td>Taylor Swift</td><td>cardigan</td><td>812.0</td></tr><tr><td>dennis, MC Kevin o Chris</td><td>T��</td><td>111.9</td></tr><tr><td>PinkPantheress, Ice Spice</td><td>Boy's a liar Pt. 2</td><td>156.3</td></tr><tr><td>Charlie Puth, BTS, Jung Kook</td><td>Left and Right (Feat. Jung Kook of BTS)</td><td>720.4</td></tr><tr><td>Rauw Alejandro, ROSAL�</td><td>BESO</td><td>357.9</td></tr><tr><td>Ozuna, Feid</td><td>Hey Mor</td><td>674.1</td></tr><tr><td>Chris Molitor</td><td>Yellow</td><td>1,755.2</td></tr><tr><td>Taylor Swift</td><td>Karma</td><td>404.6</td></tr><tr><td>Libianca</td><td>People</td><td>373.2</td></tr><tr><td>Post Malone</td><td>Overdrive</td><td>14.8</td></tr><tr><td>Taylor Swift</td><td>Enchanted (Taylor's Version)</td><td>39.6</td></tr><tr><td>Rauw Alejandro, Bizarrap</td><td>BABY HELLO</td><td>54.3</td></tr><tr><td>Glass Animals</td><td>Heat Waves</td><td>2,558.0</td></tr><tr><td>JVKE</td><td>golden hour</td><td>751.1</td></tr><tr><td>The Neighbourhood</td><td>Sweater Weather</td><td>2,282.8</td></tr><tr><td>Bizarrap, Quevedo</td><td>Quevedo: Bzrp Music Sessions, Vol. 52</td><td>1,356.6</td></tr><tr><td>Coldplay</td><td>Viva La Vida</td><td>1,592.9</td></tr><tr><td>d4vd</td><td>Here With Me</td><td>635.4</td></tr><tr><td>Sam Smith, Kim Petras</td><td>Unholy (feat. Kim Petras)</td><td>1,230.7</td></tr><tr><td>Yandel, Feid</td><td>Yandel 150</td><td>585.7</td></tr><tr><td>Maria Becerra</td><td>CORAZ��N VA</td><td>43.9</td></tr><tr><td>Vance Joy</td><td>Riptide</td><td>2,009.1</td></tr><tr><td>Em Beihold, Stephen Sanchez</td><td>Until I Found You (with Em Beihold) - Em Beihold Version</td><td>601.0</td></tr><tr><td>Mc Livinho, DJ Matt D</td><td>Novidade na ��</td><td>39.7</td></tr><tr><td>Taylor Swift</td><td>Back To December (Taylor's Version)</td><td>39.2</td></tr><tr><td>Justin Bieber, The Kid Laroi</td><td>STAY (with Justin Bieber)</td><td>2,665.3</td></tr><tr><td>Marshmello, Manuel Turizo</td><td>El Merengue</td><td>223.6</td></tr><tr><td>Lewis Capaldi</td><td>Someone You Loved</td><td>2,887.2</td></tr><tr><td>Chencho Corleone, Bad Bunny</td><td>Me Porto Bonito</td><td>1,440.8</td></tr><tr><td>Jain</td><td>Makeba</td><td>165.5</td></tr><tr><td>Ayparia, unxbected</td><td>MONTAGEM - FR PUNK</td><td>58.1</td></tr><tr><td>Luke Combs</td><td>Fast Car</td><td>157.1</td></tr><tr><td>Doechii</td><td>What It Is (Solo Version)</td><td>95.1</td></tr><tr><td>Bad Bunny, Eladio Carrion</td><td>Coco Chanel</td><td>250.3</td></tr><tr><td>Taylor Swift</td><td>Don���t Bl</td><td>685.0</td></tr><tr><td>Jung Kook</td><td>Still With You</td><td>38.4</td></tr><tr><td>J. Cole, Lil Durk</td><td>All My Life (feat. J. Cole)</td><td>144.6</td></tr><tr><td>Lana Del Rey</td><td>Say Yes To Heaven</td><td>127.6</td></tr><tr><td>SZA</td><td>Snooze</td><td>399.7</td></tr><tr><td>Lana Del Rey</td><td>Summertime Sadness</td><td>983.6</td></tr><tr><td>BTS</td><td>Take Two</td><td>118.5</td></tr><tr><td>Taylor Swift</td><td>Lover</td><td>882.8</td></tr><tr><td>Future, Metro Boomin, Don Toliver</td><td>Too Many Nights (feat. Don Toliver & with Future)</td><td>286.4</td></tr><tr><td>Post Malone</td><td>Chemical</td><td>172.8</td></tr><tr><td>Eminem</td><td>Mockingbird</td><td>1,241.6</td></tr><tr><td>NewJeans</td><td>New Jeans</td><td>29.6</td></tr><tr><td>Carin Leon</td><td>Primera Cita</td><td>77.3</td></tr><tr><td>Dua Lipa, Elton John, Pnau</td><td>Cold Heart - PNAU Remix</td><td>1,605.2</td></tr><tr><td>Ruth B.</td><td>Dandelions</td><td>1,117.0</td></tr><tr><td>Imagine Dragons</td><td>Bones</td><td>838.1</td></tr><tr><td>Adele</td><td>Set Fire to the Rain</td><td>1,163.6</td></tr><tr><td>Kendrick Lamar, Jay Rock</td><td>Money Trees</td><td>1,093.6</td></tr><tr><td>Anggi Marito</td><td>Tak Segampang Itu</td><td>179.7</td></tr><tr><td>Jasiel Nu��ez, Peso P</td><td>LAGUNAS</td><td>39.1</td></tr><tr><td>Taylor Swift</td><td>Mine (Taylor's Version)</td><td>36.9</td></tr><tr><td>Tears For Fears</td><td>Everybody Wants To Rule The World</td><td>1,206.0</td></tr><tr><td>J. Cole</td><td>No Role Modelz</td><td>1,791.0</td></tr><tr><td>Loreen</td><td>Tattoo</td><td>201.7</td></tr><tr><td>Taiu, Milo j</td><td>Rara Vez</td><td>248.1</td></tr><tr><td>Sebastian Yatra, Manuel Turizo, Be��</td><td>VAGABUNDO</td><td>90.8</td></tr><tr><td>Taylor Swift</td><td>august</td><td>607.1</td></tr><tr><td>Junior H, Peso Pluma</td><td>LUNA</td><td>55.8</td></tr><tr><td>Calvin Harris, Ellie Goulding</td><td>Miracle (with Ellie Goulding)</td><td>211.1</td></tr><tr><td>Sabrina Carpenter</td><td>Nonsense</td><td>342.9</td></tr><tr><td>Peso Pluma</td><td>Por las Noches</td><td>330.3</td></tr><tr><td>Feid</td><td>Feliz Cumplea��os Fe</td><td>601.9</td></tr><tr><td>Ray Dalton, Ryan Lewis, Macklemore</td><td>Can't Hold Us (feat. Ray Dalton)</td><td>1,953.5</td></tr><tr><td>Harry Styles</td><td>Watermelon Sugar</td><td>2,322.6</td></tr><tr><td>Billie Eilish, Khalid</td><td>lovely - Bonus Track</td><td>2,355.7</td></tr><tr><td>Rauw Alejandro, Bizarrap</td><td>Rauw Alejandro: Bzrp Music Sessions, Vol. 56</td><td>66.9</td></tr><tr><td>(G)I-DLE</td><td>Queencard</td><td>96.3</td></tr><tr><td>NewJeans</td><td>OMG</td><td>431.0</td></tr><tr><td>Lana Del Rey</td><td>Radio</td><td>284.8</td></tr><tr><td>Shakira, Bizarrap</td><td>Shakira: Bzrp Music Sessions, Vol. 53</td><td>722.0</td></tr><tr><td>Arctic Monkeys</td><td>505</td><td>1,217.1</td></tr><tr><td>Swae Lee, A Boogie Wit da Hoodie, Metro Boomin, NAV</td><td>Calling (Spider-Man: Across the Spider-Verse) (Metro Boomin & Swae Lee, NAV, feat. A Boogie Wit da Hoodie)</td><td>109.3</td></tr><tr><td>Travis Scott, Young Thug, Metro Boomin</td><td>Trance (with Travis Scott & Young Thug)</td><td>276.3</td></tr><tr><td>Sachin-Jigar, Shadab Faridi, Altamash Faridi, Amitabh Bhattacharya, Varun Jain</td><td>Tere Vaaste (From \"Zara Hatke Zara Bachke\")</td><td>54.2</td></tr><tr><td>Ed Sheeran</td><td>Perfect</td><td>2,559.5</td></tr><tr><td>d4vd</td><td>Romantic Homicide</td><td>681.6</td></tr><tr><td>Imagine Dragons</td><td>Believer</td><td>2,594.0</td></tr><tr><td>Veigh, Bvga Beatz, Supernova Ent, Prod Malax</td><td>Novo Balan�</td><td>81.1</td></tr><tr><td>Mc Pedrinho, DJ 900</td><td>Gol Bolinha, Gol Quadrado 2</td><td>12.0</td></tr><tr><td>Eminem</td><td>Without Me</td><td>1,687.7</td></tr><tr><td>Sog, Ryan Castro, Peso Pluma</td><td>QUEMA</td><td>11.6</td></tr><tr><td>The Weeknd, Lana Del Rey</td><td>Stargirl Interlude</td><td>611.7</td></tr><tr><td>Bomba Est��reo, Bad B</td><td>Ojitos Lindos</td><td>1,133.9</td></tr><tr><td>Keane</td><td>Somewhere Only We Know</td><td>1,089.4</td></tr><tr><td>New West</td><td>Those Eyes</td><td>411.7</td></tr><tr><td>Chino Pacas</td><td>El Gordo Trae El Mando</td><td>255.9</td></tr><tr><td>Natanael Cano</td><td>Mi Bello Angel</td><td>31.9</td></tr><tr><td>Peso Pluma</td><td>Bye</td><td>95.1</td></tr><tr><td>Don Omar, Lucenzo</td><td>Danza Kuduro</td><td>1,279.4</td></tr><tr><td>Ana Castela, AgroPlay</td><td>Nosso Quadro</td><td>233.8</td></tr><tr><td>Bruno Mars</td><td>Locked Out Of Heaven</td><td>1,481.3</td></tr><tr><td>Big One, FMK, Ke personajes</td><td>Un Finde | CROSSOVER #2</td><td>142.1</td></tr><tr><td>Drake, 21 Savage</td><td>Jimmy Cooks (feat. 21 Savage)</td><td>618.9</td></tr><tr><td>OneRepublic</td><td>Counting Stars</td><td>2,011.5</td></tr><tr><td>Justin Bieber</td><td>Ghost</td><td>1,167.3</td></tr><tr><td>Chris Brown</td><td>Under The Influence</td><td>930.0</td></tr><tr><td>Natanael Cano, Peso Pluma</td><td>PRC</td><td>436.0</td></tr><tr><td>Daddy Yankee</td><td>Gasolina</td><td>657.7</td></tr><tr><td>Drake, WizKid, Kyla</td><td>One Dance</td><td>2,713.9</td></tr><tr><td>Taylor Swift</td><td>Enchanted</td><td>621.7</td></tr><tr><td>The Weeknd</td><td>Save Your Tears</td><td>1,591.2</td></tr><tr><td>Miguel</td><td>Sure Thing</td><td>950.9</td></tr><tr><td>The Police</td><td>Every Breath You Take - Remastered 2003</td><td>1,593.3</td></tr><tr><td>Lord Huron</td><td>The Night We Met</td><td>1,410.1</td></tr><tr><td>Rihanna, Calvin Harris</td><td>We Found Love</td><td>1,235.0</td></tr><tr><td>Bruno Mars</td><td>When I Was Your Man</td><td>1,661.2</td></tr><tr><td>Alec Benjamin</td><td>Let Me Down Slowly</td><td>1,374.6</td></tr><tr><td>A$AP Rocky, Metro Boomin, Roisee</td><td>Am I Dreaming (Metro Boomin & A$AP Rocky, Roisee)</td><td>94.2</td></tr><tr><td>Arctic Monkeys</td><td>Do I Wanna Know?</td><td>1,788.3</td></tr><tr><td>Imagine Dragons</td><td>Demons</td><td>1,840.4</td></tr><tr><td>YOASOBI</td><td>������������</td><td>143.6</td></tr><tr><td>The Weeknd</td><td>Reminder</td><td>684.7</td></tr><tr><td>Taylor Swift</td><td>Shake It Off</td><td>1,113.8</td></tr><tr><td>Arctic Monkeys</td><td>Why'd You Only Call Me When You're High?</td><td>1,267.3</td></tr><tr><td>Rosa Linn</td><td>SNAP</td><td>726.3</td></tr><tr><td>Ed Sheeran</td><td>Shape of You</td><td>3,562.5</td></tr><tr><td>One Direction</td><td>Night Changes</td><td>1,131.1</td></tr><tr><td>Oscar Maydon, Junior H</td><td>Fin de Semana</td><td>307.4</td></tr><tr><td>Radiohead</td><td>Creep</td><td>1,271.3</td></tr><tr><td>James Arthur</td><td>Car's Outside</td><td>265.9</td></tr><tr><td>Cigarettes After Sex</td><td>Apocalypse</td><td>841.7</td></tr><tr><td>Shubh</td><td>Cheques</td><td>48.0</td></tr><tr><td>Frank Ocean</td><td>Pink + White</td><td>806.4</td></tr><tr><td>Post Malone</td><td>Circles</td><td>2,132.3</td></tr><tr><td>Bruno Mars</td><td>Just The Way You Are</td><td>1,641.4</td></tr><tr><td>Hozier</td><td>Take Me To Church</td><td>2,135.2</td></tr><tr><td>Fuerza Regida, Grupo Frontera</td><td>Bebe Dame</td><td>367.3</td></tr><tr><td>Taylor Swift</td><td>You Belong With Me (Taylor���s Ve</td><td>350.4</td></tr><tr><td>Bad Bunny</td><td>Titi Me Pregunt�</td><td>1,264.3</td></tr><tr><td>Taylor Swift</td><td>Better Than Revenge (Taylor's Version)</td><td>30.3</td></tr><tr><td>Hotel Ugly</td><td>Shut up My Moms Calling</td><td>405.1</td></tr><tr><td>Creedence Clearwater Revival</td><td>Have You Ever Seen The Rain?</td><td>1,145.7</td></tr><tr><td>Plan B</td><td>Es un Secreto</td><td>540.7</td></tr><tr><td>Feid, Mora, Saiko, Quevedo</td><td>POLARIS - Remix</td><td>57.3</td></tr><tr><td>NewJeans</td><td>Ditto</td><td>397.6</td></tr><tr><td>a-ha</td><td>Take On Me</td><td>1,479.1</td></tr><tr><td>Swae Lee, Lil Wayne, Offset, Metro Boomin</td><td>Annihilate (Spider-Man: Across the Spider-Verse) (Metro Boomin & Swae Lee, Lil Wayne, Offset)</td><td>86.8</td></tr><tr><td>Kodak Black, NLE Choppa, Muni Long, JVKE, Jimin</td><td>Angel Pt 1 (feat. Jimin of BTS, JVKE & Muni Long)</td><td>133.8</td></tr><tr><td>Shakira</td><td>Acr��s</td><td>123.1</td></tr><tr><td>Natanael Cano, Gabito Ballesteros, Peso Pluma</td><td>AMG</td><td>463.6</td></tr><tr><td>Arijit Singh, Sachin-Jigar, Amitabha Bhattacharya</td><td>Phir Aur Kya Chahiye (From \"Zara Hatke Zara Bachke\")</td><td>64.5</td></tr><tr><td>Stray Kids</td><td>S-Class</td><td>65.5</td></tr><tr><td>Taylor Swift</td><td>Hits Different</td><td>68.6</td></tr><tr><td>Becky G, Peso Pluma</td><td>Chanel</td><td>161.5</td></tr><tr><td>Metro Boomin, Coi Leray</td><td>Self Love (Spider-Man: Across the Spider-Verse) (Metro Boomin & Coi Leray)</td><td>70.1</td></tr><tr><td>Kaliii, Kaliii</td><td>Area Codes</td><td>113.5</td></tr><tr><td>Junior H, Eden Mu��</td><td>Abcdario</td><td>89.9</td></tr><tr><td>Abhijay Sharma, Riar Saab</td><td>Obsessed</td><td>71.0</td></tr><tr><td>Semicenk, Do��u </td><td>Pi��man De�</td><td>43.5</td></tr><tr><td>JISOO</td><td>FLOWER</td><td>232.9</td></tr><tr><td>Future, Lil Uzi Vert, Metro Boomin</td><td>All The Way Live (Spider-Man: Across the Spider-Verse) (Metro Boomin & Future, Lil Uzi Vert)</td><td>37.1</td></tr><tr><td>Ed Sheeran</td><td>Eyes Closed</td><td>195.6</td></tr><tr><td>RAYE, 070 Shake</td><td>Escapism.</td><td>532.3</td></tr><tr><td>Arcangel, Bad Bunny</td><td>La Jumpa</td><td>538.1</td></tr><tr><td>Taylor Swift, Ice Spice</td><td>Karma (feat. Ice Spice)</td><td>46.1</td></tr><tr><td>Future, Chris Brown, Metro Boomin</td><td>Superhero (Heroes & Villains) [with Future & Chris Brown]</td><td>401.0</td></tr><tr><td>BLESSD, Peso Pluma</td><td>Las Morras</td><td>127.0</td></tr><tr><td>Feid</td><td>CHORRITO PA LAS ANIMAS</td><td>345.0</td></tr><tr><td>Fuerza Regida, Natanael Cano</td><td>Ch y la Pizza</td><td>288.1</td></tr><tr><td>Lana Del Rey, Taylor Swift</td><td>Snow On The Beach (feat. More Lana Del Rey)</td><td>60.4</td></tr><tr><td>Coi Leray</td><td>Players</td><td>335.1</td></tr><tr><td>ENHYPEN</td><td>Bite Me</td><td>76.8</td></tr><tr><td>Lil Durk, Morgan Wallen</td><td>Stand By Me (feat. Morgan Wallen)</td><td>46.1</td></tr><tr><td>Feid</td><td>Normal</td><td>459.3</td></tr><tr><td>James Blake, Metro Boomin</td><td>Hummingbird (Metro Boomin & James Blake)</td><td>39.7</td></tr><tr><td>Israel & Rodolffo, Mari Fernandez</td><td>Seu Brilho Sumiu - Ao Vivo</td><td>138.5</td></tr><tr><td>Steve Lacy</td><td>Bad Habit</td><td>822.6</td></tr><tr><td>Beyonc�</td><td>CUFF IT</td><td>595.9</td></tr><tr><td>Halsey, Suga</td><td>Lilith (feat. SUGA of BTS) (Diablo IV Anthem)</td><td>52.0</td></tr><tr><td>Nicky Jam, Feid</td><td>69</td><td>57.9</td></tr><tr><td>Sean Paul, Feid</td><td>Ni��a Bo</td><td>115.0</td></tr><tr><td>Drake</td><td>Search & Rescue</td><td>175.1</td></tr><tr><td>Kendrick Lamar, Beyonc�</td><td>AMERICA HAS A PROBLEM (feat. Kendrick Lamar)</td><td>57.1</td></tr><tr><td>Taylor Swift</td><td>Lavender Haze</td><td>488.4</td></tr><tr><td>WizKid, Toian, Metro Boomin, Don Toliver, Beam</td><td>Link Up (Metro Boomin & Don Toliver, Wizkid feat. BEAM & Toian) - Spider-Verse Remix (Spider-Man: Across the Spider-Verse )</td><td>32.8</td></tr><tr><td>Bad Bunny</td><td>Efecto</td><td>1,047.5</td></tr><tr><td>Simone Mendes</td><td>Erro Gostoso - Ao Vivo</td><td>153.5</td></tr><tr><td>Tini</td><td>Cupido</td><td>217.7</td></tr><tr><td>Lil Uzi Vert</td><td>Just Wanna Rock</td><td>457.2</td></tr><tr><td>Sia</td><td>Unstoppable</td><td>939.8</td></tr><tr><td>Stephen Sanchez</td><td>Until I Found You</td><td>726.4</td></tr><tr><td>Drake, 21 Savage</td><td>Rich Flex</td><td>573.6</td></tr><tr><td>Adele</td><td>Easy On Me</td><td>1,406.1</td></tr><tr><td>MC Caverinha, KayBlack</td><td>Cart��o B</td><td>71.6</td></tr><tr><td>Offset, JID</td><td>Danger (Spider) (Offset & JID)</td><td>25.0</td></tr><tr><td>Z�� Neto & Crist</td><td>Oi Balde - Ao Vivo</td><td>145.5</td></tr><tr><td>Eminem</td><td>The Real Slim Shady</td><td>1,424.6</td></tr><tr><td>Migrantes, LiL CaKe, Nico Valdi</td><td>MERCHO</td><td>231.3</td></tr><tr><td>Tory Lanez</td><td>The Color Violet</td><td>415.9</td></tr><tr><td>Joji</td><td>Glimpse of Us</td><td>988.5</td></tr><tr><td>Mambo Kingz, DJ Luian, Anuel Aa</td><td>Mejor Que Yo</td><td>50.8</td></tr><tr><td>Ed Sheeran</td><td>Curtains</td><td>39.9</td></tr><tr><td>Nile Rodgers, LE SSERAFIM</td><td>UNFORGIVEN (feat. Nile Rodgers)</td><td>92.0</td></tr><tr><td>Agust D</td><td>Haegeum</td><td>118.8</td></tr><tr><td>Rich The Kid, Matu�</td><td>Conex��es de M��fia (feat. Rich </td><td>77.2</td></tr><tr><td>Karol G</td><td>MIENTRAS ME CURO DEL CORA</td><td>206.4</td></tr><tr><td>Labrinth</td><td>Never Felt So Alone</td><td>117.7</td></tr><tr><td>Karol G, Romeo Santos</td><td>X SI VOLVEMOS</td><td>266.6</td></tr><tr><td>Lizzy McAlpine</td><td>ceilings</td><td>293.2</td></tr><tr><td>Fifty Fifty</td><td>Cupid</td><td>139.7</td></tr><tr><td>IVE</td><td>I AM</td><td>123.1</td></tr><tr><td>sped up 8282</td><td>Cupid ��� Twin Ver. (FIFTY FIFTY) ��� Spe</td><td>103.8</td></tr><tr><td>Cartel De Santa, La Kelly</td><td>Shorty Party</td><td>162.9</td></tr><tr><td>SEVENTEEN</td><td>Super</td><td>91.2</td></tr><tr><td>NLE Choppa</td><td>Slut Me Out</td><td>190.5</td></tr><tr><td>The Weeknd, Future</td><td>Double Fantasy (with Future)</td><td>96.2</td></tr><tr><td>Taylor Swift</td><td>All Of The Girls You Loved Before</td><td>185.2</td></tr><tr><td>Karol G</td><td>PROVENZA</td><td>885.1</td></tr><tr><td>Nicki Minaj, Ice Spice</td><td>Princess Diana (with Nicki Minaj)</td><td>105.0</td></tr><tr><td>Grupo Marca Registrada, Grupo Frontera</td><td>Di Que Si</td><td>147.3</td></tr><tr><td>Ed Sheeran</td><td>Shivers</td><td>1,302.2</td></tr><tr><td>Fuerza Regida, Peso Pluma</td><td>Igualito a Mi Ap�</td><td>159.0</td></tr><tr><td>TAEYANG, Lisa</td><td>Shoong! (feat. LISA of BLACKPINK)</td><td>76.9</td></tr><tr><td>Raim Laode</td><td>Komang</td><td>137.1</td></tr><tr><td>ROSAL�</td><td>DESPECH�</td><td>782.4</td></tr><tr><td>Meghan Trainor</td><td>Made You Look</td><td>502.6</td></tr><tr><td>sped up nightcore, ARIZONATEARS, Lil Uzi Vert</td><td>Watch This - ARIZONATEARS Pluggnb Remix</td><td>207.0</td></tr><tr><td>Grupo Frontera</td><td>No Se Va</td><td>404.9</td></tr><tr><td>Quevedo</td><td>Punto G</td><td>381.2</td></tr><tr><td>TV Girl</td><td>Lovers Rock</td><td>466.2</td></tr><tr><td>INTERWORLD</td><td>METAMORPHOSIS</td><td>357.6</td></tr><tr><td>Quevedo, Jhayco</td><td>Mami Chula</td><td>61.1</td></tr><tr><td>El Chachito, Junior H</td><td>En Paris</td><td>198.3</td></tr><tr><td>Jimin</td><td>Set Me Free Pt.2</td><td>168.4</td></tr><tr><td>The Weeknd, Gesaffelstein</td><td>I Was Never There</td><td>705.5</td></tr><tr><td>RM, Colde</td><td>Don't ever say love me (feat. RM of BTS)</td><td>34.5</td></tr><tr><td>BLACKPINK</td><td>Shut Down</td><td>482.2</td></tr><tr><td>Nengo Flow, Bad Bunny</td><td>Gato de Noche</td><td>304.1</td></tr><tr><td>The Weeknd</td><td>Call Out My Name</td><td>1,449.8</td></tr><tr><td>Jimin</td><td>Like Crazy (English Version)</td><td>173.6</td></tr><tr><td>Jasiel Nu��ez, Peso P</td><td>Rosa Pastel</td><td>90.0</td></tr><tr><td>Nicky Youre, Dazy</td><td>Sunroof</td><td>652.7</td></tr><tr><td>Eminem</td><td>Lose Yourself - Soundtrack Version</td><td>1,830.0</td></tr><tr><td>Eminem, Dina Rae</td><td>Superman</td><td>655.5</td></tr><tr><td>Mambo Kingz, DJ Luian, Anuel Aa</td><td>Mas Rica Que Ayer</td><td>146.4</td></tr><tr><td>IU, Agust D</td><td>People Pt.2 (feat. IU)</td><td>95.8</td></tr><tr><td>Feid</td><td>REMIX EXCLUSIVO</td><td>117.2</td></tr><tr><td>Arcangel, Bizarrap</td><td>Arc��ngel: Bzrp Music Sessions, Vol</td><td>100.4</td></tr><tr><td>Tyler, The Creator</td><td>DOGTOOTH</td><td>80.8</td></tr><tr><td>Ti��sto, Tate M</td><td>10:35</td><td>325.6</td></tr><tr><td>Tyler, The Creator</td><td>SORRY NOT SORRY</td><td>58.5</td></tr><tr><td>NF</td><td>HAPPY</td><td>52.7</td></tr><tr><td>Yng Lvcas</td><td>La Bebe</td><td>191.9</td></tr><tr><td>Kanii, PR1ISVX</td><td>I Know - PR1SVX Edit</td><td>77.4</td></tr><tr><td>Harry Styles</td><td>Late Night Talking</td><td>743.7</td></tr><tr><td>Mar��lia Mendo</td><td>Le�</td><td>267.8</td></tr><tr><td>Ariana Grande, The Weeknd</td><td>Save Your Tears (with Ariana Grande) (Remix)</td><td>1,221.8</td></tr><tr><td>Zach Bryan</td><td>Something in the Orange</td><td>449.7</td></tr><tr><td>Melanie Martinez</td><td>VOID</td><td>67.1</td></tr><tr><td>Fuerza Regida, Chino Pacas</td><td>Dijeron Que No La Iba Lograr</td><td>116.3</td></tr><tr><td>Taylor Swift</td><td>Midnight Rain</td><td>433.4</td></tr><tr><td>Mae Stephens</td><td>If We Ever Broke Up</td><td>165.6</td></tr><tr><td>Morgan Wallen</td><td>You Proof</td><td>367.8</td></tr><tr><td>Feid, Mora</td><td>LA INOCENTE</td><td>477.0</td></tr><tr><td>Kenia OS</td><td>Malas Decisiones</td><td>156.2</td></tr><tr><td>Kordhell</td><td>Murder In My Mind</td><td>448.8</td></tr><tr><td>Coolio, L.V.</td><td>Gangsta's Paradise</td><td>1,357.6</td></tr><tr><td>Karol G, Ovy On The Drums</td><td>CAIRO</td><td>294.4</td></tr><tr><td>The Walters</td><td>I Love You So</td><td>972.2</td></tr><tr><td>Steve Lacy</td><td>Dark Red</td><td>920.0</td></tr><tr><td>James Arthur</td><td>Say You Won't Let Go</td><td>2,420.5</td></tr><tr><td>The Weeknd</td><td>The Hills</td><td>1,947.4</td></tr><tr><td>Mac DeMarco</td><td>Heart To Heart</td><td>244.7</td></tr><tr><td>Jack Black</td><td>Peaches (from The Super Mario Bros. Movie)</td><td>68.2</td></tr><tr><td>Duki, NICKI NICOLE, Cris Mj, Standly, Stars Music Chile</td><td>Marisola - Remix</td><td>223.6</td></tr><tr><td>Brray, Rauw Alejandro, Lyanno</td><td>LOKERA</td><td>471.8</td></tr><tr><td>SZA</td><td>Low</td><td>272.4</td></tr><tr><td>Linkin Park</td><td>Numb</td><td>1,361.4</td></tr><tr><td>Gorillaz, Bad Bunny</td><td>Tormenta (feat. Bad Bunny)</td><td>149.8</td></tr><tr><td>j-hope, J. Cole</td><td>on the street (with J. Cole)</td><td>116.6</td></tr><tr><td>Morgan Wallen</td><td>One Thing At A Time</td><td>148.5</td></tr><tr><td>Robin Schulz, Oliver Tree</td><td>Miss You</td><td>497.2</td></tr><tr><td>Morgan Wallen</td><td>Ain���t Tha</td><td>88.8</td></tr><tr><td>Morgan Wallen</td><td>Thinkin��� B</td><td>125.9</td></tr><tr><td>Don Toliver, Future, Justin Bieber</td><td>Private Landing (feat. Justin Bieber & Future)</td><td>105.1</td></tr><tr><td>Morgan Wallen</td><td>Everything I Love</td><td>95.6</td></tr><tr><td>Niall Horan</td><td>Heaven</td><td>144.6</td></tr><tr><td>Central Cee</td><td>LET GO</td><td>298.1</td></tr><tr><td>Mahalini</td><td>Sial</td><td>166.6</td></tr><tr><td>Morgan Wallen</td><td>I Wrote The Book</td><td>83.0</td></tr><tr><td>Arijit Singh, Sachin-Jigar</td><td>Apna Bana Le (From \"Bhediya\")</td><td>139.8</td></tr><tr><td>ThxSoMch</td><td>SPIT IN MY FACE!</td><td>303.2</td></tr><tr><td>Myke Towers, Quevedo</td><td>PLAYA DEL INGL�</td><td>221.4</td></tr><tr><td>Morgan Wallen, Eric Church</td><td>Man Made A Bar (feat. Eric Church)</td><td>58.9</td></tr><tr><td>Nicki Minaj</td><td>Red Ruby Da Sleeze</td><td>81.4</td></tr><tr><td>Kaifi Khalil</td><td>Kahani Suno 2.0</td><td>156.8</td></tr><tr><td>SZA</td><td>Nobody Gets Me</td><td>284.9</td></tr><tr><td>Karol G, Quevedo</td><td>PERO T�</td><td>93.4</td></tr><tr><td>NewJeans</td><td>Hype Boy</td><td>363.5</td></tr><tr><td>Lady Gaga</td><td>Bloody Mary</td><td>372.5</td></tr><tr><td>Ozuna, Shakira</td><td>Monoton�</td><td>380.7</td></tr><tr><td>Morgan Wallen</td><td>���98 Braves</td><td>56.5</td></tr><tr><td>Quevedo</td><td>WANDA</td><td>175.4</td></tr><tr><td>Morgan Wallen</td><td>Thought You Should Know</td><td>203.2</td></tr><tr><td>Linkin Park</td><td>In The End</td><td>1,624.2</td></tr><tr><td>Leo Santana</td><td>Zona De Perigo</td><td>134.3</td></tr><tr><td>Treyce</td><td>Lovezinho</td><td>70.1</td></tr><tr><td>Post Malone, Doja Cat</td><td>I Like You (A Happier Song) (with Doja Cat)</td><td>609.3</td></tr><tr><td>Bad Bunny</td><td>Neverita</td><td>671.4</td></tr><tr><td>Quevedo</td><td>Vista Al Mar</td><td>362.4</td></tr><tr><td>MC Xenon, Os Gemeos da Putaria</td><td>Sem Alian��a no </td><td>93.6</td></tr><tr><td>Imagine Dragons, League of Legends, JID, Arcane</td><td>Enemy (with JID) - from the series Arcane League of Legends</td><td>1,223.5</td></tr><tr><td>XXXTENTACION</td><td>Revenge</td><td>1,022.3</td></tr><tr><td>Israel & Rodolffo, Ana Castela</td><td>Bombonzinho - Ao Vivo</td><td>263.5</td></tr><tr><td>J Balvin, Bad Bunny</td><td>LA CANCI�</td><td>1,435.1</td></tr><tr><td>Yuridia, Angela Aguilar</td><td>Qu�� Ago</td><td>236.9</td></tr><tr><td>The Kid Laroi</td><td>Love Again</td><td>147.5</td></tr><tr><td>The Weeknd</td><td>After Hours</td><td>698.1</td></tr><tr><td>Lizzo</td><td>About Damn Time</td><td>723.9</td></tr><tr><td>Morgan Wallen</td><td>Born With A Beer In My Hand</td><td>34.5</td></tr><tr><td>Fujii Kaze</td><td>���������������������</td><td>403.1</td></tr><tr><td>Wisin & Yandel, ROSAL�</td><td>Besos Moja2</td><td>309.5</td></tr><tr><td>King</td><td>Maan Meri Jaan</td><td>319.6</td></tr><tr><td>Bad Bunny</td><td>Moscow Mule</td><td>909.0</td></tr><tr><td>Coldplay, BTS</td><td>My Universe</td><td>1,062.0</td></tr><tr><td>Morgan Wallen</td><td>Devil Don���</td><td>32.5</td></tr><tr><td>ROSAL�</td><td>LLYLM</td><td>125.0</td></tr><tr><td>Sam Smith, Calvin Harris, Jessie Reyez</td><td>I'm Not Here To Make Friends</td><td>103.8</td></tr><tr><td>P!nk</td><td>TRUSTFALL</td><td>134.3</td></tr><tr><td>LE SSERAFIM</td><td>ANTIFRAGILE</td><td>301.1</td></tr><tr><td>PinkPantheress</td><td>Boy's a liar</td><td>156.3</td></tr><tr><td>TAEYANG, Jimin</td><td>VIBE (feat. Jimin of BTS)</td><td>152.9</td></tr><tr><td>SZA</td><td>Shirt</td><td>309.7</td></tr><tr><td>Rihanna</td><td>Lift Me Up - From Black Panther: Wakanda Forever - Music From and Inspired By</td><td>297.3</td></tr><tr><td>Lil Nas X</td><td>STAR WALKIN' (League of Legends Worlds Anthem)</td><td>332.5</td></tr><tr><td>Beach Weather</td><td>Sex, Drugs, Etc.</td><td>480.5</td></tr><tr><td>Halsey, BTS</td><td>Boy With Luv (feat. Halsey)</td><td>1,065.6</td></tr><tr><td>Baby Tate</td><td>Hey, Mickey!</td><td>122.8</td></tr><tr><td>R��</td><td>Calm Down</td><td>445.8</td></tr><tr><td>Arijit Singh, Vishal Dadlani, Sukriti Kakar, Vishal-Shekhar, Shekhar Ravjiani, Kumaar</td><td>Jhoome Jo Pathaan</td><td>1.4</td></tr><tr><td>RAYE, 070 Shake</td><td>Escapism. - Sped Up</td><td>184.3</td></tr><tr><td>Beach House</td><td>Space Song</td><td>789.8</td></tr><tr><td>BTS, Jung Kook, FIFA Sound</td><td>Dreamers [Music from the FIFA World Cup Qatar 2022 Official Soundtrack]</td><td>323.4</td></tr><tr><td>Shakira, Rauw Alejandro</td><td>Te Felicito</td><td>606.4</td></tr><tr><td>Steve Aoki, Tini, La Joaqui</td><td>Mu��</td><td>121.0</td></tr><tr><td>Billie Eilish</td><td>TV</td><td>338.6</td></tr><tr><td>Sam Smith</td><td>I'm Not The Only One</td><td>1,607.0</td></tr><tr><td>Conan Gray</td><td>Heather</td><td>1,301.8</td></tr><tr><td>Vishal-Shekhar, Shilpa Rao, Caralisa Monteiro, Kumaar, Vishal Dadlani, Shekhar Ravjiani</td><td>Besharam Rang (From \"Pathaan\")</td><td>140.2</td></tr><tr><td>Calvin Harris, Dua Lipa</td><td>One Kiss (with Dua Lipa)</td><td>1,897.5</td></tr><tr><td>TOMORROW X TOGETHER</td><td>Sugar Rush Ride</td><td>107.6</td></tr><tr><td>BLACKPINK</td><td>Pink Venom</td><td>551.3</td></tr><tr><td>Drake, Future, Tems</td><td>WAIT FOR U (feat. Drake & Tems)</td><td>556.6</td></tr><tr><td>Dua Lipa</td><td>Don't Start Now</td><td>2,303.0</td></tr><tr><td>Mr.Kitty</td><td>After Dark</td><td>646.9</td></tr><tr><td>Gustavo Mioto, Mari Fernandez</td><td>Eu Gosto Assim - Ao Vivo</td><td>222.6</td></tr><tr><td>Jack Harlow, Lil Nas X</td><td>INDUSTRY BABY (feat. Jack Harlow)</td><td>1,814.3</td></tr><tr><td>Elley Duh�</td><td>MIDDLE OF THE NIGHT</td><td>872.1</td></tr><tr><td>Seafret</td><td>Atlantis</td><td>571.4</td></tr><tr><td>Baby Rasta, Rauw Alejandro</td><td>PUNTO 40</td><td>304.1</td></tr><tr><td>DJ Escobar, MC MENOR SG, MC MENOR HR</td><td>Evoque Prata</td><td>174.0</td></tr><tr><td>Dean Lewis</td><td>How Do I Say Goodbye</td><td>284.8</td></tr><tr><td>SZA</td><td>Blind</td><td>163.3</td></tr><tr><td>Joji</td><td>Die For You</td><td>246.4</td></tr><tr><td>Central Cee</td><td>Doja</td><td>482.3</td></tr><tr><td>Bellakath</td><td>Gatita</td><td>168.7</td></tr><tr><td>Skrillex, Flowdan, Fred again..</td><td>Rumble</td><td>78.5</td></tr><tr><td>Travis Scott, 21 Savage, Metro Boomin</td><td>Niagara Falls (Foot or 2) [with Travis Scott & 21 Savage]</td><td>195.5</td></tr><tr><td>Bad Bunny</td><td>Yonaguni</td><td>1,260.6</td></tr><tr><td>Nicki Minaj</td><td>Super Freaky Girl</td><td>428.7</td></tr><tr><td>Kate Bush</td><td>Running Up That Hill (A Deal With God)</td><td>1,024.9</td></tr><tr><td>Aerosmith</td><td>Dream On</td><td>838.6</td></tr><tr><td>Freddie Dredd</td><td>Limbo</td><td>199.4</td></tr><tr><td>Lost Frequencies, Calum Scott</td><td>Where Are You Now</td><td>972.5</td></tr><tr><td>Twisted, Oliver Tree</td><td>WORTH NOTHING</td><td>213.4</td></tr><tr><td>Ed Sheeran</td><td>Bad Habits</td><td>1,555.5</td></tr><tr><td>Kenshi Yonezu</td><td>KICK BACK</td><td>210.0</td></tr><tr><td>Omar Apollo</td><td>Evergreen (You Didn���t Deserve Me A</td><td>227.9</td></tr><tr><td>SZA</td><td>Good Days</td><td>826.6</td></tr><tr><td>Dua Lipa, DaBaby</td><td>Levitating (feat. DaBaby)</td><td>1,802.5</td></tr><tr><td>Doja Cat</td><td>Woman</td><td>1,329.1</td></tr><tr><td>Hotel Ugly</td><td>Shut up My Moms Calling - (Sped Up)</td><td>181.8</td></tr><tr><td>James Hype, Miggy Dela Rosa</td><td>Ferrari</td><td>462.8</td></tr><tr><td>Taylor Swift</td><td>You're On Your Own, Kid</td><td>348.6</td></tr><tr><td>Pritam, Arijit Singh, Amitabh Bhattacharya</td><td>Kesariya (From \"Brahmastra\")</td><td>366.6</td></tr><tr><td>Styrx, utku INC, Thezth</td><td>Agudo M��gi</td><td>90.6</td></tr><tr><td>Maroon 5, Wiz Khalifa</td><td>Payphone</td><td>1,479.3</td></tr><tr><td>Mariah Carey</td><td>All I Want for Christmas Is You</td><td>1,449.8</td></tr><tr><td>Wham!</td><td>Last Christmas</td><td>1,159.2</td></tr><tr><td>Brenda Lee</td><td>Rockin' Around The Christmas Tree</td><td>769.2</td></tr><tr><td>Bobby Helms</td><td>Jingle Bell Rock</td><td>741.3</td></tr><tr><td>Michael Bubl�</td><td>It's Beginning To Look A Lot Like Christmas</td><td>807.6</td></tr><tr><td>Ariana Grande</td><td>Santa Tell Me</td><td>834.1</td></tr><tr><td>Andy Williams</td><td>It's the Most Wonderful Time of the Year</td><td>663.8</td></tr><tr><td>Dean Martin</td><td>Let It Snow! Let It Snow! Let It Snow!</td><td>446.4</td></tr><tr><td>Sia</td><td>Snowman</td><td>690.1</td></tr><tr><td>Kelly Clarkson</td><td>Underneath the Tree</td><td>485.3</td></tr><tr><td>Jos�� Felic</td><td>Feliz Navidad</td><td>520.0</td></tr><tr><td>Michael Bubl�</td><td>Holly Jolly Christmas</td><td>476.2</td></tr><tr><td>Justin Bieber</td><td>Mistletoe</td><td>629.2</td></tr><tr><td>The Ronettes</td><td>Sleigh Ride</td><td>404.7</td></tr><tr><td>SZA</td><td>Seek & Destroy</td><td>98.7</td></tr><tr><td>SZA</td><td>Love Language</td><td>110.8</td></tr><tr><td>John Lennon, The Harlem Community Choir, The Plastic Ono Band, Yoko Ono</td><td>Happy Xmas (War Is Over)</td><td>460.5</td></tr><tr><td>SZA, Don Toliver</td><td>Used (feat. Don Toliver)</td><td>94.0</td></tr><tr><td>Burl Ives</td><td>A Holly Jolly Christmas - Single Version</td><td>395.6</td></tr><tr><td>Nat King Cole</td><td>The Christmas Song (Merry Christmas To You) - Remastered 1999</td><td>389.8</td></tr><tr><td>Paul McCartney</td><td>Wonderful Christmastime - Edited Version / Remastered 2011</td><td>403.9</td></tr><tr><td>Band Aid</td><td>Do They Know It's Christmas? - 1984 Version</td><td>481.7</td></tr><tr><td>SZA, Phoebe Bridgers</td><td>Ghost in the Machine (feat. Phoebe Bridgers)</td><td>110.1</td></tr><tr><td>SZA</td><td>Special</td><td>88.1</td></tr><tr><td>Shakin' Stevens</td><td>Merry Christmas Everyone</td><td>351.6</td></tr><tr><td>Frank Sinatra, B. Swanson Quartet</td><td>Let It Snow! Let It Snow! Let It Snow!</td><td>473.2</td></tr><tr><td>SZA</td><td>SOS</td><td>74.0</td></tr><tr><td>SZA, Travis Scott</td><td>Open Arms (feat. Travis Scott)</td><td>155.7</td></tr><tr><td>Bing Crosby, John Scott Trotter & His Orchestra, Ken Darby Singers</td><td>White Christmas</td><td>395.6</td></tr><tr><td>Chris Rea</td><td>Driving Home for Christmas - 2019 Remaster</td><td>429.5</td></tr><tr><td>Darlene Love</td><td>Christmas (Baby Please Come Home)</td><td>242.8</td></tr><tr><td>SZA</td><td>Gone Girl</td><td>65.4</td></tr><tr><td>SZA</td><td>F2F</td><td>67.5</td></tr><tr><td>SZA</td><td>Notice Me</td><td>62.0</td></tr><tr><td>Ed Sheeran, Elton John</td><td>Merry Christmas</td><td>135.7</td></tr><tr><td>Perry Como, The Fontane Sisters, Mitchell Ayres & His Orchestra</td><td>It's Beginning to Look a Lot Like Christmas (with Mitchell Ayres & His Orchestra)</td><td>296.0</td></tr><tr><td>Britney Spears</td><td>My Only Wish (This Year)</td><td>261.1</td></tr><tr><td>Mabel Matiz, Mert Demir</td><td>Antidepresan</td><td>136.7</td></tr><tr><td>RM</td><td>Wild Flower (with youjeen)</td><td>135.6</td></tr><tr><td>SZA</td><td>I Hate U</td><td>356.7</td></tr><tr><td>Travis Scott, Metro Boomin</td><td>Raindrops (Insane) [with Travis Scott]</td><td>110.6</td></tr><tr><td>ThxSoMch</td><td>SPIT IN MY FACE!</td><td>301.9</td></tr><tr><td>Nat King Cole</td><td>Deck The Hall - Remastered 1999</td><td>127.0</td></tr><tr><td>SZA</td><td>Smoking on my Ex Pack</td><td>57.1</td></tr><tr><td>SZA</td><td>Conceited</td><td>56.9</td></tr><tr><td>Taylor Swift, Lana Del Rey</td><td>Snow On The Beach (feat. Lana Del Rey)</td><td>323.4</td></tr><tr><td>Taylor Swift</td><td>Maroon</td><td>317.7</td></tr><tr><td>Dj LK da Esc��cia, Tchakabum, mc jhenny, M</td><td>Tubar��o Te</td><td>116.1</td></tr><tr><td>Taylor Swift</td><td>Bejeweled</td><td>328.2</td></tr><tr><td>Bad Bunny, Jhay Cortez</td><td>Tarot</td><td>608.2</td></tr><tr><td>Gwen Stefani, Blake Shelton</td><td>You Make It Feel Like Christmas (feat. Blake Shelton)</td><td>180.6</td></tr><tr><td>Chencho Corleone, Rauw Alejandro</td><td>Desesperados</td><td>809.3</td></tr><tr><td>SZA</td><td>Too Late</td><td>49.3</td></tr><tr><td>Bad Bunny, Rauw Alejandro</td><td>Party</td><td>614.6</td></tr><tr><td>Chuck Berry</td><td>Run Rudolph Run - Single Version</td><td>245.4</td></tr><tr><td>Frank Sinatra</td><td>Jingle Bells - Remastered 1999</td><td>178.7</td></tr><tr><td>SZA</td><td>Far</td><td>51.6</td></tr><tr><td>John Legend, Metro Boomin</td><td>On Time (with John Legend)</td><td>78.1</td></tr><tr><td>Maldy, Karol G</td><td>GAT��</td><td>322.3</td></tr><tr><td>Gayle</td><td>���abcdefu</td><td>1,007.6</td></tr><tr><td>The Weeknd</td><td>Sacrifice</td><td>326.8</td></tr><tr><td>The Weeknd</td><td>Is There Someone Else?</td><td>391.3</td></tr><tr><td>Lauren Spencer Smith, Lauren Spencer Smith, Lauren Spencer Smith</td><td>Fingers Crossed</td><td>349.6</td></tr><tr><td>The Weeknd</td><td>Out of Time</td><td>339.7</td></tr><tr><td>Cherish, ACRAZE</td><td>Do It To It</td><td>674.8</td></tr><tr><td>Adassa, Mauro Castillo, Stephanie Beatriz, Encanto - Cast, Rhenzy Feliz, Diane Guerrero, Carolina Gaitan</td><td>We Don't Talk About Bruno</td><td>432.7</td></tr><tr><td>Farruko</td><td>Pepas</td><td>1,309.9</td></tr><tr><td>The Weeknd</td><td>How Do I Make You Love Me?</td><td>119.2</td></tr><tr><td>The Weeknd</td><td>Gasoline</td><td>116.9</td></tr><tr><td>Jaymes Young</td><td>Infinity</td><td>888.0</td></tr><tr><td>The Weeknd</td><td>Less Than Zero</td><td>200.7</td></tr><tr><td>The Weeknd</td><td>Take My Breath</td><td>130.7</td></tr><tr><td>Olivia Rodrigo</td><td>good 4 u</td><td>1,887.0</td></tr><tr><td>The Weeknd, Tyler, The Creator</td><td>Here We Go��� Again (feat. Tyler, the Cr</td><td>88.1</td></tr><tr><td>The Weeknd</td><td>Best Friends</td><td>101.1</td></tr><tr><td>SZA, Doja Cat</td><td>Kiss Me More (feat. SZA)</td><td>1,575.5</td></tr><tr><td>The Weeknd, Lil Wayne</td><td>I Heard You're Married (feat. Lil Wayne)</td><td>91.7</td></tr><tr><td>Doja Cat</td><td>Need To Know</td><td>1,042.6</td></tr><tr><td>Lil Nas X</td><td>MONTERO (Call Me By Your Name)</td><td>1,735.4</td></tr><tr><td>Ckay</td><td>love nwantiti (ah ah ah)</td><td>726.8</td></tr><tr><td>The Weeknd</td><td>Dawn FM</td><td>53.9</td></tr><tr><td>Jessica Darrow</td><td>Surface Pressure</td><td>267.8</td></tr><tr><td>The Weeknd</td><td>Starry Eyes</td><td>74.6</td></tr><tr><td>Lil Nas X</td><td>THATS WHAT I WANT</td><td>920.8</td></tr><tr><td>The Weeknd, Post Malone</td><td>One Right Now (with The Weeknd)</td><td>539.6</td></tr><tr><td>M��ne</td><td>Beggin</td><td>1,367.8</td></tr><tr><td>Aitana, zzoilo</td><td>Mon Amour - Remix</td><td>578.2</td></tr><tr><td>Julieta Venegas, Bad Bunny, Tainy</td><td>Lo Siento BB:/ (with Bad Bunny & Julieta Venegas)</td><td>775.5</td></tr><tr><td>Lisa</td><td>MONEY</td><td>863.6</td></tr><tr><td>Ti��sto, Ava</td><td>The Motto</td><td>656.0</td></tr><tr><td>Billie Eilish</td><td>Happier Than Ever</td><td>1,056.8</td></tr><tr><td>The Weeknd, Swedish House Mafia</td><td>Moth To A Flame (with The Weeknd)</td><td>612.0</td></tr><tr><td>Juan Cruz Toledo, Huilen Toledo</td><td>traitor</td><td>1,230.9</td></tr><tr><td>BoyWithUke</td><td>Toxic</td><td>583.0</td></tr><tr><td>Olivia Rodrigo</td><td>drivers license</td><td>1,858.1</td></tr><tr><td>Xam��, Gustah, Neo B</td><td>Malvad��</td><td>240.7</td></tr><tr><td>Taylor Swift</td><td>All Too Well (10 Minute Version) (Taylor's Version) (From The Vault)</td><td>583.7</td></tr><tr><td>The Weeknd</td><td>Don���t Break My</td><td>63.8</td></tr><tr><td>Adele</td><td>Oh My God</td><td>466.2</td></tr><tr><td>Lit Killah, Maria Becerra, Tiago pzk, NICKI NICOLE</td><td>Entre Nosotros (Remix) [con Nicki Nicole]</td><td>236.9</td></tr><tr><td>The Weeknd</td><td>A Tale By Quincy</td><td>41.9</td></tr><tr><td>Emmy Meli</td><td>I AM WOMAN</td><td>225.3</td></tr><tr><td>Justin Quiles, Lenny Tav��rez, BL</td><td>Medallo</td><td>393.2</td></tr><tr><td>Shawn Mendes</td><td>It'll Be Okay</td><td>287.2</td></tr><tr><td>The Neighbourhood</td><td>Softcore</td><td>599.8</td></tr><tr><td>Kodak Black</td><td>Super Gremlin</td><td>342.8</td></tr><tr><td>Aventura, Bad Bunny</td><td>Volv�</td><td>673.8</td></tr><tr><td>Rauw Alejandro</td><td>Todo De Ti</td><td>1,168.6</td></tr><tr><td>Ckay, AX'EL, Dj Yo!</td><td>Love Nwantiti - Remix</td><td>540.5</td></tr><tr><td>Bruno Mars, Anderson .Paak, Silk Sonic</td><td>Smokin Out The Window</td><td>383.6</td></tr><tr><td>THE ANXIETY, Willow, Tyler Cole</td><td>Meet Me At Our Spot</td><td>530.5</td></tr><tr><td>The Weeknd</td><td>Every Angel is Terrifying</td><td>37.3</td></tr><tr><td>Sebastian Yatra</td><td>Tacones Rojos</td><td>510.9</td></tr><tr><td>Justin Bieber, Daniel Caesar, Giveon</td><td>Peaches (feat. Daniel Caesar & Giveon)</td><td>1,445.9</td></tr><tr><td>Bad Bunny, Jhay Cortez</td><td>Dakiti</td><td>1,763.4</td></tr><tr><td>Bizarrap, Tiago pzk</td><td>Tiago PZK: Bzrp Music Sessions, Vol. 48</td><td>374.2</td></tr><tr><td>Stromae</td><td>L���</td><td>108.8</td></tr><tr><td>Chris Brown, Rvssian, Rauw Alejandro</td><td>Nost��l</td><td>436.7</td></tr><tr><td>NEIKED, Mae Muller, Polo G</td><td>Better Days (NEIKED x Mae Muller x Polo G)</td><td>421.0</td></tr><tr><td>Oliver Tree</td><td>Life Goes On</td><td>501.5</td></tr><tr><td>Kali Uchis, Amaarae, Moliy</td><td>Sad Girlz Luv Money Remix (feat. Kali Uchis)</td><td>354.1</td></tr><tr><td>BTS</td><td>Butter</td><td>1,143.6</td></tr><tr><td>Young Thug, Future, Gunna</td><td>pushin P (feat. Young Thug)</td><td>311.4</td></tr><tr><td>Doja Cat, The Weeknd</td><td>You Right</td><td>672.7</td></tr><tr><td>Olivia Rodrigo</td><td>deja vu</td><td>1,256.9</td></tr><tr><td>BTS</td><td>Dynamite</td><td>1,692.9</td></tr><tr><td>Jnr Choi</td><td>TO THE MOON</td><td>245.1</td></tr><tr><td>The Weeknd, Gesaffelstein</td><td>Lost in the Fire</td><td>686.7</td></tr><tr><td>Trueno, Tiago pzk</td><td>Salimo de Noche</td><td>261.4</td></tr><tr><td>Sech, Bad Bunny, Mora</td><td>Volando - Remix</td><td>610.0</td></tr><tr><td>Bruno Mars, Anderson .Paak, Silk Sonic</td><td>Leave The Door Open</td><td>1,115.9</td></tr><tr><td>Drake, Project Pat, 21 Savage</td><td>Knife Talk (with 21 Savage ft. Project Pat)</td><td>594.5</td></tr><tr><td>Ti��sto, Kar</td><td>Don't Be Shy</td><td>567.0</td></tr><tr><td>The Weeknd, ROSAL�</td><td>LA FAMA (with The Weeknd)</td><td>374.7</td></tr><tr><td>Olga Merediz, Stephanie Beatriz, Encanto - Cast</td><td>The Family Madrigal</td><td>184.9</td></tr><tr><td>The Weeknd</td><td>Phantom Regret by Jim</td><td>32.0</td></tr><tr><td>Sebastian Yatra</td><td>Dos Oruguitas</td><td>167.1</td></tr><tr><td>Surf Curse</td><td>Freaks</td><td>824.4</td></tr><tr><td>Jason Derulo</td><td>Acapulco</td><td>363.5</td></tr><tr><td>The Neighbourhood</td><td>Daddy Issues</td><td>1,127.5</td></tr><tr><td>21 Savage, Gunna</td><td>thought i was playing</td><td>60.7</td></tr><tr><td>IVE</td><td>ELEVEN</td><td>247.7</td></tr><tr><td>24kgoldn, Iann Dior</td><td>Mood (feat. Iann Dior)</td><td>1,699.4</td></tr><tr><td>Stephanie Beatriz, Diane Guerrero</td><td>What Else Can I Do?</td><td>154.8</td></tr><tr><td>Trueno</td><td>DANCE CRIP</td><td>198.9</td></tr><tr><td>David Kushner</td><td>Miserable Man</td><td>124.4</td></tr><tr><td>Olivia Rodrigo</td><td>happier</td><td>850.6</td></tr><tr><td>Kanye West</td><td>Praise God</td><td>376.3</td></tr><tr><td>Doja Cat</td><td>Get Into It (Yuh)</td><td>516.8</td></tr><tr><td>Lewis Capaldi</td><td>Before You Go</td><td>1,608.0</td></tr><tr><td>Playboi Carti</td><td>Sky</td><td>506.8</td></tr><tr><td>Adele</td><td>Rolling in the Deep</td><td>1,472.8</td></tr><tr><td>Maluma</td><td>Sobrio</td><td>513.6</td></tr><tr><td>Ed Sheeran, Fireboy DML</td><td>Peru</td><td>261.3</td></tr><tr><td>Olivia Rodrigo</td><td>favorite crime</td><td>783.7</td></tr><tr><td>Prezioso, Gabry Ponte, LUM!X</td><td>Thunder</td><td>422.7</td></tr><tr><td>Ti��</td><td>The Business</td><td>1,062.3</td></tr><tr><td>Ariana Grande</td><td>positions</td><td>1,252.6</td></tr><tr><td>M��ne</td><td>I WANNA BE YOUR SLAVE</td><td>851.1</td></tr><tr><td>Mar��lia Mendon��a, George Henrique &</td><td>Vai L�� Em Casa </td><td>263.9</td></tr><tr><td>TWICE</td><td>The Feels</td><td>345.9</td></tr><tr><td>Giveon</td><td>HEARTBREAK ANNIVERSARY</td><td>951.6</td></tr><tr><td>Sean Paul, Dua Lipa</td><td>No Lie</td><td>956.9</td></tr><tr><td>Charli XCX, Jax Jones, Joel Corry, Saweetie</td><td>OUT OUT (feat. Charli XCX & Saweetie)</td><td>427.5</td></tr><tr><td>SALES</td><td>Pope Is a Rockstar</td><td>156.7</td></tr><tr><td>Sleepy hallow</td><td>2055</td><td>624.5</td></tr><tr><td>Billie Eilish</td><td>Bored</td><td>777.8</td></tr><tr><td>Billie Eilish</td><td>Happier Than Ever - Edit</td><td>412.8</td></tr><tr><td>Masked Wolf</td><td>Astronaut In The Ocean</td><td>1,138.5</td></tr><tr><td>Anuel Aa, Jhay Cortez</td><td>Ley Seca</td><td>355.2</td></tr><tr><td>NIKI</td><td>Every Summertime</td><td>290.2</td></tr><tr><td>Bruno Mars</td><td>Talking To The Moon</td><td>1,063.0</td></tr><tr><td>Tate McRae</td><td>you broke me first</td><td>1,180.1</td></tr><tr><td>Avicii</td><td>The Nights</td><td>1,456.1</td></tr><tr><td>The Weeknd</td><td>Take My Breath</td><td>432.7</td></tr><tr><td>Drake, Future, Young Thug</td><td>Way 2 Sexy (with Future & Young Thug)</td><td>489.9</td></tr><tr><td>Rauw Alejandro</td><td>C��</td><td>466.0</td></tr><tr><td>Imagine Dragons, League of Legends, Arcane</td><td>Enemy - from the series Arcane League of Legends</td><td>1,223.5</td></tr><tr><td>Tones and I</td><td>Dance Monkey</td><td>2,864.8</td></tr><tr><td>Juice WRLD</td><td>Lucid Dreams</td><td>2,288.7</td></tr><tr><td>J Balvin, Maria Becerra</td><td>Qu�� M��</td><td>720.8</td></tr><tr><td>John Legend</td><td>All of Me</td><td>2,086.1</td></tr><tr><td>Nirvana</td><td>Smells Like Teen Spirit - Remastered 2021</td><td>1,690.2</td></tr><tr><td>Duncan Laurence</td><td>Arcade</td><td>991.3</td></tr><tr><td>Drake, Travis Scott</td><td>Fair Trade (with Travis Scott)</td><td>593.9</td></tr><tr><td>Tini, L-Gante</td><td>Bar</td><td>201.0</td></tr><tr><td>SiM</td><td>The Rumbling (TV Size)</td><td>71.0</td></tr><tr><td>Kendrick Lamar, Baby Keem</td><td>family ties (with Kendrick Lamar)</td><td>560.2</td></tr><tr><td>The Killers</td><td>Mr. Brightside</td><td>1,806.6</td></tr><tr><td>ENHYPEN</td><td>Blessed-Cursed</td><td>77.3</td></tr><tr><td>J Balvin, Nio Garcia, Bad Bunny</td><td>AM Remix</td><td>528.5</td></tr><tr><td>Doja Cat</td><td>Streets</td><td>865.6</td></tr><tr><td>Lady Gaga, Bradley Cooper</td><td>Shallow</td><td>2,159.3</td></tr><tr><td>ENHYPEN</td><td>Polaroid Love</td><td>211.4</td></tr><tr><td>Marshmello, Jonas Brothers</td><td>Leave Before You Love Me (with Jonas Brothers)</td><td>651.7</td></tr><tr><td>BTS</td><td>Permission to Dance</td><td>608.3</td></tr><tr><td>Riton, Nightcrawlers, Mufasa & Hypeman, Dopamine</td><td>Friday (feat. Mufasa & Hypeman) - Dopamine Re-Edit</td><td>863.8</td></tr><tr><td>Polo G</td><td>RAPSTAR</td><td>797.4</td></tr><tr><td>Eminem, Nate Dogg</td><td>'Till I Collapse</td><td>1,695.7</td></tr><tr><td>Maroon 5</td><td>Memories</td><td>1,759.6</td></tr><tr><td>Arcangel, De La Ghetto, Justin Quiles, Lenny Tav��rez, Sech, Dalex, Dimelo Flow, Rich Music</td><td>Se Le Ve</td><td>223.3</td></tr><tr><td>Gunna, Lil Baby</td><td>25k jacket (feat. Lil Baby)</td><td>54.9</td></tr><tr><td>Katy Perry, Alesso</td><td>When I���m Gone (with Katy </td><td>226.9</td></tr><tr><td>Mar��lia Mendon��a, Maiara &</td><td>Esque��a-Me Se For C</td><td>258.3</td></tr><tr><td>Tini, Maria Becerra</td><td>Mi��n</td><td>596.2</td></tr><tr><td>Anuel Aa, Myke Towers, Jhay Cortez</td><td>S��</td><td>177.1</td></tr><tr><td>Karol G, Becky G</td><td>MAMIII</td><td>716.6</td></tr><tr><td>Dr. Dre, Snoop Dogg</td><td>Still D.R.E.</td><td>1,210.6</td></tr><tr><td>Jung Kook</td><td>Stay Alive (Prod. SUGA of BTS)</td><td>246.4</td></tr><tr><td>Dove Cameron</td><td>Boyfriend</td><td>496.3</td></tr><tr><td>Ed Sheeran, Taylor Swift</td><td>The Joker And The Queen (feat. Taylor Swift)</td><td>146.8</td></tr><tr><td>Dr. Dre, Snoop Dogg</td><td>The Next Episode</td><td>843.3</td></tr><tr><td>Charlie Puth</td><td>Light Switch</td><td>500.3</td></tr><tr><td>Kanye West, Alicia Keys, Fivio Foreign</td><td>City of Gods</td><td>107.3</td></tr><tr><td>Mahmood, Blanco</td><td>Brividi</td><td>135.1</td></tr><tr><td>Frank Ocean</td><td>Lost</td><td>822.2</td></tr><tr><td>50 Cent</td><td>In Da Club</td><td>1,202.7</td></tr><tr><td>Tate McRae</td><td>she's all i wanna be</td><td>343.2</td></tr><tr><td>Yung Lean</td><td>Ginseng Strip 2002</td><td>240.8</td></tr><tr><td>Labrinth, Zendaya</td><td>All For Us - from the HBO Original Series Euphoria</td><td>426.2</td></tr><tr><td>The Rare Occasions</td><td>Notion</td><td>421.1</td></tr><tr><td>Labrinth</td><td>Formula</td><td>554.9</td></tr><tr><td>Labrinth</td><td>Mount Everest</td><td>467.7</td></tr><tr><td>Intense, AP Dhillon, Gurinder Gill</td><td>Excuses</td><td>327.5</td></tr><tr><td>Juice WRLD</td><td>Cigarettes</td><td>185.4</td></tr><tr><td>Quevedo, La Pantera, Juseph, Cruz Cafun��, B��jo, Abhir Hathi</td><td>Cay�� La Noche (feat. Cruz Cafun��, Abhir Hathi, Bejo, EL IMA)</td><td>245.4</td></tr><tr><td>Dr. Dre, 2Pac, Roger</td><td>California Love - Original Version (Explicit)</td><td>579.4</td></tr><tr><td>Eminem, Dr. Dre</td><td>Forgot About Dre</td><td>675.0</td></tr><tr><td>Luude, Colin Hay</td><td>Down Under (feat. Colin Hay)</td><td>252.9</td></tr><tr><td>Ryan Castro</td><td>Mujeriego</td><td>232.0</td></tr><tr><td>Kendrick Lamar</td><td>HUMBLE.</td><td>1,929.8</td></tr><tr><td>Eminem, Dido</td><td>Stan</td><td>918.9</td></tr><tr><td>GODZZ__-, Zakaria</td><td>Contection</td><td>1,180.9</td></tr><tr><td>Chase Atlantic</td><td>Swim</td><td>499.0</td></tr><tr><td>Bad Bunny</td><td>A Tu Merced</td><td>685.1</td></tr><tr><td>Em Beihold</td><td>Numb Little Bug</td><td>258.7</td></tr><tr><td>Mainstreet, Chefin</td><td>212</td><td>143.1</td></tr><tr><td>Alvaro Diaz, Rauw Alejandro</td><td>Problem�</td><td>209.8</td></tr><tr><td>Nicki Minaj, Lil Baby</td><td>Bussin</td><td>64.7</td></tr><tr><td>Future</td><td>Worst Day</td><td>50.7</td></tr><tr><td>Z�� Fe</td><td>Malvada</td><td>154.1</td></tr><tr><td>Muni Long</td><td>Hrs and Hrs</td><td>181.3</td></tr><tr><td>Vundabar</td><td>Alien Blues</td><td>370.1</td></tr><tr><td>Ed Sheeran</td><td>Thinking Out Loud</td><td>2,280.6</td></tr><tr><td>Labrinth</td><td>Still Don't Know My Name</td><td>563.9</td></tr><tr><td>V</td><td>Christmas Tree</td><td>317.6</td></tr><tr><td>Mar��lia Mendon��a, Hugo & G</td><td>Mal Feito - Ao Vivo</td><td>291.7</td></tr><tr><td>Labrinth</td><td>When I R.I.P.</td><td>203.7</td></tr><tr><td>Nicki Minaj, Lil Baby</td><td>Do We Have A Problem?</td><td>81.4</td></tr><tr><td>Labrinth</td><td>Forever</td><td>282.9</td></tr><tr><td>Eminem, Dr. Dre</td><td>Gospel (with Eminem)</td><td>64.8</td></tr><tr><td>Shawn Mendes, Camila Cabello</td><td>Se��o</td><td>2,484.8</td></tr><tr><td>Tyler, The Creator</td><td>NEW MAGIC WAND</td><td>461.4</td></tr><tr><td>Harry Styles</td><td>Adore You</td><td>1,439.2</td></tr><tr><td>Daddy Yankee, Bad Bunny</td><td>La Santa</td><td>759.2</td></tr><tr><td>Nirvana</td><td>Something In The Way - Remastered 2021</td><td>368.6</td></tr><tr><td>Dua Lipa, Megan Thee Stallion</td><td>Sweetest Pie</td><td>299.6</td></tr><tr><td>Camila Cabello, Ed Sheeran</td><td>Bam Bam (feat. Ed Sheeran)</td><td>756.9</td></tr><tr><td>Cris Mj</td><td>Una Noche en Medell�</td><td>682.5</td></tr><tr><td>Anitta</td><td>Envolver</td><td>546.2</td></tr><tr><td>Dave</td><td>Starlight</td><td>229.5</td></tr><tr><td>Tulus</td><td>Hati-Hati di Jalan</td><td>202.7</td></tr><tr><td>Labrinth</td><td>I'm Tired - From \"Euphoria\" An Original HBO Series</td><td>121.9</td></tr><tr><td>Mc Pedrinho, Pedro Sampaio</td><td>DAN��A</td><td>208.2</td></tr><tr><td>Zion & Lennox</td><td>Yo Voy (feat. Daddy Yankee)</td><td>527.0</td></tr><tr><td>Residente, Bizarrap</td><td>Residente: Bzrp Music Sessions, Vol. 49</td><td>94.6</td></tr><tr><td>Ryan Castro</td><td>Jordan</td><td>394.0</td></tr><tr><td>Jack Harlow</td><td>Nail Tech</td><td>193.4</td></tr><tr><td>Eden Mu��</td><td>Chale</td><td>299.6</td></tr><tr><td>Treasure</td><td>DARARI</td><td>183.0</td></tr><tr><td>Christian Nodal</td><td>Ya No Somos Ni Seremos</td><td>319.8</td></tr><tr><td>Kevin Gates, Juicy J</td><td>Thinking with My Dick</td><td>109.1</td></tr><tr><td>Tyga, Doja Cat</td><td>Freaky Deaky</td><td>153.2</td></tr><tr><td>JVKE</td><td>this is what falling in love feels like</td><td>346.1</td></tr><tr><td>Bad Bunny</td><td>La Zona</td><td>312.6</td></tr><tr><td>Queen</td><td>Bohemian Rhapsody - Remastered 2011</td><td>2,197.0</td></tr><tr><td>XXXTENTACION</td><td>Hope</td><td>1,200.8</td></tr><tr><td>Dua Lipa</td><td>Levitating</td><td>797.2</td></tr><tr><td>Avicii</td><td>Wake Me Up - Radio Edit</td><td>1,970.7</td></tr><tr><td>Olivia Rodrigo</td><td>jealousy, jealousy</td><td>665.8</td></tr><tr><td>YEAT</td><td>Mon��y so</td><td>263.8</td></tr><tr><td>C. Tangana</td><td>Demasiadas Mujeres</td><td>339.5</td></tr><tr><td>The Chainsmokers, Coldplay</td><td>Something Just Like This</td><td>2,204.1</td></tr><tr><td>The Chainsmokers, Halsey</td><td>Closer</td><td>2,591.2</td></tr><tr><td>NMIXX</td><td>O.O</td><td>135.4</td></tr><tr><td>Gotye, Kimbra</td><td>Somebody That I Used To Know</td><td>1,457.1</td></tr><tr><td>AnnenMayKantereit, Giant Rooks</td><td>Tom's Diner</td><td>236.9</td></tr><tr><td>Jack Harlow</td><td>First Class</td><td>694.5</td></tr><tr><td>Paulo Londra</td><td>Plan A</td><td>240.7</td></tr><tr><td>Danny Ocean</td><td>Fuera del mercado</td><td>421.4</td></tr><tr><td>Daddy Yankee, Bad Bunny</td><td>X ��LTIMA</td><td>349.7</td></tr><tr><td>Shawn Mendes</td><td>When You're Gone</td><td>255.1</td></tr><tr><td>Lil Tjay</td><td>In My Head</td><td>191.0</td></tr><tr><td>Willow</td><td>Wait a Minute!</td><td>924.2</td></tr><tr><td>IVE</td><td>LOVE DIVE</td><td>305.8</td></tr><tr><td>Feid, Alejo, Robi</td><td>Pantysito</td><td>273.0</td></tr><tr><td>Paulo Londra</td><td>Chance</td><td>89.6</td></tr><tr><td>Demi Lovato</td><td>Cool for the Summer</td><td>677.4</td></tr><tr><td>Camila Cabello, Willow</td><td>psychofreak (feat. WILLOW)</td><td>75.5</td></tr><tr><td>Troye Sivan</td><td>Angel Baby</td><td>408.8</td></tr><tr><td>Matu��, Wiu, </td><td>Vampiro</td><td>187.8</td></tr><tr><td>De La Ghetto, Duki, Quevedo</td><td>Si Quieren Frontear</td><td>178.5</td></tr><tr><td>Lil Baby</td><td>Right On</td><td>101.8</td></tr><tr><td>Ak4:20, Cris Mj, Pailita</td><td>Me Arrepent�</td><td>118.4</td></tr><tr><td>Charlie Puth</td><td>That's Hilarious</td><td>146.4</td></tr><tr><td>Yahritza Y Su Esencia</td><td>Soy El Unico</td><td>126.4</td></tr><tr><td>Daddy Yankee</td><td>RUMBAT�</td><td>158.0</td></tr><tr><td>Lu��sa Sonza, MC Frog, Dj Gabriel do Borel, Davi K</td><td>sentaDONA (Remix) s2</td><td>176.3</td></tr><tr><td>Harry Styles</td><td>Falling</td><td>1,023.2</td></tr><tr><td>Ed Sheeran, J Balvin</td><td>Sigue</td><td>106.9</td></tr><tr><td>teto</td><td>Fim de Semana no Rio</td><td>139.2</td></tr><tr><td>Stray Kids</td><td>MANIAC</td><td>212.2</td></tr><tr><td>Shawn Mendes</td><td>There's Nothing Holdin' Me Back</td><td>1,714.5</td></tr><tr><td>Blackbear, BoyWithUke</td><td>IDGAF (with blackbear)</td><td>197.6</td></tr><tr><td>Harry Styles</td><td>Golden</td><td>807.0</td></tr><tr><td>Pharrell Williams, Nile Rodgers, Daft Punk</td><td>Get Lucky - Radio Edit</td><td>933.8</td></tr><tr><td>Doja Cat</td><td>Ain't Shit</td><td>499.7</td></tr><tr><td>Jordan Fisher, Josh Levi, Finneas O'Connell, 4*TOWN (From Disney and Pixar���s Turning Red), Topher Ngo, Grayson Vill</td><td>Nobody Like U - From \"Turning Red\"</td><td>120.8</td></tr><tr><td>BIGBANG</td><td>Still Life</td><td>53.9</td></tr><tr><td>Ed Sheeran</td><td>Photograph</td><td>2,236.7</td></tr><tr><td>Justin Bieber</td><td>Love Yourself</td><td>2,123.3</td></tr><tr><td>Kendrick Lamar</td><td>N95</td><td>301.2</td></tr><tr><td>Lizzo</td><td>About Damn Time</td><td>723.9</td></tr><tr><td>Kendrick Lamar, Blxst, Amanda Reifer</td><td>Die Hard</td><td>237.4</td></tr><tr><td>Bad Bunny</td><td>Despu��s de la P</td><td>461.6</td></tr><tr><td>Bad Bunny</td><td>Un Ratito</td><td>417.2</td></tr><tr><td>Kendrick Lamar</td><td>United In Grief</td><td>156.9</td></tr><tr><td>Kendrick Lamar, Sampha</td><td>Father Time (feat. Sampha)</td><td>127.3</td></tr><tr><td>Bad Bunny</td><td>Yo No Soy Celoso</td><td>313.1</td></tr><tr><td>Kendrick Lamar</td><td>Rich Spirit</td><td>173.7</td></tr><tr><td>Post Malone, Roddy Ricch</td><td>Cooped Up (with Roddy Ricch)</td><td>271.7</td></tr><tr><td>Bad Bunny</td><td>Me Fui de Vacaciones</td><td>305.7</td></tr><tr><td>Kendrick Lamar, Kodak Black</td><td>Silent Hill</td><td>123.2</td></tr><tr><td>Tony Dize, Bad Bunny</td><td>La Corriente</td><td>479.7</td></tr><tr><td>Kendrick Lamar</td><td>Count Me Out</td><td>126.2</td></tr><tr><td>Buscabulla, Bad Bunny</td><td>Andrea</td><td>344.1</td></tr><tr><td>Bad Bunny</td><td>Dos Mil 16</td><td>338.4</td></tr><tr><td>Kendrick Lamar, Taylour Paige</td><td>We Cry Together</td><td>68.9</td></tr><tr><td>Kendrick Lamar, Sam Dew, Baby Keem</td><td>Savior</td><td>86.2</td></tr><tr><td>Bad Bunny</td><td>Un Coco</td><td>403.2</td></tr><tr><td>Bad Bunny, The Mar��</td><td>Otro Atardecer</td><td>319.5</td></tr><tr><td>Kendrick Lamar</td><td>Worldwide Steppers</td><td>61.7</td></tr><tr><td>Bad Bunny</td><td>Aguacero</td><td>283.4</td></tr><tr><td>Kendrick Lamar, Ghostface Killah, Summer Walker</td><td>Purple Hearts</td><td>76.8</td></tr><tr><td>Bad Bunny</td><td>Un Verano Sin Ti</td><td>283.3</td></tr><tr><td>Polima WestCoast, Pailita</td><td>ULTRA SOLO</td><td>307.8</td></tr><tr><td>Bad Bunny</td><td>Ens����ame </td><td>279.7</td></tr><tr><td>Bad Bunny</td><td>El Apag�</td><td>212.4</td></tr><tr><td>Bad Bunny, Tainy</td><td>Callaita</td><td>1,304.3</td></tr><tr><td>Jack Harlow</td><td>Dua Lipa</td><td>150.5</td></tr><tr><td>Bad Bunny</td><td>Agosto</td><td>246.1</td></tr><tr><td>Panic! At The Disco</td><td>House Of Memories</td><td>582.9</td></tr><tr><td>Kendrick Lamar, Tanna Leone</td><td>Mr. Morale</td><td>58.7</td></tr><tr><td>PSY, Suga</td><td>That That (prod. & feat. SUGA of BTS)</td><td>212.1</td></tr><tr><td>Benson Boone</td><td>In The Stars</td><td>382.2</td></tr><tr><td>Kendrick Lamar</td><td>Rich - Interlude</td><td>41.2</td></tr><tr><td>M��ne</td><td>SUPERMODEL</td><td>231.7</td></tr><tr><td>KALUSH</td><td>Stefania (Kalush Orchestra)</td><td>53.7</td></tr><tr><td>The Kid Laroi</td><td>Thousand Miles</td><td>244.7</td></tr><tr><td>Kendrick Lamar</td><td>Crown</td><td>42.5</td></tr><tr><td>Kendrick Lamar</td><td>Auntie Diaries</td><td>37.8</td></tr><tr><td>Future</td><td>PUFFIN ON ZOOTIEZ</td><td>254.2</td></tr><tr><td>Kendrick Lamar</td><td>Mirror</td><td>53.6</td></tr><tr><td>Luciano</td><td>Beautiful Girl</td><td>160.0</td></tr><tr><td>Bizarrap, Paulo Londra</td><td>Paulo Londra: Bzrp Music Sessions, Vol. 23</td><td>164.2</td></tr><tr><td>Kendrick Lamar</td><td>Savior - Interlude</td><td>37.1</td></tr><tr><td>Shae Gill, Ali Sethi</td><td>Pasoori</td><td>284.2</td></tr><tr><td>Kendrick Lamar, Beth Gibbons</td><td>Mother I Sober (feat. Beth Gibbons of Portishead)</td><td>33.4</td></tr><tr><td>Sech, Mora</td><td>TUS L��GR</td><td>184.6</td></tr><tr><td>MNEK, Jax Jones</td><td>Where Did You Go?</td><td>301.0</td></tr><tr><td>Ugly Dray, Tesla Jnr</td><td>I Tried to Tell Y'all</td><td>121.1</td></tr><tr><td>Justin Bieber, Don Toliver</td><td>Honest (feat. Don Toliver)</td><td>106.9</td></tr><tr><td>Jessi</td><td>ZOOM</td><td>137.0</td></tr><tr><td>Chanel</td><td>SloMo</td><td>65.7</td></tr><tr><td>LE SSERAFIM</td><td>FEARLESS</td><td>229.5</td></tr><tr><td>Leah Kate</td><td>10 Things I Hate About You</td><td>185.6</td></tr><tr><td>Sam Ryder</td><td>SPACE MAN</td><td>54.7</td></tr><tr><td>HA SUNG WOON, Jimin</td><td>With you</td><td>240.6</td></tr><tr><td>The Goo Goo Dolls</td><td>Iris</td><td>1,284.9</td></tr><tr><td>Kendrick Lamar</td><td>The Heart Part 5</td><td>71.4</td></tr><tr><td>Kevin Kaarl</td><td>San Lucas</td><td>244.9</td></tr><tr><td>Taylor Swift</td><td>This Love (Taylor���s Ve</td><td>132.2</td></tr><tr><td>Suki Waterhouse</td><td>Good Looking</td><td>184.7</td></tr><tr><td>Lauren Spencer Smith</td><td>Flowers</td><td>184.8</td></tr><tr><td>BTS</td><td>Yet To Come</td><td>302.0</td></tr><tr><td>BTS</td><td>Run BTS</td><td>330.9</td></tr><tr><td>Harry Styles</td><td>Music For a Sushi Restaurant</td><td>334.7</td></tr><tr><td>Harry Styles</td><td>Matilda</td><td>366.2</td></tr><tr><td>BTS</td><td>For Youth</td><td>114.5</td></tr><tr><td>Harry Styles</td><td>Daylight</td><td>290.8</td></tr><tr><td>Doja Cat</td><td>Vegas (From the Original Motion Picture Soundtrack ELVIS)</td><td>448.5</td></tr><tr><td>Pharrell Williams, Tyler, The Creator, 21 Savage</td><td>Cash In Cash Out</td><td>136.7</td></tr><tr><td>Calvin Harris, Dua Lipa, Young Thug</td><td>Potion (with Dua Lipa & Young Thug)</td><td>190.6</td></tr><tr><td>BTS</td><td>Born Singer</td><td>79.1</td></tr><tr><td>Harry Styles</td><td>Little Freak</td><td>273.2</td></tr><tr><td>Nengo Flow, Anuel Aa, Chris Jedi, Chencho Corleone</td><td>La Llevo Al Cielo (Ft. ��engo F</td><td>333.1</td></tr><tr><td>Kanye West, XXXTENTACION</td><td>True Love</td><td>194.9</td></tr><tr><td>Harry Styles</td><td>Satellite</td><td>311.5</td></tr><tr><td>Musical Youth</td><td>Pass The Dutchie</td><td>195.9</td></tr><tr><td>Bizarrap, Villano Antillano</td><td>Villano Antillano: Bzrp Music Sessions, Vol. 51</td><td>248.5</td></tr><tr><td>Harry Styles</td><td>Love Of My Life</td><td>233.7</td></tr><tr><td>Harry Styles</td><td>Grapejuice</td><td>199.6</td></tr><tr><td>Halsey</td><td>So Good</td><td>91.8</td></tr><tr><td>BYOR, Imanbek</td><td>Belly Dancer</td><td>383.8</td></tr><tr><td>Harry Styles</td><td>Keep Driving</td><td>236.1</td></tr><tr><td>Harry Styles</td><td>Cinema</td><td>189.2</td></tr><tr><td>Sleepy hallow, 347aidan</td><td>Die Young (feat. 347aidan)</td><td>160.8</td></tr><tr><td>Paloma Faith</td><td>Only Love Can Hurt Like This</td><td>589.0</td></tr><tr><td>Lady Gaga</td><td>Hold My Hand</td><td>238.4</td></tr><tr><td>Harry Styles</td><td>Daydreaming</td><td>187.7</td></tr><tr><td>Marshmello, Khalid</td><td>Numb</td><td>295.3</td></tr><tr><td>Ozuna, Tiago pzk</td><td>Nos Comemos (feat. Ozuna)</td><td>138.3</td></tr><tr><td>Childish Gambino</td><td>Me and Your Mama</td><td>445.6</td></tr><tr><td>David Guetta, Ella Henderson, Becky Hill</td><td>Crazy What Love Can Do</td><td>286.7</td></tr><tr><td>Joji</td><td>SLOW DANCING IN THE DARK</td><td>1,122.4</td></tr><tr><td>Duki</td><td>Antes de Perderte</td><td>157.1</td></tr><tr><td>Harry Styles</td><td>Boyfriends</td><td>137.1</td></tr><tr><td>Sidhu Moose Wala</td><td>295</td><td>183.3</td></tr><tr><td>Keisya Levronka</td><td>Tak Ingin Usai</td><td>184.8</td></tr><tr><td>Victor Cibrian</td><td>En El Radio Un Cochinero</td><td>164.9</td></tr><tr><td>Metallica</td><td>Master of Puppets (Remastered)</td><td>704.2</td></tr><tr><td>Beyonc�</td><td>BREAK MY SOUL</td><td>354.6</td></tr><tr><td>De La Ghetto, Feid, Polima WestCoast, Paloma Mami, Pailita</td><td>ULTRA SOLO REMIX</td><td>279.7</td></tr><tr><td>Drake</td><td>Massive</td><td>195.6</td></tr><tr><td>Yung Gravy</td><td>Betty (Get Money)</td><td>221.8</td></tr><tr><td>Lasso</td><td>Ojos Marrones</td><td>263.3</td></tr><tr><td>Nayeon</td><td>POP!</td><td>213.5</td></tr><tr><td>Sch��rze, DJ R</td><td>Layla</td><td>130.4</td></tr><tr><td>j-hope</td><td>MORE</td><td>155.8</td></tr><tr><td>Guns N' Roses</td><td>Sweet Child O' Mine</td><td>1,553.5</td></tr><tr><td>Burna Boy</td><td>Last Last</td><td>293.5</td></tr><tr><td>Rosa Linn</td><td>SNAP</td><td>711.4</td></tr><tr><td>Drake</td><td>Sticky</td><td>191.4</td></tr><tr><td>Kanye West, Lil Durk, Cardi B</td><td>Hot Shit (feat. Ye & Lil Durk)</td><td>85.9</td></tr><tr><td>L7nnon, DJ Biel do Furduncinho, Bianca</td><td>Ai Preto</td><td>176.1</td></tr><tr><td>Anitta, Tini, Becky G</td><td>La Loto</td><td>121.2</td></tr><tr><td>Nessa Barrett</td><td>die first</td><td>131.7</td></tr><tr><td>LF System</td><td>Afraid To Feel</td><td>244.8</td></tr><tr><td>Mc Vitin Da Igrejinha, MC Tairon, DJ Win</td><td>Baile no Morro</td><td>129.3</td></tr><tr><td>Rels B</td><td>c��mo dormi</td><td>331.5</td></tr><tr><td>Snoop Dogg, BTS, Benny Blanco</td><td>Bad Decisions (with BTS & Snoop Dogg)</td><td>219.2</td></tr><tr><td>Drake, DJ Khaled, Lil Baby</td><td>STAYING ALIVE (feat. Drake & Lil Baby)</td><td>170.7</td></tr><tr><td>Luar La L</td><td>Caile</td><td>273.9</td></tr><tr><td>Feid</td><td>Si Te La Encuentras Por Ah�</td><td>179.1</td></tr><tr><td>Duki</td><td>GIVENCHY</td><td>185.2</td></tr><tr><td>Beyonc�</td><td>ALIEN SUPERSTAR</td><td>171.8</td></tr><tr><td>Ghost</td><td>Mary On A Cross</td><td>387.1</td></tr><tr><td>NewJeans</td><td>Attention</td><td>264.7</td></tr><tr><td>Rex Orange County</td><td>THE SHADE</td><td>244.9</td></tr><tr><td>Sofia Carson</td><td>Come Back Home - From \"Purple Hearts\"</td><td>97.6</td></tr><tr><td>Grupo Marca Registrada, Junior H</td><td>El Rescate</td><td>287.3</td></tr><tr><td>Kanye West</td><td>Heartless</td><td>887.9</td></tr><tr><td>Calvin Harris, Halsey, Pharrell Williams, Justin Timberlake</td><td>Stay With Me (with Justin Timberlake, Halsey, & Pharrell)</td><td>123.5</td></tr><tr><td>Peso Pluma, Luis R Conriquez</td><td>Siempre Pendientes</td><td>295.2</td></tr><tr><td>Luis R Conriquez, La Adictiva</td><td>JGL</td><td>323.5</td></tr><tr><td>David Guetta, Shakira, Black Eyed Peas</td><td>Don't You Worry</td><td>240.9</td></tr><tr><td>Melody, Ana Castela, Dj Chris No Beat</td><td>Pipoco</td><td>191.9</td></tr><tr><td>Elton John, Britney Spears</td><td>Hold Me Closer</td><td>284.2</td></tr><tr><td>Lewis Capaldi</td><td>Forget Me</td><td>239.4</td></tr><tr><td>IVE</td><td>After LIKE</td><td>265.5</td></tr><tr><td>Kanye West</td><td>Bound 2</td><td>703.3</td></tr><tr><td>Interplanetary Criminal, Eliza Rose</td><td>B.O.T.A. (Baddest Of Them All) - Edit</td><td>244.6</td></tr><tr><td>TWICE</td><td>Talk that Talk</td><td>189.5</td></tr><tr><td>Armani White</td><td>BILLIE EILISH.</td><td>277.1</td></tr><tr><td>Feid</td><td>Ferxxo 100</td><td>278.9</td></tr><tr><td>Oxlade</td><td>KU LO SA - A COLORS SHOW</td><td>222.4</td></tr><tr><td>Feid</td><td>Prohibidox</td><td>185.4</td></tr><tr><td>Steve Lacy</td><td>Static</td><td>202.5</td></tr><tr><td>Coldplay</td><td>The Scientist</td><td>1,608.2</td></tr><tr><td>Coldplay</td><td>Sparks</td><td>624.1</td></tr><tr><td>YEAT</td><td>Talk</td><td>148.5</td></tr><tr><td>Yandel, Feid</td><td>XQ Te Pones As�</td><td>47.1</td></tr><tr><td>PnB Rock</td><td>Selfish</td><td>380.3</td></tr><tr><td>Ovy On The Drums, Quevedo</td><td>Sin Se��</td><td>209.1</td></tr><tr><td>Feid</td><td>Lady Mi Amor</td><td>54.0</td></tr><tr><td>Lil Yachty</td><td>Poland</td><td>115.3</td></tr><tr><td>M��ne</td><td>THE LONELIEST</td><td>225.1</td></tr><tr><td>Marshmello, Juice WRLD</td><td>Bye Bye</td><td>84.7</td></tr><tr><td>Fran C, Polima WestCoast, Nickoog Clk, Pablito Pesadilla</td><td>BABY OTAKU</td><td>159.2</td></tr><tr><td>(G)I-DLE</td><td>Nxde</td><td>170.7</td></tr><tr><td>Southstar</td><td>Miss You</td><td>154.4</td></tr><tr><td>girl in red</td><td>we fell in love in october</td><td>723.0</td></tr><tr><td>Lizzo</td><td>2 Be Loved (Am I Ready)</td><td>247.7</td></tr><tr><td>Ed Sheeran</td><td>Celestial</td><td>176.5</td></tr><tr><td>BLACKPINK</td><td>Typa Girl</td><td>235.5</td></tr><tr><td>Rosa Walton, Hallie Coggins</td><td>I Really Want to Stay at Your House</td><td>140.4</td></tr><tr><td>Lil Baby</td><td>California Breeze</td><td>85.6</td></tr><tr><td>Luciano, Aitch, B�</td><td>Bamba (feat. Aitch & BIA)</td><td>146.2</td></tr><tr><td>MC Ryan SP, Love Funk, Mc Paiva ZS</td><td>Casei Com a Putaria</td><td>187.7</td></tr><tr><td>Drake, 21 Savage</td><td>Major Distribution</td><td>154.9</td></tr><tr><td>Drake, Travis Scott, 21 Savage</td><td>Pussy & Millions (feat. Travis Scott)</td><td>191.3</td></tr><tr><td>Taylor Swift</td><td>Vigilante Shit</td><td>253.7</td></tr><tr><td>Taylor Swift</td><td>Question...?</td><td>223.1</td></tr><tr><td>Drake, 21 Savage</td><td>On BS</td><td>170.4</td></tr><tr><td>Taylor Swift</td><td>Mastermind</td><td>218.3</td></tr><tr><td>Drake, 21 Savage</td><td>Circo Loco</td><td>141.7</td></tr><tr><td>Taylor Swift</td><td>Labyrinth</td><td>187.3</td></tr><tr><td>Drake, 21 Savage</td><td>Spin Bout U</td><td>198.4</td></tr><tr><td>Taylor Swift</td><td>Sweet Nothing</td><td>186.1</td></tr><tr><td>Taylor Swift</td><td>Would've, Could've, Should've</td><td>177.5</td></tr><tr><td>Ludwig Goransson, Foudeqush</td><td>Con La Brisa</td><td>71.1</td></tr><tr><td>Drake, 21 Savage</td><td>Privileged Rappers</td><td>112.4</td></tr><tr><td>Jin</td><td>The Astronaut</td><td>203.4</td></tr><tr><td>Drake</td><td>BackOutsideBoyz</td><td>93.4</td></tr><tr><td>Drake, 21 Savage</td><td>Broke Boys</td><td>106.2</td></tr><tr><td>Taylor Swift</td><td>The Great War</td><td>181.4</td></tr><tr><td>Selena Gomez</td><td>My Mind & Me</td><td>91.5</td></tr><tr><td>Taylor Swift</td><td>Bigger Than The Whole Sky</td><td>121.9</td></tr><tr><td>Feid, Paulo Londra</td><td>A Veces (feat. Feid)</td><td>73.5</td></tr><tr><td>Feid, Sech, Jhayco</td><td>En La De Ella</td><td>133.9</td></tr><tr><td>Burna Boy</td><td>Alone</td><td>96.0</td></tr></tbody></table></div>"
      ]
     },
     "metadata": {
      "application/vnd.databricks.v1+output": {
       "addedWidgets": {},
       "aggData": [],
       "aggError": "",
       "aggOverflow": false,
       "aggSchema": [],
       "aggSeriesLimitReached": false,
       "aggType": "",
       "arguments": {},
       "columnCustomDisplayInfos": {},
       "data": [
        [
         "Latto, Jung Kook",
         "Seven (feat. Latto) (Explicit Ver.)",
         "141.4"
        ],
        [
         "Myke Towers",
         "LALA",
         "133.7"
        ],
        [
         "Olivia Rodrigo",
         "vampire",
         "140.0"
        ],
        [
         "Taylor Swift",
         "Cruel Summer",
         "800.8"
        ],
        [
         "Bad Bunny",
         "WHERE SHE GOES",
         "303.2"
        ],
        [
         "Dave, Central Cee",
         "Sprinter",
         "183.7"
        ],
        [
         "Eslabon Armado, Peso Pluma",
         "Ella Baila Sola",
         "726.0"
        ],
        [
         "Quevedo",
         "Columbia",
         "58.1"
        ],
        [
         "Gunna",
         "fukumean",
         "95.2"
        ],
        [
         "Peso Pluma, Yng Lvcas",
         "La Bebe - Remix",
         "553.6"
        ],
        [
         "Bad Bunny, Grupo Frontera",
         "un x100to",
         "505.7"
        ],
        [
         "NewJeans",
         "Super Shy",
         "58.3"
        ],
        [
         "Miley Cyrus",
         "Flowers",
         "1,316.9"
        ],
        [
         "David Kushner",
         "Daylight",
         "387.6"
        ],
        [
         "Harry Styles",
         "As It Was",
         "2,513.2"
        ],
        [
         "SZA",
         "Kill Bill",
         "1,163.1"
        ],
        [
         "Fifty Fifty",
         "Cupid - Twin Ver.",
         "496.8"
        ],
        [
         "Billie Eilish",
         "What Was I Made For? [From The Motion Picture \"Barbie\"]",
         "30.5"
        ],
        [
         "Feid, Young Miko",
         "Classy 101",
         "335.2"
        ],
        [
         "Jimin",
         "Like Crazy",
         "363.4"
        ],
        [
         "Gabito Ballesteros, Junior H, Peso Pluma",
         "LADY GAGA",
         "86.4"
        ],
        [
         "Taylor Swift",
         "I Can See You (Taylor���s Version) (From The ",
         "52.1"
        ],
        [
         "Arctic Monkeys",
         "I Wanna Be Yours",
         "1,297.0"
        ],
        [
         "Bizarrap, Peso Pluma",
         "Peso Pluma: Bzrp Music Sessions, Vol. 55",
         "200.6"
        ],
        [
         "The Weeknd, Madonna, Playboi Carti",
         "Popular (with Playboi Carti & Madonna) - The Idol Vol. 1 (Music from the HBO Original Series)",
         "115.4"
        ],
        [
         "Fuerza Regida",
         "SABOR FRESA",
         "78.3"
        ],
        [
         "R��ma, Selena G",
         "Calm Down (with Selena Gomez)",
         "899.2"
        ],
        [
         "Tainy, Bad Bunny",
         "MOJABI GHOST",
         "61.2"
        ],
        [
         "Morgan Wallen",
         "Last Night",
         "429.8"
        ],
        [
         "Dua Lipa",
         "Dance The Night (From Barbie The Album)",
         "127.4"
        ],
        [
         "Troye Sivan",
         "Rush",
         "22.6"
        ],
        [
         "Peso Pluma, Grupo Frontera",
         "TULUM",
         "52.3"
        ],
        [
         "The Weeknd, 21 Savage, Metro Boomin",
         "Creepin'",
         "844.0"
        ],
        [
         "Taylor Swift",
         "Anti-Hero",
         "999.7"
        ],
        [
         "Karol G, Shakira",
         "TQG",
         "619.0"
        ],
        [
         "Big One, Duki, Lit Killah, Maria Becerra, FMK, Rusherking, Emilia, Tiago pzk",
         "Los del Espacio",
         "123.1"
        ],
        [
         "Yahritza Y Su Esencia, Grupo Frontera",
         "Fr��gil (feat. Grupo Front",
         "188.9"
        ],
        [
         "Taylor Swift",
         "Blank Space",
         "1,356.0"
        ],
        [
         "Taylor Swift",
         "Style",
         "786.2"
        ],
        [
         "Fuerza Regida",
         "TQM",
         "176.6"
        ],
        [
         "Junior H, Peso Pluma",
         "El Azul",
         "354.5"
        ],
        [
         "Post Malone, Swae Lee",
         "Sunflower - Spider-Man: Into the Spider-Verse",
         "2,808.1"
        ],
        [
         "Bebe Rexha, David Guetta",
         "I'm Good (Blue)",
         "1,109.4"
        ],
        [
         "Tyler, The Creator, Kali Uchis",
         "See You Again",
         "1,047.1"
        ],
        [
         "Nicki Minaj, Aqua, Ice Spice",
         "Barbie World (with Aqua) [From Barbie The Album]",
         "65.2"
        ],
        [
         "Miley Cyrus",
         "Angels Like You",
         "570.5"
        ],
        [
         "OneRepublic",
         "I Ain't Worried",
         "1,085.7"
        ],
        [
         "The Weeknd",
         "Die For You",
         "1,648.0"
        ],
        [
         "The Weeknd, Daft Punk",
         "Starboy",
         "2,565.5"
        ],
        [
         "Ariana Grande, The Weeknd",
         "Die For You - Remix",
         "518.7"
        ],
        [
         "Feid, Myke Towers, Sky Rompiendo",
         "El Cielo",
         "107.8"
        ],
        [
         "David Guetta, Anne-Marie, Coi Leray",
         "Baby Don't Hurt Me",
         "177.7"
        ],
        [
         "Karol G",
         "AMARGURA",
         "153.4"
        ],
        [
         "Peggy Gou",
         "(It Goes Like) Nanana - Edit",
         "57.9"
        ],
        [
         "Tom Odell",
         "Another Love",
         "1,813.7"
        ],
        [
         "The Weeknd",
         "Blinding Lights",
         "3,703.9"
        ],
        [
         "Kali Uchis",
         "Moonlight",
         "256.5"
        ],
        [
         "Manuel Turizo",
         "La Bachata",
         "1,214.1"
        ],
        [
         "Karol G",
         "S91",
         "16.0"
        ],
        [
         "Taylor Swift",
         "cardigan",
         "812.0"
        ],
        [
         "dennis, MC Kevin o Chris",
         "T��",
         "111.9"
        ],
        [
         "PinkPantheress, Ice Spice",
         "Boy's a liar Pt. 2",
         "156.3"
        ],
        [
         "Charlie Puth, BTS, Jung Kook",
         "Left and Right (Feat. Jung Kook of BTS)",
         "720.4"
        ],
        [
         "Rauw Alejandro, ROSAL�",
         "BESO",
         "357.9"
        ],
        [
         "Ozuna, Feid",
         "Hey Mor",
         "674.1"
        ],
        [
         "Chris Molitor",
         "Yellow",
         "1,755.2"
        ],
        [
         "Taylor Swift",
         "Karma",
         "404.6"
        ],
        [
         "Libianca",
         "People",
         "373.2"
        ],
        [
         "Post Malone",
         "Overdrive",
         "14.8"
        ],
        [
         "Taylor Swift",
         "Enchanted (Taylor's Version)",
         "39.6"
        ],
        [
         "Rauw Alejandro, Bizarrap",
         "BABY HELLO",
         "54.3"
        ],
        [
         "Glass Animals",
         "Heat Waves",
         "2,558.0"
        ],
        [
         "JVKE",
         "golden hour",
         "751.1"
        ],
        [
         "The Neighbourhood",
         "Sweater Weather",
         "2,282.8"
        ],
        [
         "Bizarrap, Quevedo",
         "Quevedo: Bzrp Music Sessions, Vol. 52",
         "1,356.6"
        ],
        [
         "Coldplay",
         "Viva La Vida",
         "1,592.9"
        ],
        [
         "d4vd",
         "Here With Me",
         "635.4"
        ],
        [
         "Sam Smith, Kim Petras",
         "Unholy (feat. Kim Petras)",
         "1,230.7"
        ],
        [
         "Yandel, Feid",
         "Yandel 150",
         "585.7"
        ],
        [
         "Maria Becerra",
         "CORAZ��N VA",
         "43.9"
        ],
        [
         "Vance Joy",
         "Riptide",
         "2,009.1"
        ],
        [
         "Em Beihold, Stephen Sanchez",
         "Until I Found You (with Em Beihold) - Em Beihold Version",
         "601.0"
        ],
        [
         "Mc Livinho, DJ Matt D",
         "Novidade na ��",
         "39.7"
        ],
        [
         "Taylor Swift",
         "Back To December (Taylor's Version)",
         "39.2"
        ],
        [
         "Justin Bieber, The Kid Laroi",
         "STAY (with Justin Bieber)",
         "2,665.3"
        ],
        [
         "Marshmello, Manuel Turizo",
         "El Merengue",
         "223.6"
        ],
        [
         "Lewis Capaldi",
         "Someone You Loved",
         "2,887.2"
        ],
        [
         "Chencho Corleone, Bad Bunny",
         "Me Porto Bonito",
         "1,440.8"
        ],
        [
         "Jain",
         "Makeba",
         "165.5"
        ],
        [
         "Ayparia, unxbected",
         "MONTAGEM - FR PUNK",
         "58.1"
        ],
        [
         "Luke Combs",
         "Fast Car",
         "157.1"
        ],
        [
         "Doechii",
         "What It Is (Solo Version)",
         "95.1"
        ],
        [
         "Bad Bunny, Eladio Carrion",
         "Coco Chanel",
         "250.3"
        ],
        [
         "Taylor Swift",
         "Don���t Bl",
         "685.0"
        ],
        [
         "Jung Kook",
         "Still With You",
         "38.4"
        ],
        [
         "J. Cole, Lil Durk",
         "All My Life (feat. J. Cole)",
         "144.6"
        ],
        [
         "Lana Del Rey",
         "Say Yes To Heaven",
         "127.6"
        ],
        [
         "SZA",
         "Snooze",
         "399.7"
        ],
        [
         "Lana Del Rey",
         "Summertime Sadness",
         "983.6"
        ],
        [
         "BTS",
         "Take Two",
         "118.5"
        ],
        [
         "Taylor Swift",
         "Lover",
         "882.8"
        ],
        [
         "Future, Metro Boomin, Don Toliver",
         "Too Many Nights (feat. Don Toliver & with Future)",
         "286.4"
        ],
        [
         "Post Malone",
         "Chemical",
         "172.8"
        ],
        [
         "Eminem",
         "Mockingbird",
         "1,241.6"
        ],
        [
         "NewJeans",
         "New Jeans",
         "29.6"
        ],
        [
         "Carin Leon",
         "Primera Cita",
         "77.3"
        ],
        [
         "Dua Lipa, Elton John, Pnau",
         "Cold Heart - PNAU Remix",
         "1,605.2"
        ],
        [
         "Ruth B.",
         "Dandelions",
         "1,117.0"
        ],
        [
         "Imagine Dragons",
         "Bones",
         "838.1"
        ],
        [
         "Adele",
         "Set Fire to the Rain",
         "1,163.6"
        ],
        [
         "Kendrick Lamar, Jay Rock",
         "Money Trees",
         "1,093.6"
        ],
        [
         "Anggi Marito",
         "Tak Segampang Itu",
         "179.7"
        ],
        [
         "Jasiel Nu��ez, Peso P",
         "LAGUNAS",
         "39.1"
        ],
        [
         "Taylor Swift",
         "Mine (Taylor's Version)",
         "36.9"
        ],
        [
         "Tears For Fears",
         "Everybody Wants To Rule The World",
         "1,206.0"
        ],
        [
         "J. Cole",
         "No Role Modelz",
         "1,791.0"
        ],
        [
         "Loreen",
         "Tattoo",
         "201.7"
        ],
        [
         "Taiu, Milo j",
         "Rara Vez",
         "248.1"
        ],
        [
         "Sebastian Yatra, Manuel Turizo, Be��",
         "VAGABUNDO",
         "90.8"
        ],
        [
         "Taylor Swift",
         "august",
         "607.1"
        ],
        [
         "Junior H, Peso Pluma",
         "LUNA",
         "55.8"
        ],
        [
         "Calvin Harris, Ellie Goulding",
         "Miracle (with Ellie Goulding)",
         "211.1"
        ],
        [
         "Sabrina Carpenter",
         "Nonsense",
         "342.9"
        ],
        [
         "Peso Pluma",
         "Por las Noches",
         "330.3"
        ],
        [
         "Feid",
         "Feliz Cumplea��os Fe",
         "601.9"
        ],
        [
         "Ray Dalton, Ryan Lewis, Macklemore",
         "Can't Hold Us (feat. Ray Dalton)",
         "1,953.5"
        ],
        [
         "Harry Styles",
         "Watermelon Sugar",
         "2,322.6"
        ],
        [
         "Billie Eilish, Khalid",
         "lovely - Bonus Track",
         "2,355.7"
        ],
        [
         "Rauw Alejandro, Bizarrap",
         "Rauw Alejandro: Bzrp Music Sessions, Vol. 56",
         "66.9"
        ],
        [
         "(G)I-DLE",
         "Queencard",
         "96.3"
        ],
        [
         "NewJeans",
         "OMG",
         "431.0"
        ],
        [
         "Lana Del Rey",
         "Radio",
         "284.8"
        ],
        [
         "Shakira, Bizarrap",
         "Shakira: Bzrp Music Sessions, Vol. 53",
         "722.0"
        ],
        [
         "Arctic Monkeys",
         "505",
         "1,217.1"
        ],
        [
         "Swae Lee, A Boogie Wit da Hoodie, Metro Boomin, NAV",
         "Calling (Spider-Man: Across the Spider-Verse) (Metro Boomin & Swae Lee, NAV, feat. A Boogie Wit da Hoodie)",
         "109.3"
        ],
        [
         "Travis Scott, Young Thug, Metro Boomin",
         "Trance (with Travis Scott & Young Thug)",
         "276.3"
        ],
        [
         "Sachin-Jigar, Shadab Faridi, Altamash Faridi, Amitabh Bhattacharya, Varun Jain",
         "Tere Vaaste (From \"Zara Hatke Zara Bachke\")",
         "54.2"
        ],
        [
         "Ed Sheeran",
         "Perfect",
         "2,559.5"
        ],
        [
         "d4vd",
         "Romantic Homicide",
         "681.6"
        ],
        [
         "Imagine Dragons",
         "Believer",
         "2,594.0"
        ],
        [
         "Veigh, Bvga Beatz, Supernova Ent, Prod Malax",
         "Novo Balan�",
         "81.1"
        ],
        [
         "Mc Pedrinho, DJ 900",
         "Gol Bolinha, Gol Quadrado 2",
         "12.0"
        ],
        [
         "Eminem",
         "Without Me",
         "1,687.7"
        ],
        [
         "Sog, Ryan Castro, Peso Pluma",
         "QUEMA",
         "11.6"
        ],
        [
         "The Weeknd, Lana Del Rey",
         "Stargirl Interlude",
         "611.7"
        ],
        [
         "Bomba Est��reo, Bad B",
         "Ojitos Lindos",
         "1,133.9"
        ],
        [
         "Keane",
         "Somewhere Only We Know",
         "1,089.4"
        ],
        [
         "New West",
         "Those Eyes",
         "411.7"
        ],
        [
         "Chino Pacas",
         "El Gordo Trae El Mando",
         "255.9"
        ],
        [
         "Natanael Cano",
         "Mi Bello Angel",
         "31.9"
        ],
        [
         "Peso Pluma",
         "Bye",
         "95.1"
        ],
        [
         "Don Omar, Lucenzo",
         "Danza Kuduro",
         "1,279.4"
        ],
        [
         "Ana Castela, AgroPlay",
         "Nosso Quadro",
         "233.8"
        ],
        [
         "Bruno Mars",
         "Locked Out Of Heaven",
         "1,481.3"
        ],
        [
         "Big One, FMK, Ke personajes",
         "Un Finde | CROSSOVER #2",
         "142.1"
        ],
        [
         "Drake, 21 Savage",
         "Jimmy Cooks (feat. 21 Savage)",
         "618.9"
        ],
        [
         "OneRepublic",
         "Counting Stars",
         "2,011.5"
        ],
        [
         "Justin Bieber",
         "Ghost",
         "1,167.3"
        ],
        [
         "Chris Brown",
         "Under The Influence",
         "930.0"
        ],
        [
         "Natanael Cano, Peso Pluma",
         "PRC",
         "436.0"
        ],
        [
         "Daddy Yankee",
         "Gasolina",
         "657.7"
        ],
        [
         "Drake, WizKid, Kyla",
         "One Dance",
         "2,713.9"
        ],
        [
         "Taylor Swift",
         "Enchanted",
         "621.7"
        ],
        [
         "The Weeknd",
         "Save Your Tears",
         "1,591.2"
        ],
        [
         "Miguel",
         "Sure Thing",
         "950.9"
        ],
        [
         "The Police",
         "Every Breath You Take - Remastered 2003",
         "1,593.3"
        ],
        [
         "Lord Huron",
         "The Night We Met",
         "1,410.1"
        ],
        [
         "Rihanna, Calvin Harris",
         "We Found Love",
         "1,235.0"
        ],
        [
         "Bruno Mars",
         "When I Was Your Man",
         "1,661.2"
        ],
        [
         "Alec Benjamin",
         "Let Me Down Slowly",
         "1,374.6"
        ],
        [
         "A$AP Rocky, Metro Boomin, Roisee",
         "Am I Dreaming (Metro Boomin & A$AP Rocky, Roisee)",
         "94.2"
        ],
        [
         "Arctic Monkeys",
         "Do I Wanna Know?",
         "1,788.3"
        ],
        [
         "Imagine Dragons",
         "Demons",
         "1,840.4"
        ],
        [
         "YOASOBI",
         "������������",
         "143.6"
        ],
        [
         "The Weeknd",
         "Reminder",
         "684.7"
        ],
        [
         "Taylor Swift",
         "Shake It Off",
         "1,113.8"
        ],
        [
         "Arctic Monkeys",
         "Why'd You Only Call Me When You're High?",
         "1,267.3"
        ],
        [
         "Rosa Linn",
         "SNAP",
         "726.3"
        ],
        [
         "Ed Sheeran",
         "Shape of You",
         "3,562.5"
        ],
        [
         "One Direction",
         "Night Changes",
         "1,131.1"
        ],
        [
         "Oscar Maydon, Junior H",
         "Fin de Semana",
         "307.4"
        ],
        [
         "Radiohead",
         "Creep",
         "1,271.3"
        ],
        [
         "James Arthur",
         "Car's Outside",
         "265.9"
        ],
        [
         "Cigarettes After Sex",
         "Apocalypse",
         "841.7"
        ],
        [
         "Shubh",
         "Cheques",
         "48.0"
        ],
        [
         "Frank Ocean",
         "Pink + White",
         "806.4"
        ],
        [
         "Post Malone",
         "Circles",
         "2,132.3"
        ],
        [
         "Bruno Mars",
         "Just The Way You Are",
         "1,641.4"
        ],
        [
         "Hozier",
         "Take Me To Church",
         "2,135.2"
        ],
        [
         "Fuerza Regida, Grupo Frontera",
         "Bebe Dame",
         "367.3"
        ],
        [
         "Taylor Swift",
         "You Belong With Me (Taylor���s Ve",
         "350.4"
        ],
        [
         "Bad Bunny",
         "Titi Me Pregunt�",
         "1,264.3"
        ],
        [
         "Taylor Swift",
         "Better Than Revenge (Taylor's Version)",
         "30.3"
        ],
        [
         "Hotel Ugly",
         "Shut up My Moms Calling",
         "405.1"
        ],
        [
         "Creedence Clearwater Revival",
         "Have You Ever Seen The Rain?",
         "1,145.7"
        ],
        [
         "Plan B",
         "Es un Secreto",
         "540.7"
        ],
        [
         "Feid, Mora, Saiko, Quevedo",
         "POLARIS - Remix",
         "57.3"
        ],
        [
         "NewJeans",
         "Ditto",
         "397.6"
        ],
        [
         "a-ha",
         "Take On Me",
         "1,479.1"
        ],
        [
         "Swae Lee, Lil Wayne, Offset, Metro Boomin",
         "Annihilate (Spider-Man: Across the Spider-Verse) (Metro Boomin & Swae Lee, Lil Wayne, Offset)",
         "86.8"
        ],
        [
         "Kodak Black, NLE Choppa, Muni Long, JVKE, Jimin",
         "Angel Pt 1 (feat. Jimin of BTS, JVKE & Muni Long)",
         "133.8"
        ],
        [
         "Shakira",
         "Acr��s",
         "123.1"
        ],
        [
         "Natanael Cano, Gabito Ballesteros, Peso Pluma",
         "AMG",
         "463.6"
        ],
        [
         "Arijit Singh, Sachin-Jigar, Amitabha Bhattacharya",
         "Phir Aur Kya Chahiye (From \"Zara Hatke Zara Bachke\")",
         "64.5"
        ],
        [
         "Stray Kids",
         "S-Class",
         "65.5"
        ],
        [
         "Taylor Swift",
         "Hits Different",
         "68.6"
        ],
        [
         "Becky G, Peso Pluma",
         "Chanel",
         "161.5"
        ],
        [
         "Metro Boomin, Coi Leray",
         "Self Love (Spider-Man: Across the Spider-Verse) (Metro Boomin & Coi Leray)",
         "70.1"
        ],
        [
         "Kaliii, Kaliii",
         "Area Codes",
         "113.5"
        ],
        [
         "Junior H, Eden Mu��",
         "Abcdario",
         "89.9"
        ],
        [
         "Abhijay Sharma, Riar Saab",
         "Obsessed",
         "71.0"
        ],
        [
         "Semicenk, Do��u ",
         "Pi��man De�",
         "43.5"
        ],
        [
         "JISOO",
         "FLOWER",
         "232.9"
        ],
        [
         "Future, Lil Uzi Vert, Metro Boomin",
         "All The Way Live (Spider-Man: Across the Spider-Verse) (Metro Boomin & Future, Lil Uzi Vert)",
         "37.1"
        ],
        [
         "Ed Sheeran",
         "Eyes Closed",
         "195.6"
        ],
        [
         "RAYE, 070 Shake",
         "Escapism.",
         "532.3"
        ],
        [
         "Arcangel, Bad Bunny",
         "La Jumpa",
         "538.1"
        ],
        [
         "Taylor Swift, Ice Spice",
         "Karma (feat. Ice Spice)",
         "46.1"
        ],
        [
         "Future, Chris Brown, Metro Boomin",
         "Superhero (Heroes & Villains) [with Future & Chris Brown]",
         "401.0"
        ],
        [
         "BLESSD, Peso Pluma",
         "Las Morras",
         "127.0"
        ],
        [
         "Feid",
         "CHORRITO PA LAS ANIMAS",
         "345.0"
        ],
        [
         "Fuerza Regida, Natanael Cano",
         "Ch y la Pizza",
         "288.1"
        ],
        [
         "Lana Del Rey, Taylor Swift",
         "Snow On The Beach (feat. More Lana Del Rey)",
         "60.4"
        ],
        [
         "Coi Leray",
         "Players",
         "335.1"
        ],
        [
         "ENHYPEN",
         "Bite Me",
         "76.8"
        ],
        [
         "Lil Durk, Morgan Wallen",
         "Stand By Me (feat. Morgan Wallen)",
         "46.1"
        ],
        [
         "Feid",
         "Normal",
         "459.3"
        ],
        [
         "James Blake, Metro Boomin",
         "Hummingbird (Metro Boomin & James Blake)",
         "39.7"
        ],
        [
         "Israel & Rodolffo, Mari Fernandez",
         "Seu Brilho Sumiu - Ao Vivo",
         "138.5"
        ],
        [
         "Steve Lacy",
         "Bad Habit",
         "822.6"
        ],
        [
         "Beyonc�",
         "CUFF IT",
         "595.9"
        ],
        [
         "Halsey, Suga",
         "Lilith (feat. SUGA of BTS) (Diablo IV Anthem)",
         "52.0"
        ],
        [
         "Nicky Jam, Feid",
         "69",
         "57.9"
        ],
        [
         "Sean Paul, Feid",
         "Ni��a Bo",
         "115.0"
        ],
        [
         "Drake",
         "Search & Rescue",
         "175.1"
        ],
        [
         "Kendrick Lamar, Beyonc�",
         "AMERICA HAS A PROBLEM (feat. Kendrick Lamar)",
         "57.1"
        ],
        [
         "Taylor Swift",
         "Lavender Haze",
         "488.4"
        ],
        [
         "WizKid, Toian, Metro Boomin, Don Toliver, Beam",
         "Link Up (Metro Boomin & Don Toliver, Wizkid feat. BEAM & Toian) - Spider-Verse Remix (Spider-Man: Across the Spider-Verse )",
         "32.8"
        ],
        [
         "Bad Bunny",
         "Efecto",
         "1,047.5"
        ],
        [
         "Simone Mendes",
         "Erro Gostoso - Ao Vivo",
         "153.5"
        ],
        [
         "Tini",
         "Cupido",
         "217.7"
        ],
        [
         "Lil Uzi Vert",
         "Just Wanna Rock",
         "457.2"
        ],
        [
         "Sia",
         "Unstoppable",
         "939.8"
        ],
        [
         "Stephen Sanchez",
         "Until I Found You",
         "726.4"
        ],
        [
         "Drake, 21 Savage",
         "Rich Flex",
         "573.6"
        ],
        [
         "Adele",
         "Easy On Me",
         "1,406.1"
        ],
        [
         "MC Caverinha, KayBlack",
         "Cart��o B",
         "71.6"
        ],
        [
         "Offset, JID",
         "Danger (Spider) (Offset & JID)",
         "25.0"
        ],
        [
         "Z�� Neto & Crist",
         "Oi Balde - Ao Vivo",
         "145.5"
        ],
        [
         "Eminem",
         "The Real Slim Shady",
         "1,424.6"
        ],
        [
         "Migrantes, LiL CaKe, Nico Valdi",
         "MERCHO",
         "231.3"
        ],
        [
         "Tory Lanez",
         "The Color Violet",
         "415.9"
        ],
        [
         "Joji",
         "Glimpse of Us",
         "988.5"
        ],
        [
         "Mambo Kingz, DJ Luian, Anuel Aa",
         "Mejor Que Yo",
         "50.8"
        ],
        [
         "Ed Sheeran",
         "Curtains",
         "39.9"
        ],
        [
         "Nile Rodgers, LE SSERAFIM",
         "UNFORGIVEN (feat. Nile Rodgers)",
         "92.0"
        ],
        [
         "Agust D",
         "Haegeum",
         "118.8"
        ],
        [
         "Rich The Kid, Matu�",
         "Conex��es de M��fia (feat. Rich ",
         "77.2"
        ],
        [
         "Karol G",
         "MIENTRAS ME CURO DEL CORA",
         "206.4"
        ],
        [
         "Labrinth",
         "Never Felt So Alone",
         "117.7"
        ],
        [
         "Karol G, Romeo Santos",
         "X SI VOLVEMOS",
         "266.6"
        ],
        [
         "Lizzy McAlpine",
         "ceilings",
         "293.2"
        ],
        [
         "Fifty Fifty",
         "Cupid",
         "139.7"
        ],
        [
         "IVE",
         "I AM",
         "123.1"
        ],
        [
         "sped up 8282",
         "Cupid ��� Twin Ver. (FIFTY FIFTY) ��� Spe",
         "103.8"
        ],
        [
         "Cartel De Santa, La Kelly",
         "Shorty Party",
         "162.9"
        ],
        [
         "SEVENTEEN",
         "Super",
         "91.2"
        ],
        [
         "NLE Choppa",
         "Slut Me Out",
         "190.5"
        ],
        [
         "The Weeknd, Future",
         "Double Fantasy (with Future)",
         "96.2"
        ],
        [
         "Taylor Swift",
         "All Of The Girls You Loved Before",
         "185.2"
        ],
        [
         "Karol G",
         "PROVENZA",
         "885.1"
        ],
        [
         "Nicki Minaj, Ice Spice",
         "Princess Diana (with Nicki Minaj)",
         "105.0"
        ],
        [
         "Grupo Marca Registrada, Grupo Frontera",
         "Di Que Si",
         "147.3"
        ],
        [
         "Ed Sheeran",
         "Shivers",
         "1,302.2"
        ],
        [
         "Fuerza Regida, Peso Pluma",
         "Igualito a Mi Ap�",
         "159.0"
        ],
        [
         "TAEYANG, Lisa",
         "Shoong! (feat. LISA of BLACKPINK)",
         "76.9"
        ],
        [
         "Raim Laode",
         "Komang",
         "137.1"
        ],
        [
         "ROSAL�",
         "DESPECH�",
         "782.4"
        ],
        [
         "Meghan Trainor",
         "Made You Look",
         "502.6"
        ],
        [
         "sped up nightcore, ARIZONATEARS, Lil Uzi Vert",
         "Watch This - ARIZONATEARS Pluggnb Remix",
         "207.0"
        ],
        [
         "Grupo Frontera",
         "No Se Va",
         "404.9"
        ],
        [
         "Quevedo",
         "Punto G",
         "381.2"
        ],
        [
         "TV Girl",
         "Lovers Rock",
         "466.2"
        ],
        [
         "INTERWORLD",
         "METAMORPHOSIS",
         "357.6"
        ],
        [
         "Quevedo, Jhayco",
         "Mami Chula",
         "61.1"
        ],
        [
         "El Chachito, Junior H",
         "En Paris",
         "198.3"
        ],
        [
         "Jimin",
         "Set Me Free Pt.2",
         "168.4"
        ],
        [
         "The Weeknd, Gesaffelstein",
         "I Was Never There",
         "705.5"
        ],
        [
         "RM, Colde",
         "Don't ever say love me (feat. RM of BTS)",
         "34.5"
        ],
        [
         "BLACKPINK",
         "Shut Down",
         "482.2"
        ],
        [
         "Nengo Flow, Bad Bunny",
         "Gato de Noche",
         "304.1"
        ],
        [
         "The Weeknd",
         "Call Out My Name",
         "1,449.8"
        ],
        [
         "Jimin",
         "Like Crazy (English Version)",
         "173.6"
        ],
        [
         "Jasiel Nu��ez, Peso P",
         "Rosa Pastel",
         "90.0"
        ],
        [
         "Nicky Youre, Dazy",
         "Sunroof",
         "652.7"
        ],
        [
         "Eminem",
         "Lose Yourself - Soundtrack Version",
         "1,830.0"
        ],
        [
         "Eminem, Dina Rae",
         "Superman",
         "655.5"
        ],
        [
         "Mambo Kingz, DJ Luian, Anuel Aa",
         "Mas Rica Que Ayer",
         "146.4"
        ],
        [
         "IU, Agust D",
         "People Pt.2 (feat. IU)",
         "95.8"
        ],
        [
         "Feid",
         "REMIX EXCLUSIVO",
         "117.2"
        ],
        [
         "Arcangel, Bizarrap",
         "Arc��ngel: Bzrp Music Sessions, Vol",
         "100.4"
        ],
        [
         "Tyler, The Creator",
         "DOGTOOTH",
         "80.8"
        ],
        [
         "Ti��sto, Tate M",
         "10:35",
         "325.6"
        ],
        [
         "Tyler, The Creator",
         "SORRY NOT SORRY",
         "58.5"
        ],
        [
         "NF",
         "HAPPY",
         "52.7"
        ],
        [
         "Yng Lvcas",
         "La Bebe",
         "191.9"
        ],
        [
         "Kanii, PR1ISVX",
         "I Know - PR1SVX Edit",
         "77.4"
        ],
        [
         "Harry Styles",
         "Late Night Talking",
         "743.7"
        ],
        [
         "Mar��lia Mendo",
         "Le�",
         "267.8"
        ],
        [
         "Ariana Grande, The Weeknd",
         "Save Your Tears (with Ariana Grande) (Remix)",
         "1,221.8"
        ],
        [
         "Zach Bryan",
         "Something in the Orange",
         "449.7"
        ],
        [
         "Melanie Martinez",
         "VOID",
         "67.1"
        ],
        [
         "Fuerza Regida, Chino Pacas",
         "Dijeron Que No La Iba Lograr",
         "116.3"
        ],
        [
         "Taylor Swift",
         "Midnight Rain",
         "433.4"
        ],
        [
         "Mae Stephens",
         "If We Ever Broke Up",
         "165.6"
        ],
        [
         "Morgan Wallen",
         "You Proof",
         "367.8"
        ],
        [
         "Feid, Mora",
         "LA INOCENTE",
         "477.0"
        ],
        [
         "Kenia OS",
         "Malas Decisiones",
         "156.2"
        ],
        [
         "Kordhell",
         "Murder In My Mind",
         "448.8"
        ],
        [
         "Coolio, L.V.",
         "Gangsta's Paradise",
         "1,357.6"
        ],
        [
         "Karol G, Ovy On The Drums",
         "CAIRO",
         "294.4"
        ],
        [
         "The Walters",
         "I Love You So",
         "972.2"
        ],
        [
         "Steve Lacy",
         "Dark Red",
         "920.0"
        ],
        [
         "James Arthur",
         "Say You Won't Let Go",
         "2,420.5"
        ],
        [
         "The Weeknd",
         "The Hills",
         "1,947.4"
        ],
        [
         "Mac DeMarco",
         "Heart To Heart",
         "244.7"
        ],
        [
         "Jack Black",
         "Peaches (from The Super Mario Bros. Movie)",
         "68.2"
        ],
        [
         "Duki, NICKI NICOLE, Cris Mj, Standly, Stars Music Chile",
         "Marisola - Remix",
         "223.6"
        ],
        [
         "Brray, Rauw Alejandro, Lyanno",
         "LOKERA",
         "471.8"
        ],
        [
         "SZA",
         "Low",
         "272.4"
        ],
        [
         "Linkin Park",
         "Numb",
         "1,361.4"
        ],
        [
         "Gorillaz, Bad Bunny",
         "Tormenta (feat. Bad Bunny)",
         "149.8"
        ],
        [
         "j-hope, J. Cole",
         "on the street (with J. Cole)",
         "116.6"
        ],
        [
         "Morgan Wallen",
         "One Thing At A Time",
         "148.5"
        ],
        [
         "Robin Schulz, Oliver Tree",
         "Miss You",
         "497.2"
        ],
        [
         "Morgan Wallen",
         "Ain���t Tha",
         "88.8"
        ],
        [
         "Morgan Wallen",
         "Thinkin��� B",
         "125.9"
        ],
        [
         "Don Toliver, Future, Justin Bieber",
         "Private Landing (feat. Justin Bieber & Future)",
         "105.1"
        ],
        [
         "Morgan Wallen",
         "Everything I Love",
         "95.6"
        ],
        [
         "Niall Horan",
         "Heaven",
         "144.6"
        ],
        [
         "Central Cee",
         "LET GO",
         "298.1"
        ],
        [
         "Mahalini",
         "Sial",
         "166.6"
        ],
        [
         "Morgan Wallen",
         "I Wrote The Book",
         "83.0"
        ],
        [
         "Arijit Singh, Sachin-Jigar",
         "Apna Bana Le (From \"Bhediya\")",
         "139.8"
        ],
        [
         "ThxSoMch",
         "SPIT IN MY FACE!",
         "303.2"
        ],
        [
         "Myke Towers, Quevedo",
         "PLAYA DEL INGL�",
         "221.4"
        ],
        [
         "Morgan Wallen, Eric Church",
         "Man Made A Bar (feat. Eric Church)",
         "58.9"
        ],
        [
         "Nicki Minaj",
         "Red Ruby Da Sleeze",
         "81.4"
        ],
        [
         "Kaifi Khalil",
         "Kahani Suno 2.0",
         "156.8"
        ],
        [
         "SZA",
         "Nobody Gets Me",
         "284.9"
        ],
        [
         "Karol G, Quevedo",
         "PERO T�",
         "93.4"
        ],
        [
         "NewJeans",
         "Hype Boy",
         "363.5"
        ],
        [
         "Lady Gaga",
         "Bloody Mary",
         "372.5"
        ],
        [
         "Ozuna, Shakira",
         "Monoton�",
         "380.7"
        ],
        [
         "Morgan Wallen",
         "���98 Braves",
         "56.5"
        ],
        [
         "Quevedo",
         "WANDA",
         "175.4"
        ],
        [
         "Morgan Wallen",
         "Thought You Should Know",
         "203.2"
        ],
        [
         "Linkin Park",
         "In The End",
         "1,624.2"
        ],
        [
         "Leo Santana",
         "Zona De Perigo",
         "134.3"
        ],
        [
         "Treyce",
         "Lovezinho",
         "70.1"
        ],
        [
         "Post Malone, Doja Cat",
         "I Like You (A Happier Song) (with Doja Cat)",
         "609.3"
        ],
        [
         "Bad Bunny",
         "Neverita",
         "671.4"
        ],
        [
         "Quevedo",
         "Vista Al Mar",
         "362.4"
        ],
        [
         "MC Xenon, Os Gemeos da Putaria",
         "Sem Alian��a no ",
         "93.6"
        ],
        [
         "Imagine Dragons, League of Legends, JID, Arcane",
         "Enemy (with JID) - from the series Arcane League of Legends",
         "1,223.5"
        ],
        [
         "XXXTENTACION",
         "Revenge",
         "1,022.3"
        ],
        [
         "Israel & Rodolffo, Ana Castela",
         "Bombonzinho - Ao Vivo",
         "263.5"
        ],
        [
         "J Balvin, Bad Bunny",
         "LA CANCI�",
         "1,435.1"
        ],
        [
         "Yuridia, Angela Aguilar",
         "Qu�� Ago",
         "236.9"
        ],
        [
         "The Kid Laroi",
         "Love Again",
         "147.5"
        ],
        [
         "The Weeknd",
         "After Hours",
         "698.1"
        ],
        [
         "Lizzo",
         "About Damn Time",
         "723.9"
        ],
        [
         "Morgan Wallen",
         "Born With A Beer In My Hand",
         "34.5"
        ],
        [
         "Fujii Kaze",
         "���������������������",
         "403.1"
        ],
        [
         "Wisin & Yandel, ROSAL�",
         "Besos Moja2",
         "309.5"
        ],
        [
         "King",
         "Maan Meri Jaan",
         "319.6"
        ],
        [
         "Bad Bunny",
         "Moscow Mule",
         "909.0"
        ],
        [
         "Coldplay, BTS",
         "My Universe",
         "1,062.0"
        ],
        [
         "Morgan Wallen",
         "Devil Don���",
         "32.5"
        ],
        [
         "ROSAL�",
         "LLYLM",
         "125.0"
        ],
        [
         "Sam Smith, Calvin Harris, Jessie Reyez",
         "I'm Not Here To Make Friends",
         "103.8"
        ],
        [
         "P!nk",
         "TRUSTFALL",
         "134.3"
        ],
        [
         "LE SSERAFIM",
         "ANTIFRAGILE",
         "301.1"
        ],
        [
         "PinkPantheress",
         "Boy's a liar",
         "156.3"
        ],
        [
         "TAEYANG, Jimin",
         "VIBE (feat. Jimin of BTS)",
         "152.9"
        ],
        [
         "SZA",
         "Shirt",
         "309.7"
        ],
        [
         "Rihanna",
         "Lift Me Up - From Black Panther: Wakanda Forever - Music From and Inspired By",
         "297.3"
        ],
        [
         "Lil Nas X",
         "STAR WALKIN' (League of Legends Worlds Anthem)",
         "332.5"
        ],
        [
         "Beach Weather",
         "Sex, Drugs, Etc.",
         "480.5"
        ],
        [
         "Halsey, BTS",
         "Boy With Luv (feat. Halsey)",
         "1,065.6"
        ],
        [
         "Baby Tate",
         "Hey, Mickey!",
         "122.8"
        ],
        [
         "R��",
         "Calm Down",
         "445.8"
        ],
        [
         "Arijit Singh, Vishal Dadlani, Sukriti Kakar, Vishal-Shekhar, Shekhar Ravjiani, Kumaar",
         "Jhoome Jo Pathaan",
         "1.4"
        ],
        [
         "RAYE, 070 Shake",
         "Escapism. - Sped Up",
         "184.3"
        ],
        [
         "Beach House",
         "Space Song",
         "789.8"
        ],
        [
         "BTS, Jung Kook, FIFA Sound",
         "Dreamers [Music from the FIFA World Cup Qatar 2022 Official Soundtrack]",
         "323.4"
        ],
        [
         "Shakira, Rauw Alejandro",
         "Te Felicito",
         "606.4"
        ],
        [
         "Steve Aoki, Tini, La Joaqui",
         "Mu��",
         "121.0"
        ],
        [
         "Billie Eilish",
         "TV",
         "338.6"
        ],
        [
         "Sam Smith",
         "I'm Not The Only One",
         "1,607.0"
        ],
        [
         "Conan Gray",
         "Heather",
         "1,301.8"
        ],
        [
         "Vishal-Shekhar, Shilpa Rao, Caralisa Monteiro, Kumaar, Vishal Dadlani, Shekhar Ravjiani",
         "Besharam Rang (From \"Pathaan\")",
         "140.2"
        ],
        [
         "Calvin Harris, Dua Lipa",
         "One Kiss (with Dua Lipa)",
         "1,897.5"
        ],
        [
         "TOMORROW X TOGETHER",
         "Sugar Rush Ride",
         "107.6"
        ],
        [
         "BLACKPINK",
         "Pink Venom",
         "551.3"
        ],
        [
         "Drake, Future, Tems",
         "WAIT FOR U (feat. Drake & Tems)",
         "556.6"
        ],
        [
         "Dua Lipa",
         "Don't Start Now",
         "2,303.0"
        ],
        [
         "Mr.Kitty",
         "After Dark",
         "646.9"
        ],
        [
         "Gustavo Mioto, Mari Fernandez",
         "Eu Gosto Assim - Ao Vivo",
         "222.6"
        ],
        [
         "Jack Harlow, Lil Nas X",
         "INDUSTRY BABY (feat. Jack Harlow)",
         "1,814.3"
        ],
        [
         "Elley Duh�",
         "MIDDLE OF THE NIGHT",
         "872.1"
        ],
        [
         "Seafret",
         "Atlantis",
         "571.4"
        ],
        [
         "Baby Rasta, Rauw Alejandro",
         "PUNTO 40",
         "304.1"
        ],
        [
         "DJ Escobar, MC MENOR SG, MC MENOR HR",
         "Evoque Prata",
         "174.0"
        ],
        [
         "Dean Lewis",
         "How Do I Say Goodbye",
         "284.8"
        ],
        [
         "SZA",
         "Blind",
         "163.3"
        ],
        [
         "Joji",
         "Die For You",
         "246.4"
        ],
        [
         "Central Cee",
         "Doja",
         "482.3"
        ],
        [
         "Bellakath",
         "Gatita",
         "168.7"
        ],
        [
         "Skrillex, Flowdan, Fred again..",
         "Rumble",
         "78.5"
        ],
        [
         "Travis Scott, 21 Savage, Metro Boomin",
         "Niagara Falls (Foot or 2) [with Travis Scott & 21 Savage]",
         "195.5"
        ],
        [
         "Bad Bunny",
         "Yonaguni",
         "1,260.6"
        ],
        [
         "Nicki Minaj",
         "Super Freaky Girl",
         "428.7"
        ],
        [
         "Kate Bush",
         "Running Up That Hill (A Deal With God)",
         "1,024.9"
        ],
        [
         "Aerosmith",
         "Dream On",
         "838.6"
        ],
        [
         "Freddie Dredd",
         "Limbo",
         "199.4"
        ],
        [
         "Lost Frequencies, Calum Scott",
         "Where Are You Now",
         "972.5"
        ],
        [
         "Twisted, Oliver Tree",
         "WORTH NOTHING",
         "213.4"
        ],
        [
         "Ed Sheeran",
         "Bad Habits",
         "1,555.5"
        ],
        [
         "Kenshi Yonezu",
         "KICK BACK",
         "210.0"
        ],
        [
         "Omar Apollo",
         "Evergreen (You Didn���t Deserve Me A",
         "227.9"
        ],
        [
         "SZA",
         "Good Days",
         "826.6"
        ],
        [
         "Dua Lipa, DaBaby",
         "Levitating (feat. DaBaby)",
         "1,802.5"
        ],
        [
         "Doja Cat",
         "Woman",
         "1,329.1"
        ],
        [
         "Hotel Ugly",
         "Shut up My Moms Calling - (Sped Up)",
         "181.8"
        ],
        [
         "James Hype, Miggy Dela Rosa",
         "Ferrari",
         "462.8"
        ],
        [
         "Taylor Swift",
         "You're On Your Own, Kid",
         "348.6"
        ],
        [
         "Pritam, Arijit Singh, Amitabh Bhattacharya",
         "Kesariya (From \"Brahmastra\")",
         "366.6"
        ],
        [
         "Styrx, utku INC, Thezth",
         "Agudo M��gi",
         "90.6"
        ],
        [
         "Maroon 5, Wiz Khalifa",
         "Payphone",
         "1,479.3"
        ],
        [
         "Mariah Carey",
         "All I Want for Christmas Is You",
         "1,449.8"
        ],
        [
         "Wham!",
         "Last Christmas",
         "1,159.2"
        ],
        [
         "Brenda Lee",
         "Rockin' Around The Christmas Tree",
         "769.2"
        ],
        [
         "Bobby Helms",
         "Jingle Bell Rock",
         "741.3"
        ],
        [
         "Michael Bubl�",
         "It's Beginning To Look A Lot Like Christmas",
         "807.6"
        ],
        [
         "Ariana Grande",
         "Santa Tell Me",
         "834.1"
        ],
        [
         "Andy Williams",
         "It's the Most Wonderful Time of the Year",
         "663.8"
        ],
        [
         "Dean Martin",
         "Let It Snow! Let It Snow! Let It Snow!",
         "446.4"
        ],
        [
         "Sia",
         "Snowman",
         "690.1"
        ],
        [
         "Kelly Clarkson",
         "Underneath the Tree",
         "485.3"
        ],
        [
         "Jos�� Felic",
         "Feliz Navidad",
         "520.0"
        ],
        [
         "Michael Bubl�",
         "Holly Jolly Christmas",
         "476.2"
        ],
        [
         "Justin Bieber",
         "Mistletoe",
         "629.2"
        ],
        [
         "The Ronettes",
         "Sleigh Ride",
         "404.7"
        ],
        [
         "SZA",
         "Seek & Destroy",
         "98.7"
        ],
        [
         "SZA",
         "Love Language",
         "110.8"
        ],
        [
         "John Lennon, The Harlem Community Choir, The Plastic Ono Band, Yoko Ono",
         "Happy Xmas (War Is Over)",
         "460.5"
        ],
        [
         "SZA, Don Toliver",
         "Used (feat. Don Toliver)",
         "94.0"
        ],
        [
         "Burl Ives",
         "A Holly Jolly Christmas - Single Version",
         "395.6"
        ],
        [
         "Nat King Cole",
         "The Christmas Song (Merry Christmas To You) - Remastered 1999",
         "389.8"
        ],
        [
         "Paul McCartney",
         "Wonderful Christmastime - Edited Version / Remastered 2011",
         "403.9"
        ],
        [
         "Band Aid",
         "Do They Know It's Christmas? - 1984 Version",
         "481.7"
        ],
        [
         "SZA, Phoebe Bridgers",
         "Ghost in the Machine (feat. Phoebe Bridgers)",
         "110.1"
        ],
        [
         "SZA",
         "Special",
         "88.1"
        ],
        [
         "Shakin' Stevens",
         "Merry Christmas Everyone",
         "351.6"
        ],
        [
         "Frank Sinatra, B. Swanson Quartet",
         "Let It Snow! Let It Snow! Let It Snow!",
         "473.2"
        ],
        [
         "SZA",
         "SOS",
         "74.0"
        ],
        [
         "SZA, Travis Scott",
         "Open Arms (feat. Travis Scott)",
         "155.7"
        ],
        [
         "Bing Crosby, John Scott Trotter & His Orchestra, Ken Darby Singers",
         "White Christmas",
         "395.6"
        ],
        [
         "Chris Rea",
         "Driving Home for Christmas - 2019 Remaster",
         "429.5"
        ],
        [
         "Darlene Love",
         "Christmas (Baby Please Come Home)",
         "242.8"
        ],
        [
         "SZA",
         "Gone Girl",
         "65.4"
        ],
        [
         "SZA",
         "F2F",
         "67.5"
        ],
        [
         "SZA",
         "Notice Me",
         "62.0"
        ],
        [
         "Ed Sheeran, Elton John",
         "Merry Christmas",
         "135.7"
        ],
        [
         "Perry Como, The Fontane Sisters, Mitchell Ayres & His Orchestra",
         "It's Beginning to Look a Lot Like Christmas (with Mitchell Ayres & His Orchestra)",
         "296.0"
        ],
        [
         "Britney Spears",
         "My Only Wish (This Year)",
         "261.1"
        ],
        [
         "Mabel Matiz, Mert Demir",
         "Antidepresan",
         "136.7"
        ],
        [
         "RM",
         "Wild Flower (with youjeen)",
         "135.6"
        ],
        [
         "SZA",
         "I Hate U",
         "356.7"
        ],
        [
         "Travis Scott, Metro Boomin",
         "Raindrops (Insane) [with Travis Scott]",
         "110.6"
        ],
        [
         "ThxSoMch",
         "SPIT IN MY FACE!",
         "301.9"
        ],
        [
         "Nat King Cole",
         "Deck The Hall - Remastered 1999",
         "127.0"
        ],
        [
         "SZA",
         "Smoking on my Ex Pack",
         "57.1"
        ],
        [
         "SZA",
         "Conceited",
         "56.9"
        ],
        [
         "Taylor Swift, Lana Del Rey",
         "Snow On The Beach (feat. Lana Del Rey)",
         "323.4"
        ],
        [
         "Taylor Swift",
         "Maroon",
         "317.7"
        ],
        [
         "Dj LK da Esc��cia, Tchakabum, mc jhenny, M",
         "Tubar��o Te",
         "116.1"
        ],
        [
         "Taylor Swift",
         "Bejeweled",
         "328.2"
        ],
        [
         "Bad Bunny, Jhay Cortez",
         "Tarot",
         "608.2"
        ],
        [
         "Gwen Stefani, Blake Shelton",
         "You Make It Feel Like Christmas (feat. Blake Shelton)",
         "180.6"
        ],
        [
         "Chencho Corleone, Rauw Alejandro",
         "Desesperados",
         "809.3"
        ],
        [
         "SZA",
         "Too Late",
         "49.3"
        ],
        [
         "Bad Bunny, Rauw Alejandro",
         "Party",
         "614.6"
        ],
        [
         "Chuck Berry",
         "Run Rudolph Run - Single Version",
         "245.4"
        ],
        [
         "Frank Sinatra",
         "Jingle Bells - Remastered 1999",
         "178.7"
        ],
        [
         "SZA",
         "Far",
         "51.6"
        ],
        [
         "John Legend, Metro Boomin",
         "On Time (with John Legend)",
         "78.1"
        ],
        [
         "Maldy, Karol G",
         "GAT��",
         "322.3"
        ],
        [
         "Gayle",
         "���abcdefu",
         "1,007.6"
        ],
        [
         "The Weeknd",
         "Sacrifice",
         "326.8"
        ],
        [
         "The Weeknd",
         "Is There Someone Else?",
         "391.3"
        ],
        [
         "Lauren Spencer Smith, Lauren Spencer Smith, Lauren Spencer Smith",
         "Fingers Crossed",
         "349.6"
        ],
        [
         "The Weeknd",
         "Out of Time",
         "339.7"
        ],
        [
         "Cherish, ACRAZE",
         "Do It To It",
         "674.8"
        ],
        [
         "Adassa, Mauro Castillo, Stephanie Beatriz, Encanto - Cast, Rhenzy Feliz, Diane Guerrero, Carolina Gaitan",
         "We Don't Talk About Bruno",
         "432.7"
        ],
        [
         "Farruko",
         "Pepas",
         "1,309.9"
        ],
        [
         "The Weeknd",
         "How Do I Make You Love Me?",
         "119.2"
        ],
        [
         "The Weeknd",
         "Gasoline",
         "116.9"
        ],
        [
         "Jaymes Young",
         "Infinity",
         "888.0"
        ],
        [
         "The Weeknd",
         "Less Than Zero",
         "200.7"
        ],
        [
         "The Weeknd",
         "Take My Breath",
         "130.7"
        ],
        [
         "Olivia Rodrigo",
         "good 4 u",
         "1,887.0"
        ],
        [
         "The Weeknd, Tyler, The Creator",
         "Here We Go��� Again (feat. Tyler, the Cr",
         "88.1"
        ],
        [
         "The Weeknd",
         "Best Friends",
         "101.1"
        ],
        [
         "SZA, Doja Cat",
         "Kiss Me More (feat. SZA)",
         "1,575.5"
        ],
        [
         "The Weeknd, Lil Wayne",
         "I Heard You're Married (feat. Lil Wayne)",
         "91.7"
        ],
        [
         "Doja Cat",
         "Need To Know",
         "1,042.6"
        ],
        [
         "Lil Nas X",
         "MONTERO (Call Me By Your Name)",
         "1,735.4"
        ],
        [
         "Ckay",
         "love nwantiti (ah ah ah)",
         "726.8"
        ],
        [
         "The Weeknd",
         "Dawn FM",
         "53.9"
        ],
        [
         "Jessica Darrow",
         "Surface Pressure",
         "267.8"
        ],
        [
         "The Weeknd",
         "Starry Eyes",
         "74.6"
        ],
        [
         "Lil Nas X",
         "THATS WHAT I WANT",
         "920.8"
        ],
        [
         "The Weeknd, Post Malone",
         "One Right Now (with The Weeknd)",
         "539.6"
        ],
        [
         "M��ne",
         "Beggin",
         "1,367.8"
        ],
        [
         "Aitana, zzoilo",
         "Mon Amour - Remix",
         "578.2"
        ],
        [
         "Julieta Venegas, Bad Bunny, Tainy",
         "Lo Siento BB:/ (with Bad Bunny & Julieta Venegas)",
         "775.5"
        ],
        [
         "Lisa",
         "MONEY",
         "863.6"
        ],
        [
         "Ti��sto, Ava",
         "The Motto",
         "656.0"
        ],
        [
         "Billie Eilish",
         "Happier Than Ever",
         "1,056.8"
        ],
        [
         "The Weeknd, Swedish House Mafia",
         "Moth To A Flame (with The Weeknd)",
         "612.0"
        ],
        [
         "Juan Cruz Toledo, Huilen Toledo",
         "traitor",
         "1,230.9"
        ],
        [
         "BoyWithUke",
         "Toxic",
         "583.0"
        ],
        [
         "Olivia Rodrigo",
         "drivers license",
         "1,858.1"
        ],
        [
         "Xam��, Gustah, Neo B",
         "Malvad��",
         "240.7"
        ],
        [
         "Taylor Swift",
         "All Too Well (10 Minute Version) (Taylor's Version) (From The Vault)",
         "583.7"
        ],
        [
         "The Weeknd",
         "Don���t Break My",
         "63.8"
        ],
        [
         "Adele",
         "Oh My God",
         "466.2"
        ],
        [
         "Lit Killah, Maria Becerra, Tiago pzk, NICKI NICOLE",
         "Entre Nosotros (Remix) [con Nicki Nicole]",
         "236.9"
        ],
        [
         "The Weeknd",
         "A Tale By Quincy",
         "41.9"
        ],
        [
         "Emmy Meli",
         "I AM WOMAN",
         "225.3"
        ],
        [
         "Justin Quiles, Lenny Tav��rez, BL",
         "Medallo",
         "393.2"
        ],
        [
         "Shawn Mendes",
         "It'll Be Okay",
         "287.2"
        ],
        [
         "The Neighbourhood",
         "Softcore",
         "599.8"
        ],
        [
         "Kodak Black",
         "Super Gremlin",
         "342.8"
        ],
        [
         "Aventura, Bad Bunny",
         "Volv�",
         "673.8"
        ],
        [
         "Rauw Alejandro",
         "Todo De Ti",
         "1,168.6"
        ],
        [
         "Ckay, AX'EL, Dj Yo!",
         "Love Nwantiti - Remix",
         "540.5"
        ],
        [
         "Bruno Mars, Anderson .Paak, Silk Sonic",
         "Smokin Out The Window",
         "383.6"
        ],
        [
         "THE ANXIETY, Willow, Tyler Cole",
         "Meet Me At Our Spot",
         "530.5"
        ],
        [
         "The Weeknd",
         "Every Angel is Terrifying",
         "37.3"
        ],
        [
         "Sebastian Yatra",
         "Tacones Rojos",
         "510.9"
        ],
        [
         "Justin Bieber, Daniel Caesar, Giveon",
         "Peaches (feat. Daniel Caesar & Giveon)",
         "1,445.9"
        ],
        [
         "Bad Bunny, Jhay Cortez",
         "Dakiti",
         "1,763.4"
        ],
        [
         "Bizarrap, Tiago pzk",
         "Tiago PZK: Bzrp Music Sessions, Vol. 48",
         "374.2"
        ],
        [
         "Stromae",
         "L���",
         "108.8"
        ],
        [
         "Chris Brown, Rvssian, Rauw Alejandro",
         "Nost��l",
         "436.7"
        ],
        [
         "NEIKED, Mae Muller, Polo G",
         "Better Days (NEIKED x Mae Muller x Polo G)",
         "421.0"
        ],
        [
         "Oliver Tree",
         "Life Goes On",
         "501.5"
        ],
        [
         "Kali Uchis, Amaarae, Moliy",
         "Sad Girlz Luv Money Remix (feat. Kali Uchis)",
         "354.1"
        ],
        [
         "BTS",
         "Butter",
         "1,143.6"
        ],
        [
         "Young Thug, Future, Gunna",
         "pushin P (feat. Young Thug)",
         "311.4"
        ],
        [
         "Doja Cat, The Weeknd",
         "You Right",
         "672.7"
        ],
        [
         "Olivia Rodrigo",
         "deja vu",
         "1,256.9"
        ],
        [
         "BTS",
         "Dynamite",
         "1,692.9"
        ],
        [
         "Jnr Choi",
         "TO THE MOON",
         "245.1"
        ],
        [
         "The Weeknd, Gesaffelstein",
         "Lost in the Fire",
         "686.7"
        ],
        [
         "Trueno, Tiago pzk",
         "Salimo de Noche",
         "261.4"
        ],
        [
         "Sech, Bad Bunny, Mora",
         "Volando - Remix",
         "610.0"
        ],
        [
         "Bruno Mars, Anderson .Paak, Silk Sonic",
         "Leave The Door Open",
         "1,115.9"
        ],
        [
         "Drake, Project Pat, 21 Savage",
         "Knife Talk (with 21 Savage ft. Project Pat)",
         "594.5"
        ],
        [
         "Ti��sto, Kar",
         "Don't Be Shy",
         "567.0"
        ],
        [
         "The Weeknd, ROSAL�",
         "LA FAMA (with The Weeknd)",
         "374.7"
        ],
        [
         "Olga Merediz, Stephanie Beatriz, Encanto - Cast",
         "The Family Madrigal",
         "184.9"
        ],
        [
         "The Weeknd",
         "Phantom Regret by Jim",
         "32.0"
        ],
        [
         "Sebastian Yatra",
         "Dos Oruguitas",
         "167.1"
        ],
        [
         "Surf Curse",
         "Freaks",
         "824.4"
        ],
        [
         "Jason Derulo",
         "Acapulco",
         "363.5"
        ],
        [
         "The Neighbourhood",
         "Daddy Issues",
         "1,127.5"
        ],
        [
         "21 Savage, Gunna",
         "thought i was playing",
         "60.7"
        ],
        [
         "IVE",
         "ELEVEN",
         "247.7"
        ],
        [
         "24kgoldn, Iann Dior",
         "Mood (feat. Iann Dior)",
         "1,699.4"
        ],
        [
         "Stephanie Beatriz, Diane Guerrero",
         "What Else Can I Do?",
         "154.8"
        ],
        [
         "Trueno",
         "DANCE CRIP",
         "198.9"
        ],
        [
         "David Kushner",
         "Miserable Man",
         "124.4"
        ],
        [
         "Olivia Rodrigo",
         "happier",
         "850.6"
        ],
        [
         "Kanye West",
         "Praise God",
         "376.3"
        ],
        [
         "Doja Cat",
         "Get Into It (Yuh)",
         "516.8"
        ],
        [
         "Lewis Capaldi",
         "Before You Go",
         "1,608.0"
        ],
        [
         "Playboi Carti",
         "Sky",
         "506.8"
        ],
        [
         "Adele",
         "Rolling in the Deep",
         "1,472.8"
        ],
        [
         "Maluma",
         "Sobrio",
         "513.6"
        ],
        [
         "Ed Sheeran, Fireboy DML",
         "Peru",
         "261.3"
        ],
        [
         "Olivia Rodrigo",
         "favorite crime",
         "783.7"
        ],
        [
         "Prezioso, Gabry Ponte, LUM!X",
         "Thunder",
         "422.7"
        ],
        [
         "Ti��",
         "The Business",
         "1,062.3"
        ],
        [
         "Ariana Grande",
         "positions",
         "1,252.6"
        ],
        [
         "M��ne",
         "I WANNA BE YOUR SLAVE",
         "851.1"
        ],
        [
         "Mar��lia Mendon��a, George Henrique &",
         "Vai L�� Em Casa ",
         "263.9"
        ],
        [
         "TWICE",
         "The Feels",
         "345.9"
        ],
        [
         "Giveon",
         "HEARTBREAK ANNIVERSARY",
         "951.6"
        ],
        [
         "Sean Paul, Dua Lipa",
         "No Lie",
         "956.9"
        ],
        [
         "Charli XCX, Jax Jones, Joel Corry, Saweetie",
         "OUT OUT (feat. Charli XCX & Saweetie)",
         "427.5"
        ],
        [
         "SALES",
         "Pope Is a Rockstar",
         "156.7"
        ],
        [
         "Sleepy hallow",
         "2055",
         "624.5"
        ],
        [
         "Billie Eilish",
         "Bored",
         "777.8"
        ],
        [
         "Billie Eilish",
         "Happier Than Ever - Edit",
         "412.8"
        ],
        [
         "Masked Wolf",
         "Astronaut In The Ocean",
         "1,138.5"
        ],
        [
         "Anuel Aa, Jhay Cortez",
         "Ley Seca",
         "355.2"
        ],
        [
         "NIKI",
         "Every Summertime",
         "290.2"
        ],
        [
         "Bruno Mars",
         "Talking To The Moon",
         "1,063.0"
        ],
        [
         "Tate McRae",
         "you broke me first",
         "1,180.1"
        ],
        [
         "Avicii",
         "The Nights",
         "1,456.1"
        ],
        [
         "The Weeknd",
         "Take My Breath",
         "432.7"
        ],
        [
         "Drake, Future, Young Thug",
         "Way 2 Sexy (with Future & Young Thug)",
         "489.9"
        ],
        [
         "Rauw Alejandro",
         "C��",
         "466.0"
        ],
        [
         "Imagine Dragons, League of Legends, Arcane",
         "Enemy - from the series Arcane League of Legends",
         "1,223.5"
        ],
        [
         "Tones and I",
         "Dance Monkey",
         "2,864.8"
        ],
        [
         "Juice WRLD",
         "Lucid Dreams",
         "2,288.7"
        ],
        [
         "J Balvin, Maria Becerra",
         "Qu�� M��",
         "720.8"
        ],
        [
         "John Legend",
         "All of Me",
         "2,086.1"
        ],
        [
         "Nirvana",
         "Smells Like Teen Spirit - Remastered 2021",
         "1,690.2"
        ],
        [
         "Duncan Laurence",
         "Arcade",
         "991.3"
        ],
        [
         "Drake, Travis Scott",
         "Fair Trade (with Travis Scott)",
         "593.9"
        ],
        [
         "Tini, L-Gante",
         "Bar",
         "201.0"
        ],
        [
         "SiM",
         "The Rumbling (TV Size)",
         "71.0"
        ],
        [
         "Kendrick Lamar, Baby Keem",
         "family ties (with Kendrick Lamar)",
         "560.2"
        ],
        [
         "The Killers",
         "Mr. Brightside",
         "1,806.6"
        ],
        [
         "ENHYPEN",
         "Blessed-Cursed",
         "77.3"
        ],
        [
         "J Balvin, Nio Garcia, Bad Bunny",
         "AM Remix",
         "528.5"
        ],
        [
         "Doja Cat",
         "Streets",
         "865.6"
        ],
        [
         "Lady Gaga, Bradley Cooper",
         "Shallow",
         "2,159.3"
        ],
        [
         "ENHYPEN",
         "Polaroid Love",
         "211.4"
        ],
        [
         "Marshmello, Jonas Brothers",
         "Leave Before You Love Me (with Jonas Brothers)",
         "651.7"
        ],
        [
         "BTS",
         "Permission to Dance",
         "608.3"
        ],
        [
         "Riton, Nightcrawlers, Mufasa & Hypeman, Dopamine",
         "Friday (feat. Mufasa & Hypeman) - Dopamine Re-Edit",
         "863.8"
        ],
        [
         "Polo G",
         "RAPSTAR",
         "797.4"
        ],
        [
         "Eminem, Nate Dogg",
         "'Till I Collapse",
         "1,695.7"
        ],
        [
         "Maroon 5",
         "Memories",
         "1,759.6"
        ],
        [
         "Arcangel, De La Ghetto, Justin Quiles, Lenny Tav��rez, Sech, Dalex, Dimelo Flow, Rich Music",
         "Se Le Ve",
         "223.3"
        ],
        [
         "Gunna, Lil Baby",
         "25k jacket (feat. Lil Baby)",
         "54.9"
        ],
        [
         "Katy Perry, Alesso",
         "When I���m Gone (with Katy ",
         "226.9"
        ],
        [
         "Mar��lia Mendon��a, Maiara &",
         "Esque��a-Me Se For C",
         "258.3"
        ],
        [
         "Tini, Maria Becerra",
         "Mi��n",
         "596.2"
        ],
        [
         "Anuel Aa, Myke Towers, Jhay Cortez",
         "S��",
         "177.1"
        ],
        [
         "Karol G, Becky G",
         "MAMIII",
         "716.6"
        ],
        [
         "Dr. Dre, Snoop Dogg",
         "Still D.R.E.",
         "1,210.6"
        ],
        [
         "Jung Kook",
         "Stay Alive (Prod. SUGA of BTS)",
         "246.4"
        ],
        [
         "Dove Cameron",
         "Boyfriend",
         "496.3"
        ],
        [
         "Ed Sheeran, Taylor Swift",
         "The Joker And The Queen (feat. Taylor Swift)",
         "146.8"
        ],
        [
         "Dr. Dre, Snoop Dogg",
         "The Next Episode",
         "843.3"
        ],
        [
         "Charlie Puth",
         "Light Switch",
         "500.3"
        ],
        [
         "Kanye West, Alicia Keys, Fivio Foreign",
         "City of Gods",
         "107.3"
        ],
        [
         "Mahmood, Blanco",
         "Brividi",
         "135.1"
        ],
        [
         "Frank Ocean",
         "Lost",
         "822.2"
        ],
        [
         "50 Cent",
         "In Da Club",
         "1,202.7"
        ],
        [
         "Tate McRae",
         "she's all i wanna be",
         "343.2"
        ],
        [
         "Yung Lean",
         "Ginseng Strip 2002",
         "240.8"
        ],
        [
         "Labrinth, Zendaya",
         "All For Us - from the HBO Original Series Euphoria",
         "426.2"
        ],
        [
         "The Rare Occasions",
         "Notion",
         "421.1"
        ],
        [
         "Labrinth",
         "Formula",
         "554.9"
        ],
        [
         "Labrinth",
         "Mount Everest",
         "467.7"
        ],
        [
         "Intense, AP Dhillon, Gurinder Gill",
         "Excuses",
         "327.5"
        ],
        [
         "Juice WRLD",
         "Cigarettes",
         "185.4"
        ],
        [
         "Quevedo, La Pantera, Juseph, Cruz Cafun��, B��jo, Abhir Hathi",
         "Cay�� La Noche (feat. Cruz Cafun��, Abhir Hathi, Bejo, EL IMA)",
         "245.4"
        ],
        [
         "Dr. Dre, 2Pac, Roger",
         "California Love - Original Version (Explicit)",
         "579.4"
        ],
        [
         "Eminem, Dr. Dre",
         "Forgot About Dre",
         "675.0"
        ],
        [
         "Luude, Colin Hay",
         "Down Under (feat. Colin Hay)",
         "252.9"
        ],
        [
         "Ryan Castro",
         "Mujeriego",
         "232.0"
        ],
        [
         "Kendrick Lamar",
         "HUMBLE.",
         "1,929.8"
        ],
        [
         "Eminem, Dido",
         "Stan",
         "918.9"
        ],
        [
         "GODZZ__-, Zakaria",
         "Contection",
         "1,180.9"
        ],
        [
         "Chase Atlantic",
         "Swim",
         "499.0"
        ],
        [
         "Bad Bunny",
         "A Tu Merced",
         "685.1"
        ],
        [
         "Em Beihold",
         "Numb Little Bug",
         "258.7"
        ],
        [
         "Mainstreet, Chefin",
         "212",
         "143.1"
        ],
        [
         "Alvaro Diaz, Rauw Alejandro",
         "Problem�",
         "209.8"
        ],
        [
         "Nicki Minaj, Lil Baby",
         "Bussin",
         "64.7"
        ],
        [
         "Future",
         "Worst Day",
         "50.7"
        ],
        [
         "Z�� Fe",
         "Malvada",
         "154.1"
        ],
        [
         "Muni Long",
         "Hrs and Hrs",
         "181.3"
        ],
        [
         "Vundabar",
         "Alien Blues",
         "370.1"
        ],
        [
         "Ed Sheeran",
         "Thinking Out Loud",
         "2,280.6"
        ],
        [
         "Labrinth",
         "Still Don't Know My Name",
         "563.9"
        ],
        [
         "V",
         "Christmas Tree",
         "317.6"
        ],
        [
         "Mar��lia Mendon��a, Hugo & G",
         "Mal Feito - Ao Vivo",
         "291.7"
        ],
        [
         "Labrinth",
         "When I R.I.P.",
         "203.7"
        ],
        [
         "Nicki Minaj, Lil Baby",
         "Do We Have A Problem?",
         "81.4"
        ],
        [
         "Labrinth",
         "Forever",
         "282.9"
        ],
        [
         "Eminem, Dr. Dre",
         "Gospel (with Eminem)",
         "64.8"
        ],
        [
         "Shawn Mendes, Camila Cabello",
         "Se��o",
         "2,484.8"
        ],
        [
         "Tyler, The Creator",
         "NEW MAGIC WAND",
         "461.4"
        ],
        [
         "Harry Styles",
         "Adore You",
         "1,439.2"
        ],
        [
         "Daddy Yankee, Bad Bunny",
         "La Santa",
         "759.2"
        ],
        [
         "Nirvana",
         "Something In The Way - Remastered 2021",
         "368.6"
        ],
        [
         "Dua Lipa, Megan Thee Stallion",
         "Sweetest Pie",
         "299.6"
        ],
        [
         "Camila Cabello, Ed Sheeran",
         "Bam Bam (feat. Ed Sheeran)",
         "756.9"
        ],
        [
         "Cris Mj",
         "Una Noche en Medell�",
         "682.5"
        ],
        [
         "Anitta",
         "Envolver",
         "546.2"
        ],
        [
         "Dave",
         "Starlight",
         "229.5"
        ],
        [
         "Tulus",
         "Hati-Hati di Jalan",
         "202.7"
        ],
        [
         "Labrinth",
         "I'm Tired - From \"Euphoria\" An Original HBO Series",
         "121.9"
        ],
        [
         "Mc Pedrinho, Pedro Sampaio",
         "DAN��A",
         "208.2"
        ],
        [
         "Zion & Lennox",
         "Yo Voy (feat. Daddy Yankee)",
         "527.0"
        ],
        [
         "Residente, Bizarrap",
         "Residente: Bzrp Music Sessions, Vol. 49",
         "94.6"
        ],
        [
         "Ryan Castro",
         "Jordan",
         "394.0"
        ],
        [
         "Jack Harlow",
         "Nail Tech",
         "193.4"
        ],
        [
         "Eden Mu��",
         "Chale",
         "299.6"
        ],
        [
         "Treasure",
         "DARARI",
         "183.0"
        ],
        [
         "Christian Nodal",
         "Ya No Somos Ni Seremos",
         "319.8"
        ],
        [
         "Kevin Gates, Juicy J",
         "Thinking with My Dick",
         "109.1"
        ],
        [
         "Tyga, Doja Cat",
         "Freaky Deaky",
         "153.2"
        ],
        [
         "JVKE",
         "this is what falling in love feels like",
         "346.1"
        ],
        [
         "Bad Bunny",
         "La Zona",
         "312.6"
        ],
        [
         "Queen",
         "Bohemian Rhapsody - Remastered 2011",
         "2,197.0"
        ],
        [
         "XXXTENTACION",
         "Hope",
         "1,200.8"
        ],
        [
         "Dua Lipa",
         "Levitating",
         "797.2"
        ],
        [
         "Avicii",
         "Wake Me Up - Radio Edit",
         "1,970.7"
        ],
        [
         "Olivia Rodrigo",
         "jealousy, jealousy",
         "665.8"
        ],
        [
         "YEAT",
         "Mon��y so",
         "263.8"
        ],
        [
         "C. Tangana",
         "Demasiadas Mujeres",
         "339.5"
        ],
        [
         "The Chainsmokers, Coldplay",
         "Something Just Like This",
         "2,204.1"
        ],
        [
         "The Chainsmokers, Halsey",
         "Closer",
         "2,591.2"
        ],
        [
         "NMIXX",
         "O.O",
         "135.4"
        ],
        [
         "Gotye, Kimbra",
         "Somebody That I Used To Know",
         "1,457.1"
        ],
        [
         "AnnenMayKantereit, Giant Rooks",
         "Tom's Diner",
         "236.9"
        ],
        [
         "Jack Harlow",
         "First Class",
         "694.5"
        ],
        [
         "Paulo Londra",
         "Plan A",
         "240.7"
        ],
        [
         "Danny Ocean",
         "Fuera del mercado",
         "421.4"
        ],
        [
         "Daddy Yankee, Bad Bunny",
         "X ��LTIMA",
         "349.7"
        ],
        [
         "Shawn Mendes",
         "When You're Gone",
         "255.1"
        ],
        [
         "Lil Tjay",
         "In My Head",
         "191.0"
        ],
        [
         "Willow",
         "Wait a Minute!",
         "924.2"
        ],
        [
         "IVE",
         "LOVE DIVE",
         "305.8"
        ],
        [
         "Feid, Alejo, Robi",
         "Pantysito",
         "273.0"
        ],
        [
         "Paulo Londra",
         "Chance",
         "89.6"
        ],
        [
         "Demi Lovato",
         "Cool for the Summer",
         "677.4"
        ],
        [
         "Camila Cabello, Willow",
         "psychofreak (feat. WILLOW)",
         "75.5"
        ],
        [
         "Troye Sivan",
         "Angel Baby",
         "408.8"
        ],
        [
         "Matu��, Wiu, ",
         "Vampiro",
         "187.8"
        ],
        [
         "De La Ghetto, Duki, Quevedo",
         "Si Quieren Frontear",
         "178.5"
        ],
        [
         "Lil Baby",
         "Right On",
         "101.8"
        ],
        [
         "Ak4:20, Cris Mj, Pailita",
         "Me Arrepent�",
         "118.4"
        ],
        [
         "Charlie Puth",
         "That's Hilarious",
         "146.4"
        ],
        [
         "Yahritza Y Su Esencia",
         "Soy El Unico",
         "126.4"
        ],
        [
         "Daddy Yankee",
         "RUMBAT�",
         "158.0"
        ],
        [
         "Lu��sa Sonza, MC Frog, Dj Gabriel do Borel, Davi K",
         "sentaDONA (Remix) s2",
         "176.3"
        ],
        [
         "Harry Styles",
         "Falling",
         "1,023.2"
        ],
        [
         "Ed Sheeran, J Balvin",
         "Sigue",
         "106.9"
        ],
        [
         "teto",
         "Fim de Semana no Rio",
         "139.2"
        ],
        [
         "Stray Kids",
         "MANIAC",
         "212.2"
        ],
        [
         "Shawn Mendes",
         "There's Nothing Holdin' Me Back",
         "1,714.5"
        ],
        [
         "Blackbear, BoyWithUke",
         "IDGAF (with blackbear)",
         "197.6"
        ],
        [
         "Harry Styles",
         "Golden",
         "807.0"
        ],
        [
         "Pharrell Williams, Nile Rodgers, Daft Punk",
         "Get Lucky - Radio Edit",
         "933.8"
        ],
        [
         "Doja Cat",
         "Ain't Shit",
         "499.7"
        ],
        [
         "Jordan Fisher, Josh Levi, Finneas O'Connell, 4*TOWN (From Disney and Pixar���s Turning Red), Topher Ngo, Grayson Vill",
         "Nobody Like U - From \"Turning Red\"",
         "120.8"
        ],
        [
         "BIGBANG",
         "Still Life",
         "53.9"
        ],
        [
         "Ed Sheeran",
         "Photograph",
         "2,236.7"
        ],
        [
         "Justin Bieber",
         "Love Yourself",
         "2,123.3"
        ],
        [
         "Kendrick Lamar",
         "N95",
         "301.2"
        ],
        [
         "Lizzo",
         "About Damn Time",
         "723.9"
        ],
        [
         "Kendrick Lamar, Blxst, Amanda Reifer",
         "Die Hard",
         "237.4"
        ],
        [
         "Bad Bunny",
         "Despu��s de la P",
         "461.6"
        ],
        [
         "Bad Bunny",
         "Un Ratito",
         "417.2"
        ],
        [
         "Kendrick Lamar",
         "United In Grief",
         "156.9"
        ],
        [
         "Kendrick Lamar, Sampha",
         "Father Time (feat. Sampha)",
         "127.3"
        ],
        [
         "Bad Bunny",
         "Yo No Soy Celoso",
         "313.1"
        ],
        [
         "Kendrick Lamar",
         "Rich Spirit",
         "173.7"
        ],
        [
         "Post Malone, Roddy Ricch",
         "Cooped Up (with Roddy Ricch)",
         "271.7"
        ],
        [
         "Bad Bunny",
         "Me Fui de Vacaciones",
         "305.7"
        ],
        [
         "Kendrick Lamar, Kodak Black",
         "Silent Hill",
         "123.2"
        ],
        [
         "Tony Dize, Bad Bunny",
         "La Corriente",
         "479.7"
        ],
        [
         "Kendrick Lamar",
         "Count Me Out",
         "126.2"
        ],
        [
         "Buscabulla, Bad Bunny",
         "Andrea",
         "344.1"
        ],
        [
         "Bad Bunny",
         "Dos Mil 16",
         "338.4"
        ],
        [
         "Kendrick Lamar, Taylour Paige",
         "We Cry Together",
         "68.9"
        ],
        [
         "Kendrick Lamar, Sam Dew, Baby Keem",
         "Savior",
         "86.2"
        ],
        [
         "Bad Bunny",
         "Un Coco",
         "403.2"
        ],
        [
         "Bad Bunny, The Mar��",
         "Otro Atardecer",
         "319.5"
        ],
        [
         "Kendrick Lamar",
         "Worldwide Steppers",
         "61.7"
        ],
        [
         "Bad Bunny",
         "Aguacero",
         "283.4"
        ],
        [
         "Kendrick Lamar, Ghostface Killah, Summer Walker",
         "Purple Hearts",
         "76.8"
        ],
        [
         "Bad Bunny",
         "Un Verano Sin Ti",
         "283.3"
        ],
        [
         "Polima WestCoast, Pailita",
         "ULTRA SOLO",
         "307.8"
        ],
        [
         "Bad Bunny",
         "Ens����ame ",
         "279.7"
        ],
        [
         "Bad Bunny",
         "El Apag�",
         "212.4"
        ],
        [
         "Bad Bunny, Tainy",
         "Callaita",
         "1,304.3"
        ],
        [
         "Jack Harlow",
         "Dua Lipa",
         "150.5"
        ],
        [
         "Bad Bunny",
         "Agosto",
         "246.1"
        ],
        [
         "Panic! At The Disco",
         "House Of Memories",
         "582.9"
        ],
        [
         "Kendrick Lamar, Tanna Leone",
         "Mr. Morale",
         "58.7"
        ],
        [
         "PSY, Suga",
         "That That (prod. & feat. SUGA of BTS)",
         "212.1"
        ],
        [
         "Benson Boone",
         "In The Stars",
         "382.2"
        ],
        [
         "Kendrick Lamar",
         "Rich - Interlude",
         "41.2"
        ],
        [
         "M��ne",
         "SUPERMODEL",
         "231.7"
        ],
        [
         "KALUSH",
         "Stefania (Kalush Orchestra)",
         "53.7"
        ],
        [
         "The Kid Laroi",
         "Thousand Miles",
         "244.7"
        ],
        [
         "Kendrick Lamar",
         "Crown",
         "42.5"
        ],
        [
         "Kendrick Lamar",
         "Auntie Diaries",
         "37.8"
        ],
        [
         "Future",
         "PUFFIN ON ZOOTIEZ",
         "254.2"
        ],
        [
         "Kendrick Lamar",
         "Mirror",
         "53.6"
        ],
        [
         "Luciano",
         "Beautiful Girl",
         "160.0"
        ],
        [
         "Bizarrap, Paulo Londra",
         "Paulo Londra: Bzrp Music Sessions, Vol. 23",
         "164.2"
        ],
        [
         "Kendrick Lamar",
         "Savior - Interlude",
         "37.1"
        ],
        [
         "Shae Gill, Ali Sethi",
         "Pasoori",
         "284.2"
        ],
        [
         "Kendrick Lamar, Beth Gibbons",
         "Mother I Sober (feat. Beth Gibbons of Portishead)",
         "33.4"
        ],
        [
         "Sech, Mora",
         "TUS L��GR",
         "184.6"
        ],
        [
         "MNEK, Jax Jones",
         "Where Did You Go?",
         "301.0"
        ],
        [
         "Ugly Dray, Tesla Jnr",
         "I Tried to Tell Y'all",
         "121.1"
        ],
        [
         "Justin Bieber, Don Toliver",
         "Honest (feat. Don Toliver)",
         "106.9"
        ],
        [
         "Jessi",
         "ZOOM",
         "137.0"
        ],
        [
         "Chanel",
         "SloMo",
         "65.7"
        ],
        [
         "LE SSERAFIM",
         "FEARLESS",
         "229.5"
        ],
        [
         "Leah Kate",
         "10 Things I Hate About You",
         "185.6"
        ],
        [
         "Sam Ryder",
         "SPACE MAN",
         "54.7"
        ],
        [
         "HA SUNG WOON, Jimin",
         "With you",
         "240.6"
        ],
        [
         "The Goo Goo Dolls",
         "Iris",
         "1,284.9"
        ],
        [
         "Kendrick Lamar",
         "The Heart Part 5",
         "71.4"
        ],
        [
         "Kevin Kaarl",
         "San Lucas",
         "244.9"
        ],
        [
         "Taylor Swift",
         "This Love (Taylor���s Ve",
         "132.2"
        ],
        [
         "Suki Waterhouse",
         "Good Looking",
         "184.7"
        ],
        [
         "Lauren Spencer Smith",
         "Flowers",
         "184.8"
        ],
        [
         "BTS",
         "Yet To Come",
         "302.0"
        ],
        [
         "BTS",
         "Run BTS",
         "330.9"
        ],
        [
         "Harry Styles",
         "Music For a Sushi Restaurant",
         "334.7"
        ],
        [
         "Harry Styles",
         "Matilda",
         "366.2"
        ],
        [
         "BTS",
         "For Youth",
         "114.5"
        ],
        [
         "Harry Styles",
         "Daylight",
         "290.8"
        ],
        [
         "Doja Cat",
         "Vegas (From the Original Motion Picture Soundtrack ELVIS)",
         "448.5"
        ],
        [
         "Pharrell Williams, Tyler, The Creator, 21 Savage",
         "Cash In Cash Out",
         "136.7"
        ],
        [
         "Calvin Harris, Dua Lipa, Young Thug",
         "Potion (with Dua Lipa & Young Thug)",
         "190.6"
        ],
        [
         "BTS",
         "Born Singer",
         "79.1"
        ],
        [
         "Harry Styles",
         "Little Freak",
         "273.2"
        ],
        [
         "Nengo Flow, Anuel Aa, Chris Jedi, Chencho Corleone",
         "La Llevo Al Cielo (Ft. ��engo F",
         "333.1"
        ],
        [
         "Kanye West, XXXTENTACION",
         "True Love",
         "194.9"
        ],
        [
         "Harry Styles",
         "Satellite",
         "311.5"
        ],
        [
         "Musical Youth",
         "Pass The Dutchie",
         "195.9"
        ],
        [
         "Bizarrap, Villano Antillano",
         "Villano Antillano: Bzrp Music Sessions, Vol. 51",
         "248.5"
        ],
        [
         "Harry Styles",
         "Love Of My Life",
         "233.7"
        ],
        [
         "Harry Styles",
         "Grapejuice",
         "199.6"
        ],
        [
         "Halsey",
         "So Good",
         "91.8"
        ],
        [
         "BYOR, Imanbek",
         "Belly Dancer",
         "383.8"
        ],
        [
         "Harry Styles",
         "Keep Driving",
         "236.1"
        ],
        [
         "Harry Styles",
         "Cinema",
         "189.2"
        ],
        [
         "Sleepy hallow, 347aidan",
         "Die Young (feat. 347aidan)",
         "160.8"
        ],
        [
         "Paloma Faith",
         "Only Love Can Hurt Like This",
         "589.0"
        ],
        [
         "Lady Gaga",
         "Hold My Hand",
         "238.4"
        ],
        [
         "Harry Styles",
         "Daydreaming",
         "187.7"
        ],
        [
         "Marshmello, Khalid",
         "Numb",
         "295.3"
        ],
        [
         "Ozuna, Tiago pzk",
         "Nos Comemos (feat. Ozuna)",
         "138.3"
        ],
        [
         "Childish Gambino",
         "Me and Your Mama",
         "445.6"
        ],
        [
         "David Guetta, Ella Henderson, Becky Hill",
         "Crazy What Love Can Do",
         "286.7"
        ],
        [
         "Joji",
         "SLOW DANCING IN THE DARK",
         "1,122.4"
        ],
        [
         "Duki",
         "Antes de Perderte",
         "157.1"
        ],
        [
         "Harry Styles",
         "Boyfriends",
         "137.1"
        ],
        [
         "Sidhu Moose Wala",
         "295",
         "183.3"
        ],
        [
         "Keisya Levronka",
         "Tak Ingin Usai",
         "184.8"
        ],
        [
         "Victor Cibrian",
         "En El Radio Un Cochinero",
         "164.9"
        ],
        [
         "Metallica",
         "Master of Puppets (Remastered)",
         "704.2"
        ],
        [
         "Beyonc�",
         "BREAK MY SOUL",
         "354.6"
        ],
        [
         "De La Ghetto, Feid, Polima WestCoast, Paloma Mami, Pailita",
         "ULTRA SOLO REMIX",
         "279.7"
        ],
        [
         "Drake",
         "Massive",
         "195.6"
        ],
        [
         "Yung Gravy",
         "Betty (Get Money)",
         "221.8"
        ],
        [
         "Lasso",
         "Ojos Marrones",
         "263.3"
        ],
        [
         "Nayeon",
         "POP!",
         "213.5"
        ],
        [
         "Sch��rze, DJ R",
         "Layla",
         "130.4"
        ],
        [
         "j-hope",
         "MORE",
         "155.8"
        ],
        [
         "Guns N' Roses",
         "Sweet Child O' Mine",
         "1,553.5"
        ],
        [
         "Burna Boy",
         "Last Last",
         "293.5"
        ],
        [
         "Rosa Linn",
         "SNAP",
         "711.4"
        ],
        [
         "Drake",
         "Sticky",
         "191.4"
        ],
        [
         "Kanye West, Lil Durk, Cardi B",
         "Hot Shit (feat. Ye & Lil Durk)",
         "85.9"
        ],
        [
         "L7nnon, DJ Biel do Furduncinho, Bianca",
         "Ai Preto",
         "176.1"
        ],
        [
         "Anitta, Tini, Becky G",
         "La Loto",
         "121.2"
        ],
        [
         "Nessa Barrett",
         "die first",
         "131.7"
        ],
        [
         "LF System",
         "Afraid To Feel",
         "244.8"
        ],
        [
         "Mc Vitin Da Igrejinha, MC Tairon, DJ Win",
         "Baile no Morro",
         "129.3"
        ],
        [
         "Rels B",
         "c��mo dormi",
         "331.5"
        ],
        [
         "Snoop Dogg, BTS, Benny Blanco",
         "Bad Decisions (with BTS & Snoop Dogg)",
         "219.2"
        ],
        [
         "Drake, DJ Khaled, Lil Baby",
         "STAYING ALIVE (feat. Drake & Lil Baby)",
         "170.7"
        ],
        [
         "Luar La L",
         "Caile",
         "273.9"
        ],
        [
         "Feid",
         "Si Te La Encuentras Por Ah�",
         "179.1"
        ],
        [
         "Duki",
         "GIVENCHY",
         "185.2"
        ],
        [
         "Beyonc�",
         "ALIEN SUPERSTAR",
         "171.8"
        ],
        [
         "Ghost",
         "Mary On A Cross",
         "387.1"
        ],
        [
         "NewJeans",
         "Attention",
         "264.7"
        ],
        [
         "Rex Orange County",
         "THE SHADE",
         "244.9"
        ],
        [
         "Sofia Carson",
         "Come Back Home - From \"Purple Hearts\"",
         "97.6"
        ],
        [
         "Grupo Marca Registrada, Junior H",
         "El Rescate",
         "287.3"
        ],
        [
         "Kanye West",
         "Heartless",
         "887.9"
        ],
        [
         "Calvin Harris, Halsey, Pharrell Williams, Justin Timberlake",
         "Stay With Me (with Justin Timberlake, Halsey, & Pharrell)",
         "123.5"
        ],
        [
         "Peso Pluma, Luis R Conriquez",
         "Siempre Pendientes",
         "295.2"
        ],
        [
         "Luis R Conriquez, La Adictiva",
         "JGL",
         "323.5"
        ],
        [
         "David Guetta, Shakira, Black Eyed Peas",
         "Don't You Worry",
         "240.9"
        ],
        [
         "Melody, Ana Castela, Dj Chris No Beat",
         "Pipoco",
         "191.9"
        ],
        [
         "Elton John, Britney Spears",
         "Hold Me Closer",
         "284.2"
        ],
        [
         "Lewis Capaldi",
         "Forget Me",
         "239.4"
        ],
        [
         "IVE",
         "After LIKE",
         "265.5"
        ],
        [
         "Kanye West",
         "Bound 2",
         "703.3"
        ],
        [
         "Interplanetary Criminal, Eliza Rose",
         "B.O.T.A. (Baddest Of Them All) - Edit",
         "244.6"
        ],
        [
         "TWICE",
         "Talk that Talk",
         "189.5"
        ],
        [
         "Armani White",
         "BILLIE EILISH.",
         "277.1"
        ],
        [
         "Feid",
         "Ferxxo 100",
         "278.9"
        ],
        [
         "Oxlade",
         "KU LO SA - A COLORS SHOW",
         "222.4"
        ],
        [
         "Feid",
         "Prohibidox",
         "185.4"
        ],
        [
         "Steve Lacy",
         "Static",
         "202.5"
        ],
        [
         "Coldplay",
         "The Scientist",
         "1,608.2"
        ],
        [
         "Coldplay",
         "Sparks",
         "624.1"
        ],
        [
         "YEAT",
         "Talk",
         "148.5"
        ],
        [
         "Yandel, Feid",
         "XQ Te Pones As�",
         "47.1"
        ],
        [
         "PnB Rock",
         "Selfish",
         "380.3"
        ],
        [
         "Ovy On The Drums, Quevedo",
         "Sin Se��",
         "209.1"
        ],
        [
         "Feid",
         "Lady Mi Amor",
         "54.0"
        ],
        [
         "Lil Yachty",
         "Poland",
         "115.3"
        ],
        [
         "M��ne",
         "THE LONELIEST",
         "225.1"
        ],
        [
         "Marshmello, Juice WRLD",
         "Bye Bye",
         "84.7"
        ],
        [
         "Fran C, Polima WestCoast, Nickoog Clk, Pablito Pesadilla",
         "BABY OTAKU",
         "159.2"
        ],
        [
         "(G)I-DLE",
         "Nxde",
         "170.7"
        ],
        [
         "Southstar",
         "Miss You",
         "154.4"
        ],
        [
         "girl in red",
         "we fell in love in october",
         "723.0"
        ],
        [
         "Lizzo",
         "2 Be Loved (Am I Ready)",
         "247.7"
        ],
        [
         "Ed Sheeran",
         "Celestial",
         "176.5"
        ],
        [
         "BLACKPINK",
         "Typa Girl",
         "235.5"
        ],
        [
         "Rosa Walton, Hallie Coggins",
         "I Really Want to Stay at Your House",
         "140.4"
        ],
        [
         "Lil Baby",
         "California Breeze",
         "85.6"
        ],
        [
         "Luciano, Aitch, B�",
         "Bamba (feat. Aitch & BIA)",
         "146.2"
        ],
        [
         "MC Ryan SP, Love Funk, Mc Paiva ZS",
         "Casei Com a Putaria",
         "187.7"
        ],
        [
         "Drake, 21 Savage",
         "Major Distribution",
         "154.9"
        ],
        [
         "Drake, Travis Scott, 21 Savage",
         "Pussy & Millions (feat. Travis Scott)",
         "191.3"
        ],
        [
         "Taylor Swift",
         "Vigilante Shit",
         "253.7"
        ],
        [
         "Taylor Swift",
         "Question...?",
         "223.1"
        ],
        [
         "Drake, 21 Savage",
         "On BS",
         "170.4"
        ],
        [
         "Taylor Swift",
         "Mastermind",
         "218.3"
        ],
        [
         "Drake, 21 Savage",
         "Circo Loco",
         "141.7"
        ],
        [
         "Taylor Swift",
         "Labyrinth",
         "187.3"
        ],
        [
         "Drake, 21 Savage",
         "Spin Bout U",
         "198.4"
        ],
        [
         "Taylor Swift",
         "Sweet Nothing",
         "186.1"
        ],
        [
         "Taylor Swift",
         "Would've, Could've, Should've",
         "177.5"
        ],
        [
         "Ludwig Goransson, Foudeqush",
         "Con La Brisa",
         "71.1"
        ],
        [
         "Drake, 21 Savage",
         "Privileged Rappers",
         "112.4"
        ],
        [
         "Jin",
         "The Astronaut",
         "203.4"
        ],
        [
         "Drake",
         "BackOutsideBoyz",
         "93.4"
        ],
        [
         "Drake, 21 Savage",
         "Broke Boys",
         "106.2"
        ],
        [
         "Taylor Swift",
         "The Great War",
         "181.4"
        ],
        [
         "Selena Gomez",
         "My Mind & Me",
         "91.5"
        ],
        [
         "Taylor Swift",
         "Bigger Than The Whole Sky",
         "121.9"
        ],
        [
         "Feid, Paulo Londra",
         "A Veces (feat. Feid)",
         "73.5"
        ],
        [
         "Feid, Sech, Jhayco",
         "En La De Ella",
         "133.9"
        ],
        [
         "Burna Boy",
         "Alone",
         "96.0"
        ]
       ],
       "datasetInfos": [],
       "dbfsResultPath": null,
       "isJsonSchema": true,
       "metadata": {},
       "overflow": false,
       "plotOptions": {
        "customPlotOptions": {},
        "displayType": "table",
        "pivotAggregation": null,
        "pivotColumns": null,
        "xColumns": null,
        "yColumns": null
       },
       "removedWidgets": [],
       "schema": [
        {
         "metadata": "{}",
         "name": "artist_s__name",
         "type": "\"string\""
        },
        {
         "metadata": "{}",
         "name": "track_name",
         "type": "\"string\""
        },
        {
         "metadata": "{}",
         "name": "streams_millions",
         "type": "\"string\""
        }
       ],
       "type": "table"
      }
     },
     "output_type": "display_data"
    },
    {
     "output_type": "display_data",
     "data": {
      "text/plain": [
       "Databricks visualization. Run in Databricks to view."
      ]
     },
     "metadata": {
      "application/vnd.databricks.v1.subcommand+json": {
       "baseErrorDetails": null,
       "bindings": {},
       "collapsed": false,
       "command": "%python\n__backend_agg_display_orig = display\n__backend_agg_dfs = []\ndef __backend_agg_display_new(df):\n    __backend_agg_df_modules = [\"pandas.core.frame\", \"databricks.koalas.frame\", \"pyspark.sql.dataframe\", \"pyspark.pandas.frame\", \"pyspark.sql.connect.dataframe\"]\n    if (type(df).__module__ in __backend_agg_df_modules and type(df).__name__ == 'DataFrame') or isinstance(df, list):\n        __backend_agg_dfs.append(df)\n\ndisplay = __backend_agg_display_new\n\ndef __backend_agg_user_code_fn():\n    import base64\n    exec(base64.standard_b64decode(\"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\").decode())\n\ntry:\n    # run user code\n    __backend_agg_user_code_fn()\n\n    #reset display function\n    display = __backend_agg_display_orig\n\n    if len(__backend_agg_dfs) > 1:\n        # create a temp view\n        if type(__backend_agg_dfs[1]).__module__ == \"databricks.koalas.frame\":\n            # koalas dataframe\n            __backend_agg_dfs[1].to_spark().createOrReplaceTempView(\"DatabricksViewd282e8f\")\n        elif type(__backend_agg_dfs[1]).__module__ == \"pandas.core.frame\" or isinstance(__backend_agg_dfs[1], list):\n            # pandas dataframe\n            spark.createDataFrame(__backend_agg_dfs[1]).createOrReplaceTempView(\"DatabricksViewd282e8f\")\n        else:\n            __backend_agg_dfs[1].createOrReplaceTempView(\"DatabricksViewd282e8f\")\n        #run backend agg\n        display(spark.sql(\"\"\"WITH q AS (select * from DatabricksViewd282e8f) SELECT `artist_s__name`,COUNT(`streams_millions`) `column_c400d0fc274` FROM q GROUP BY `artist_s__name`\"\"\"))\n    else:\n        displayHTML(\"dataframe no longer exists. If you're using dataframe.display(), use display(dataframe) instead.\")\n\n\nfinally:\n    spark.sql(\"drop view if exists DatabricksViewd282e8f\")\n    display = __backend_agg_display_orig\n    del __backend_agg_display_new\n    del __backend_agg_display_orig\n    del __backend_agg_dfs\n    del __backend_agg_user_code_fn\n\n",
       "commandTitle": "Histogramme des streams par artiste",
       "commandType": "auto",
       "commandVersion": 0,
       "commentThread": [],
       "commentsVisible": false,
       "contentSha256Hex": null,
       "customPlotOptions": {
        "redashChart": [
         {
          "key": "type",
          "value": "CHART"
         },
         {
          "key": "options",
          "value": {
           "alignYAxesAtZero": true,
           "coefficient": 1,
           "columnConfigurationMap": {
            "series": {
             "column": "artist_s__name",
             "id": "column_3f7c0e0b57"
            },
            "x": {
             "column": "artist_s__name",
             "id": "column_c400d0fc273"
            },
            "y": [
             {
              "column": "streams_millions",
              "id": "column_c400d0fc274",
              "transform": "COUNT"
             }
            ]
           },
           "dateTimeFormat": "DD/MM/YYYY HH:mm",
           "direction": {
            "type": "counterclockwise"
           },
           "error_y": {
            "type": "data",
            "visible": true
           },
           "globalSeriesType": "column",
           "isAggregationOn": true,
           "legend": {
            "enabled": false,
            "traceorder": "normal"
           },
           "missingValuesAsZero": true,
           "numberFormat": "0,0.[00000]",
           "percentFormat": "0[.]00%",
           "series": {
            "error_y": {
             "type": "data",
             "visible": true
            },
            "percentValues": false,
            "stacking": null
           },
           "seriesOptions": {
            "column_c400d0fc274": {
             "type": "column",
             "yAxis": 0
            }
           },
           "showDataLabels": false,
           "sizemode": "diameter",
           "sortX": true,
           "sortY": true,
           "swappedAxes": false,
           "textFormat": "",
           "useAggregationsUi": true,
           "valuesOptions": {},
           "version": 2,
           "xAxis": {
            "labels": {
             "enabled": true
            },
            "type": "-"
           },
           "yAxis": [
            {
             "type": "-"
            },
            {
             "opposite": true,
             "type": "-"
            }
           ]
          }
         }
        ]
       },
       "datasetPreviewNameToCmdIdMap": {},
       "diffDeletes": [],
       "diffInserts": [],
       "displayType": "redashChart",
       "error": null,
       "errorDetails": null,
       "errorSummary": null,
       "errorTraceType": null,
       "finishTime": 0,
       "globalVars": {},
       "guid": "",
       "height": "495",
       "hideCommandCode": false,
       "hideCommandResult": false,
       "iPythonMetadata": null,
       "inputWidgets": {},
       "isLockedInExamMode": false,
       "latestAssumeRoleInfo": null,
       "latestUser": "a user",
       "latestUserId": null,
       "listResultMetadata": null,
       "metadata": {
        "byteLimit": 2048000,
        "rowLimit": 10000
       },
       "nuid": "74015bd9-3c6f-4c0a-a986-117023833e88",
       "origId": 0,
       "parentHierarchy": [],
       "pivotAggregation": null,
       "pivotColumns": null,
       "position": 2.0,
       "resultDbfsErrorMessage": null,
       "resultDbfsStatus": "INLINED_IN_TREE",
       "results": null,
       "showCommandTitle": false,
       "startTime": 0,
       "state": "input",
       "streamStates": {},
       "subcommandOptions": {
        "queryPlan": {
         "groups": [
          {
           "column": "artist_s__name",
           "type": "column"
          },
          {
           "column": "artist_s__name",
           "type": "column"
          }
         ],
         "selects": [
          {
           "column": "artist_s__name",
           "type": "column"
          },
          {
           "alias": "column_c400d0fc274",
           "args": [
            {
             "column": "streams_millions",
             "type": "column"
            }
           ],
           "function": "COUNT",
           "type": "function"
          },
          {
           "column": "artist_s__name",
           "type": "column"
          }
         ]
        }
       },
       "submitTime": 0,
       "subtype": "tableResultSubCmd.visualization",
       "tableResultIndex": 1,
       "tableResultSettingsMap": {},
       "useConsistentColors": false,
       "version": "CommandV1",
       "width": "auto",
       "workflows": [],
       "xColumns": null,
       "yColumns": null
      }
     },
     "output_type": "display_data"
    },
    {
     "output_type": "stream",
     "name": "stdout",
     "output_type": "stream",
     "text": [
      "Evolution des streams cumulés par année\n"
     ]
    },
    {
     "output_type": "display_data",
     "data": {
      "text/html": [
       "<style scoped>\n",
       "  .table-result-container {\n",
       "    max-height: 300px;\n",
       "    overflow: auto;\n",
       "  }\n",
       "  table, th, td {\n",
       "    border: 1px solid black;\n",
       "    border-collapse: collapse;\n",
       "  }\n",
       "  th, td {\n",
       "    padding: 5px;\n",
       "  }\n",
       "  th {\n",
       "    text-align: left;\n",
       "  }\n",
       "</style><div class='table-result-container'><table class='table-result'><thead style='background-color: white'><tr><th>released_year</th><th>sum(streams)</th></tr></thead><tbody><tr><td>1930</td><td>9.0598517E7</td></tr><tr><td>1942</td><td>3.95591396E8</td></tr><tr><td>1946</td><td>3.89771964E8</td></tr><tr><td>1950</td><td>4.73248298E8</td></tr><tr><td>1952</td><td>3.95591396E8</td></tr><tr><td>1957</td><td>9.19962022E8</td></tr><tr><td>1958</td><td>1.310562937E9</td></tr><tr><td>1959</td><td>5.73417844E8</td></tr><tr><td>1963</td><td>1.311263381E9</td></tr><tr><td>1968</td><td>1.145727611E9</td></tr><tr><td>1970</td><td>5.20034544E8</td></tr><tr><td>1971</td><td>4.60492795E8</td></tr><tr><td>1973</td><td>8.38586769E8</td></tr><tr><td>1975</td><td>4.206105352E9</td></tr><tr><td>1979</td><td>4.03939487E8</td></tr><tr><td>1982</td><td>3.5027545E8</td></tr><tr><td>1983</td><td>1.593270737E9</td></tr><tr><td>1984</td><td>3.471625366E9</td></tr><tr><td>1985</td><td>2.230809941E9</td></tr><tr><td>1986</td><td>1.133675836E9</td></tr><tr><td>1987</td><td>1.553497987E9</td></tr><tr><td>1991</td><td>2.058839789E9</td></tr><tr><td>1992</td><td>1.271293243E9</td></tr><tr><td>1994</td><td>1.449779435E9</td></tr><tr><td>1995</td><td>1.937003916E9</td></tr><tr><td>1996</td><td>1.06933107E8</td></tr><tr><td>1997</td><td>1.03762518E8</td></tr><tr><td>1998</td><td>1.284942608E9</td></tr><tr><td>1999</td><td>5.403077822E9</td></tr><tr><td>2000</td><td>3.933974039E9</td></tr><tr><td>2002</td><td>8.679722823E9</td></tr><tr><td>2003</td><td>3.168042741E9</td></tr><tr><td>2004</td><td>3.515718239E9</td></tr><tr><td>2005</td><td>1.80577478E8</td></tr><tr><td>2007</td><td>1.21712071E9</td></tr><tr><td>2008</td><td>2.4808159E9</td></tr><tr><td>2010</td><td>7.569839778E9</td></tr><tr><td>2011</td><td>9.363212907E9</td></tr><tr><td>2012</td><td>1.3415342787E10</td></tr><tr><td>2013</td><td>1.5862499834E10</td></tr><tr><td>2014</td><td>1.6432612812E10</td></tr><tr><td>2015</td><td>1.0930934969E10</td></tr><tr><td>2016</td><td>2.0242940464E10</td></tr><tr><td>2017</td><td>3.145763906E10</td></tr><tr><td>2018</td><td>1.503052239E10</td></tr><tr><td>2019</td><td>3.7870932581E10</td></tr><tr><td>2020</td><td>3.4703731857E10</td></tr><tr><td>2021</td><td>7.3808103039E10</td></tr><tr><td>2022</td><td>1.164023752E11</td></tr><tr><td>2023</td><td>2.5808484104E10</td></tr></tbody></table></div>"
      ]
     },
     "metadata": {
      "application/vnd.databricks.v1+output": {
       "addedWidgets": {},
       "aggData": [],
       "aggError": "",
       "aggOverflow": false,
       "aggSchema": [],
       "aggSeriesLimitReached": false,
       "aggType": "",
       "arguments": {},
       "columnCustomDisplayInfos": {},
       "data": [
        [
         1930,
         9.0598517E7
        ],
        [
         1942,
         3.95591396E8
        ],
        [
         1946,
         3.89771964E8
        ],
        [
         1950,
         4.73248298E8
        ],
        [
         1952,
         3.95591396E8
        ],
        [
         1957,
         9.19962022E8
        ],
        [
         1958,
         1.310562937E9
        ],
        [
         1959,
         5.73417844E8
        ],
        [
         1963,
         1.311263381E9
        ],
        [
         1968,
         1.145727611E9
        ],
        [
         1970,
         5.20034544E8
        ],
        [
         1971,
         4.60492795E8
        ],
        [
         1973,
         8.38586769E8
        ],
        [
         1975,
         4.206105352E9
        ],
        [
         1979,
         4.03939487E8
        ],
        [
         1982,
         3.5027545E8
        ],
        [
         1983,
         1.593270737E9
        ],
        [
         1984,
         3.471625366E9
        ],
        [
         1985,
         2.230809941E9
        ],
        [
         1986,
         1.133675836E9
        ],
        [
         1987,
         1.553497987E9
        ],
        [
         1991,
         2.058839789E9
        ],
        [
         1992,
         1.271293243E9
        ],
        [
         1994,
         1.449779435E9
        ],
        [
         1995,
         1.937003916E9
        ],
        [
         1996,
         1.06933107E8
        ],
        [
         1997,
         1.03762518E8
        ],
        [
         1998,
         1.284942608E9
        ],
        [
         1999,
         5.403077822E9
        ],
        [
         2000,
         3.933974039E9
        ],
        [
         2002,
         8.679722823E9
        ],
        [
         2003,
         3.168042741E9
        ],
        [
         2004,
         3.515718239E9
        ],
        [
         2005,
         1.80577478E8
        ],
        [
         2007,
         1.21712071E9
        ],
        [
         2008,
         2.4808159E9
        ],
        [
         2010,
         7.569839778E9
        ],
        [
         2011,
         9.363212907E9
        ],
        [
         2012,
         1.3415342787E10
        ],
        [
         2013,
         1.5862499834E10
        ],
        [
         2014,
         1.6432612812E10
        ],
        [
         2015,
         1.0930934969E10
        ],
        [
         2016,
         2.0242940464E10
        ],
        [
         2017,
         3.145763906E10
        ],
        [
         2018,
         1.503052239E10
        ],
        [
         2019,
         3.7870932581E10
        ],
        [
         2020,
         3.4703731857E10
        ],
        [
         2021,
         7.3808103039E10
        ],
        [
         2022,
         1.164023752E11
        ],
        [
         2023,
         2.5808484104E10
        ]
       ],
       "datasetInfos": [],
       "dbfsResultPath": null,
       "isJsonSchema": true,
       "metadata": {},
       "overflow": false,
       "plotOptions": {
        "customPlotOptions": {},
        "displayType": "table",
        "pivotAggregation": null,
        "pivotColumns": null,
        "xColumns": null,
        "yColumns": null
       },
       "removedWidgets": [],
       "schema": [
        {
         "metadata": "{}",
         "name": "released_year",
         "type": "\"long\""
        },
        {
         "metadata": "{\"__autoGeneratedAlias\": \"true\"}",
         "name": "sum(streams)",
         "type": "\"double\""
        }
       ],
       "type": "table"
      }
     },
     "output_type": "display_data"
    },
    {
     "output_type": "display_data",
     "data": {
      "text/plain": [
       "Databricks visualization. Run in Databricks to view."
      ]
     },
     "metadata": {
      "application/vnd.databricks.v1.subcommand+json": {
       "baseErrorDetails": null,
       "bindings": {},
       "collapsed": false,
       "command": "%python\n__backend_agg_display_orig = display\n__backend_agg_dfs = []\ndef __backend_agg_display_new(df):\n    __backend_agg_df_modules = [\"pandas.core.frame\", \"databricks.koalas.frame\", \"pyspark.sql.dataframe\", \"pyspark.pandas.frame\", \"pyspark.sql.connect.dataframe\"]\n    if (type(df).__module__ in __backend_agg_df_modules and type(df).__name__ == 'DataFrame') or isinstance(df, list):\n        __backend_agg_dfs.append(df)\n\ndisplay = __backend_agg_display_new\n\ndef __backend_agg_user_code_fn():\n    import base64\n    exec(base64.standard_b64decode(\"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\").decode())\n\ntry:\n    # run user code\n    __backend_agg_user_code_fn()\n\n    #reset display function\n    display = __backend_agg_display_orig\n\n    if len(__backend_agg_dfs) > 2:\n        # create a temp view\n        if type(__backend_agg_dfs[2]).__module__ == \"databricks.koalas.frame\":\n            # koalas dataframe\n            __backend_agg_dfs[2].to_spark().createOrReplaceTempView(\"DatabricksView50e8564\")\n        elif type(__backend_agg_dfs[2]).__module__ == \"pandas.core.frame\" or isinstance(__backend_agg_dfs[2], list):\n            # pandas dataframe\n            spark.createDataFrame(__backend_agg_dfs[2]).createOrReplaceTempView(\"DatabricksView50e8564\")\n        else:\n            __backend_agg_dfs[2].createOrReplaceTempView(\"DatabricksView50e8564\")\n        #run backend agg\n        display(spark.sql(\"\"\"WITH q AS (select * from DatabricksView50e8564) SELECT `released_year`,`sum(streams)`,`released_year` FROM q\"\"\"))\n    else:\n        displayHTML(\"dataframe no longer exists. If you're using dataframe.display(), use display(dataframe) instead.\")\n\n\nfinally:\n    spark.sql(\"drop view if exists DatabricksView50e8564\")\n    display = __backend_agg_display_orig\n    del __backend_agg_display_new\n    del __backend_agg_display_orig\n    del __backend_agg_dfs\n    del __backend_agg_user_code_fn\n\n",
       "commandTitle": "Streams par année",
       "commandType": "auto",
       "commandVersion": 0,
       "commentThread": [],
       "commentsVisible": false,
       "contentSha256Hex": null,
       "customPlotOptions": {
        "redashChart": [
         {
          "key": "type",
          "value": "CHART"
         },
         {
          "key": "options",
          "value": {
           "alignYAxesAtZero": true,
           "coefficient": 1,
           "columnConfigurationMap": {
            "series": {
             "column": "released_year",
             "id": "column_c400d0fc266"
            },
            "x": {
             "column": "released_year",
             "id": "column_c400d0fc264"
            },
            "y": [
             {
              "column": "sum(streams)",
              "id": "column_3f7c0e0b55"
             }
            ]
           },
           "dateTimeFormat": "DD/MM/YYYY HH:mm",
           "direction": {
            "type": "counterclockwise"
           },
           "error_y": {
            "type": "data",
            "visible": true
           },
           "globalSeriesType": "scatter",
           "legend": {
            "traceorder": "normal"
           },
           "missingValuesAsZero": true,
           "numberFormat": "0,0.[00000]",
           "percentFormat": "0[.]00%",
           "series": {
            "error_y": {
             "type": "data",
             "visible": true
            },
            "stacking": null
           },
           "seriesOptions": {
            "column_c400d0fc265": {
             "name": "sum(streams)",
             "yAxis": 0
            },
            "count": {
             "type": "scatter",
             "yAxis": 0
            },
            "sum(streams)": {
             "type": "scatter",
             "yAxis": 0
            }
           },
           "showDataLabels": false,
           "sizemode": "diameter",
           "sortX": true,
           "sortY": true,
           "swappedAxes": false,
           "textFormat": "",
           "useAggregationsUi": true,
           "valuesOptions": {},
           "version": 2,
           "xAxis": {
            "labels": {
             "enabled": true
            },
            "type": "-"
           },
           "yAxis": [
            {
             "type": "-"
            },
            {
             "opposite": true,
             "type": "-"
            }
           ]
          }
         }
        ]
       },
       "datasetPreviewNameToCmdIdMap": {},
       "diffDeletes": [],
       "diffInserts": [],
       "displayType": "redashChart",
       "error": null,
       "errorDetails": null,
       "errorSummary": null,
       "errorTraceType": null,
       "finishTime": 0,
       "globalVars": {},
       "guid": "",
       "height": "auto",
       "hideCommandCode": false,
       "hideCommandResult": false,
       "iPythonMetadata": null,
       "inputWidgets": {},
       "isLockedInExamMode": false,
       "latestAssumeRoleInfo": null,
       "latestUser": "a user",
       "latestUserId": null,
       "listResultMetadata": null,
       "metadata": {},
       "nuid": "807014f0-6ca4-49c0-8a82-4c8f77e41148",
       "origId": 0,
       "parentHierarchy": [],
       "pivotAggregation": null,
       "pivotColumns": null,
       "position": 2.0,
       "resultDbfsErrorMessage": null,
       "resultDbfsStatus": "INLINED_IN_TREE",
       "results": null,
       "showCommandTitle": false,
       "startTime": 0,
       "state": "input",
       "streamStates": {},
       "subcommandOptions": {
        "queryPlan": {
         "selects": [
          {
           "column": "released_year",
           "type": "column"
          },
          {
           "column": "sum(streams)",
           "type": "column"
          },
          {
           "column": "released_year",
           "type": "column"
          }
         ]
        }
       },
       "submitTime": 0,
       "subtype": "tableResultSubCmd.visualization",
       "tableResultIndex": 2,
       "tableResultSettingsMap": {},
       "useConsistentColors": false,
       "version": "CommandV1",
       "width": "auto",
       "workflows": [],
       "xColumns": null,
       "yColumns": null
      }
     },
     "output_type": "display_data"
    },
    {
     "output_type": "stream",
     "name": "stdout",
     "output_type": "stream",
     "text": [
      "Nombre de morceaux sortis par année\n"
     ]
    },
    {
     "output_type": "display_data",
     "data": {
      "text/html": [
       "<style scoped>\n",
       "  .table-result-container {\n",
       "    max-height: 300px;\n",
       "    overflow: auto;\n",
       "  }\n",
       "  table, th, td {\n",
       "    border: 1px solid black;\n",
       "    border-collapse: collapse;\n",
       "  }\n",
       "  th, td {\n",
       "    padding: 5px;\n",
       "  }\n",
       "  th {\n",
       "    text-align: left;\n",
       "  }\n",
       "</style><div class='table-result-container'><table class='table-result'><thead style='background-color: white'><tr><th>released_year</th><th>count</th></tr></thead><tbody><tr><td>1930</td><td>1</td></tr><tr><td>1942</td><td>1</td></tr><tr><td>1946</td><td>1</td></tr><tr><td>1950</td><td>1</td></tr><tr><td>1952</td><td>1</td></tr><tr><td>1957</td><td>2</td></tr><tr><td>1958</td><td>3</td></tr><tr><td>1959</td><td>2</td></tr><tr><td>1963</td><td>3</td></tr><tr><td>1968</td><td>1</td></tr><tr><td>1970</td><td>1</td></tr><tr><td>1971</td><td>1</td></tr><tr><td>1973</td><td>1</td></tr><tr><td>1975</td><td>2</td></tr><tr><td>1979</td><td>1</td></tr><tr><td>1982</td><td>2</td></tr><tr><td>1983</td><td>1</td></tr><tr><td>1984</td><td>4</td></tr><tr><td>1985</td><td>2</td></tr><tr><td>1986</td><td>2</td></tr><tr><td>1987</td><td>1</td></tr><tr><td>1991</td><td>2</td></tr><tr><td>1992</td><td>1</td></tr><tr><td>1994</td><td>1</td></tr><tr><td>1995</td><td>2</td></tr><tr><td>1996</td><td>1</td></tr><tr><td>1997</td><td>1</td></tr><tr><td>1998</td><td>1</td></tr><tr><td>1999</td><td>5</td></tr><tr><td>2000</td><td>4</td></tr><tr><td>2002</td><td>6</td></tr><tr><td>2003</td><td>2</td></tr><tr><td>2004</td><td>4</td></tr><tr><td>2005</td><td>1</td></tr><tr><td>2007</td><td>1</td></tr><tr><td>2008</td><td>2</td></tr><tr><td>2010</td><td>7</td></tr><tr><td>2011</td><td>10</td></tr><tr><td>2012</td><td>10</td></tr><tr><td>2013</td><td>13</td></tr><tr><td>2014</td><td>13</td></tr><tr><td>2015</td><td>11</td></tr><tr><td>2016</td><td>18</td></tr><tr><td>2017</td><td>23</td></tr><tr><td>2018</td><td>10</td></tr><tr><td>2019</td><td>36</td></tr><tr><td>2020</td><td>37</td></tr><tr><td>2021</td><td>119</td></tr><tr><td>2022</td><td>401</td></tr><tr><td>2023</td><td>175</td></tr></tbody></table></div>"
      ]
     },
     "metadata": {
      "application/vnd.databricks.v1+output": {
       "addedWidgets": {},
       "aggData": [],
       "aggError": "",
       "aggOverflow": false,
       "aggSchema": [],
       "aggSeriesLimitReached": false,
       "aggType": "",
       "arguments": {},
       "columnCustomDisplayInfos": {},
       "data": [
        [
         1930,
         1
        ],
        [
         1942,
         1
        ],
        [
         1946,
         1
        ],
        [
         1950,
         1
        ],
        [
         1952,
         1
        ],
        [
         1957,
         2
        ],
        [
         1958,
         3
        ],
        [
         1959,
         2
        ],
        [
         1963,
         3
        ],
        [
         1968,
         1
        ],
        [
         1970,
         1
        ],
        [
         1971,
         1
        ],
        [
         1973,
         1
        ],
        [
         1975,
         2
        ],
        [
         1979,
         1
        ],
        [
         1982,
         2
        ],
        [
         1983,
         1
        ],
        [
         1984,
         4
        ],
        [
         1985,
         2
        ],
        [
         1986,
         2
        ],
        [
         1987,
         1
        ],
        [
         1991,
         2
        ],
        [
         1992,
         1
        ],
        [
         1994,
         1
        ],
        [
         1995,
         2
        ],
        [
         1996,
         1
        ],
        [
         1997,
         1
        ],
        [
         1998,
         1
        ],
        [
         1999,
         5
        ],
        [
         2000,
         4
        ],
        [
         2002,
         6
        ],
        [
         2003,
         2
        ],
        [
         2004,
         4
        ],
        [
         2005,
         1
        ],
        [
         2007,
         1
        ],
        [
         2008,
         2
        ],
        [
         2010,
         7
        ],
        [
         2011,
         10
        ],
        [
         2012,
         10
        ],
        [
         2013,
         13
        ],
        [
         2014,
         13
        ],
        [
         2015,
         11
        ],
        [
         2016,
         18
        ],
        [
         2017,
         23
        ],
        [
         2018,
         10
        ],
        [
         2019,
         36
        ],
        [
         2020,
         37
        ],
        [
         2021,
         119
        ],
        [
         2022,
         401
        ],
        [
         2023,
         175
        ]
       ],
       "datasetInfos": [],
       "dbfsResultPath": null,
       "isJsonSchema": true,
       "metadata": {},
       "overflow": false,
       "plotOptions": {
        "customPlotOptions": {},
        "displayType": "table",
        "pivotAggregation": null,
        "pivotColumns": null,
        "xColumns": null,
        "yColumns": null
       },
       "removedWidgets": [],
       "schema": [
        {
         "metadata": "{}",
         "name": "released_year",
         "type": "\"long\""
        },
        {
         "metadata": "{}",
         "name": "count",
         "type": "\"long\""
        }
       ],
       "type": "table"
      }
     },
     "output_type": "display_data"
    },
    {
     "output_type": "display_data",
     "data": {
      "text/plain": [
       "Databricks visualization. Run in Databricks to view."
      ]
     },
     "metadata": {
      "application/vnd.databricks.v1.subcommand+json": {
       "baseErrorDetails": null,
       "bindings": {},
       "collapsed": false,
       "command": "%python\n__backend_agg_display_orig = display\n__backend_agg_dfs = []\ndef __backend_agg_display_new(df):\n    __backend_agg_df_modules = [\"pandas.core.frame\", \"databricks.koalas.frame\", \"pyspark.sql.dataframe\", \"pyspark.pandas.frame\", \"pyspark.sql.connect.dataframe\"]\n    if (type(df).__module__ in __backend_agg_df_modules and type(df).__name__ == 'DataFrame') or isinstance(df, list):\n        __backend_agg_dfs.append(df)\n\ndisplay = __backend_agg_display_new\n\ndef __backend_agg_user_code_fn():\n    import base64\n    exec(base64.standard_b64decode(\"IyAtLS0tLS0tLS0tLS0tLS0tLS0tLS0tLS0tLS0tLS0tLS0tLS0tLS0tLS0tCiMgUHJvamV0IDogQW5hbHlzZSBTcG90aWZ5IFBvcHVsYXJpdHkgU29uZ3MgLSBEYXRhYnJpY2tzCiMgT2JqZWN0aWYgOiBleHBsb3JlciBldCB2YWxvcmlzZXIgbGEgcG9wdWxhcml0w6kgZGVzIGNoYW5zb25zIFNwb3RpZnkgdmlhIGxlcyBzdHJlYW1zIGV0IGNhcmFjdMOpcmlzdGlxdWVzIGF1ZGlvLgojIC0tLS0tLS0tLS0tLS0tLS0tLS0tLS0tLS0tLS0tLS0tLS0tLS0tLS0tLS0KCmZyb20gcHlzcGFyay5zcWwuZnVuY3Rpb25zIGltcG9ydCBjb2wsIHJlZ2V4cF9yZXBsYWNlLCBmb3JtYXRfbnVtYmVyCmZyb20gcHlzcGFyay5zcWwudHlwZXMgaW1wb3J0IERvdWJsZVR5cGUKaW1wb3J0IHJlCgojIDEuIENoYXJnZW1lbnQgZXQgbmV0dG95YWdlIGRlcyBjb2xvbm5lcwp0YWJsZV9uYW1lID0gIndvcmtzcGFjZS5kZWZhdWx0LnBvcHVsYXJfc3BvdGlmeV9zb25ncyIKZGYgPSBzcGFyay50YWJsZSh0YWJsZV9uYW1lKQpkZWYgY2xlYW5fY29sX25hbWUobmFtZSk6CiAgICByZXR1cm4gcmUuc3ViKHIiWyBcKFwpXHtcfVxbXF0sO1wnXCJcblx0XC09XCtdIiwgIl8iLCBuYW1lKQpjbGVhbl9jb2xzID0gW2NsZWFuX2NvbF9uYW1lKGMpIGZvciBjIGluIGRmLmNvbHVtbnNdCmRmX2NsZWFuID0gZGYudG9ERigqY2xlYW5fY29scykKcHJpbnQoZiJDb2xvbm5lcyBuZXR0b3nDqWVzIDoge2NsZWFuX2NvbHN9IikKCiMgMi4gTmV0dG95YWdlIGV0IGNvbnZlcnNpb24gJ3N0cmVhbXMnCmRmX2NsZWFuID0gZGZfY2xlYW4ud2l0aENvbHVtbigKICAgICJzdHJlYW1zIiwKICAgIHJlZ2V4cF9yZXBsYWNlKCJzdHJlYW1zIiwgIlteMC05Ll0iLCAiIikKKS53aXRoQ29sdW1uKAogICAgInN0cmVhbXMiLCBjb2woInN0cmVhbXMiKS5jYXN0KERvdWJsZVR5cGUoKSkKKS5uYS5kcm9wKHN1YnNldD1bInN0cmVhbXMiXSkKCmRmX2NsZWFuID0gZGZfY2xlYW4ud2l0aENvbHVtbigic3RyZWFtc19taWxsaW9ucyIsIGZvcm1hdF9udW1iZXIoY29sKCJzdHJlYW1zIikvMWU2LCAxKSkKCiMgMy4gU3VwcHJlc3Npb24gZGUgbCdhcnRpc3RlIEVkaXNvbiBMaWdodGhvdXNlIGV0IGRlIENhdGluIExlb24sIEdyb3VwbyBGcm9udGVyYQphcnRpc3RfY29sID0gbmV4dCgoYyBmb3IgYyBpbiBkZl9jbGVhbi5jb2x1bW5zIGlmICJhcnRpc3QiIGluIGMpLCBOb25lKQppZiBhcnRpc3RfY29sOgogICAgI0FydGlzdGVzIGVubGV2w6lzLCBjYXIgZG9ubsOpZXMgdHLDqHMgYml6YXJyZQogICAgZGZfY2xlYW4gPSBkZl9jbGVhbi5maWx0ZXIoY29sKGFydGlzdF9jb2wpICE9ICJFZGlzb24gTGlnaHRob3VzZSIpCiAgICBkZl9jbGVhbiA9IGRmX2NsZWFuLmZpbHRlcihjb2woYXJ0aXN0X2NvbCkgIT0gIkNhcmluIExlb24sIEdydXBvIEZyb250ZXJhIikKdHJhY2tfY29sID0gbmV4dCgoYyBmb3IgYyBpbiBkZl9jbGVhbi5jb2x1bW5zIGlmICJ0cmFjayIgaW4gYyksIE5vbmUpCnByaW50KGYiQ29sb25uZXMgdXRpbGlzw6llcyA6IGFydGlzdGUgPSB7YXJ0aXN0X2NvbH0sIG1vcmNlYXUgPSB7dHJhY2tfY29sfSIpCgojIDQuIFN0YXRpc3RpcXVlcyBkZXNjcmlwdGl2ZXMgZ2xvYmFsZXMKcHJpbnQoIlN0YXRpc3RpcXVlcyBkZXNjcmlwdGl2ZXMgc3VyIGxlcyDDqWNvdXRlcyBTcG90aWZ5IDoiKQpkZl9jbGVhbi5kZXNjcmliZSgic3RyZWFtcyIpLnNob3coKQoKIyA1LiBCYXIgY2hhcnQgOiB0b3AgMTAgYXJ0aXN0ZXMgcGFyIHN0cmVhbXMgY3VtdWzDqXMKaWYgYXJ0aXN0X2NvbDoKICAgIHRvcF9hcnRpc3RzID0gZGZfY2xlYW4uZ3JvdXBCeShhcnRpc3RfY29sKS5zdW0oInN0cmVhbXMiKSBcCiAgICAgICAgLm9yZGVyQnkoY29sKCJzdW0oc3RyZWFtcykiKS5kZXNjKCkpIFwKICAgICAgICAubGltaXQoMTApIFwKICAgICAgICAud2l0aENvbHVtbigic3RyZWFtc19taWxsaW9ucyIsIGZvcm1hdF9udW1iZXIoY29sKCJzdW0oc3RyZWFtcykiKS8xZTYsIDEpKQogICAgcHJpbnQoIkJhciBjaGFydCAtIFRvcCAxMCBhcnRpc3RlcyBwYXIgc3RyZWFtcyAobWlsbGlvbnMpIDoiKQogICAgZGlzcGxheSh0b3BfYXJ0aXN0cy5zZWxlY3QoYXJ0aXN0X2NvbCwgInN0cmVhbXNfbWlsbGlvbnMiKSkKZWxzZToKICAgIHByaW50KCJDb2xvbm5lIGFydGlzdGUgaW50cm91dmFibGUuIikKCiMgNi4gSGlzdG9ncmFtbWUgOiBkaXN0cmlidXRpb24gZGVzIHN0cmVhbXMgcGFyIHRpdHJlcwpwcmludCgiSGlzdG9ncmFtbWUgOiBkaXN0cmlidXRpb24gZGVzIHN0cmVhbXMgKG1pbGxpb25zKSBkZXMgdGl0cmVzIikKZGlzcGxheShkZl9jbGVhbi5zZWxlY3QoYXJ0aXN0X2NvbCwgdHJhY2tfY29sLCJzdHJlYW1zX21pbGxpb25zIikpCgojIDcuIEdyYXBoaXF1ZSBlbiBsaWduZSA6IMOpdm9sdXRpb24gYW5udWVsbGUgZGVzIHN0cmVhbXMKaWYgInJlbGVhc2VkX3llYXIiIGluIGRmX2NsZWFuLmNvbHVtbnM6CiAgICB5ZWFybHlfc3RyZWFtcyA9IGRmX2NsZWFuLmdyb3VwQnkoInJlbGVhc2VkX3llYXIiKS5zdW0oInN0cmVhbXMiKS5vcmRlckJ5KCJyZWxlYXNlZF95ZWFyIikKICAgIHByaW50KCJHcmFwaGlxdWUgZW4gbGlnbmUgOiBzdHJlYW1zIGN1bXVsw6lzIHBhciBhbm7DqWUiKQogICAgZGlzcGxheSh5ZWFybHlfc3RyZWFtcykKCiMgOC4gR3JhcGhpcXVlcyBkZSBkaXN0cmlidXRpb24gcGFyIGFubsOpZS9tb2lzL2pvdXIKZGZfeWVhciA9IGRmX2NsZWFuLmdyb3VwQnkoInJlbGVhc2VkX3llYXIiKS5jb3VudCgpLm9yZGVyQnkoInJlbGVhc2VkX3llYXIiKQpkaXNwbGF5KGRmX3llYXIpCgpkZl9tb250aCA9IGRmX2NsZWFuLmdyb3VwQnkoInJlbGVhc2VkX21vbnRoIikuY291bnQoKS5vcmRlckJ5KCJyZWxlYXNlZF9tb250aCIpCmRpc3BsYXkoZGZfbW9udGgpCgpkZl9kYXkgPSBkZl9jbGVhbi5ncm91cEJ5KCJyZWxlYXNlZF9kYXkiKS5jb3VudCgpLm9yZGVyQnkoInJlbGVhc2VkX2RheSIpCmRpc3BsYXkoZGZfZGF5KQoKIyA5LiBCYXIgY2hhcnQgOiBjb21wYXJhaXNvbiBkZXMgY2FyYWN0w6lyaXN0aXF1ZXMgYXVkaW8gZGVzIDUgYXJ0aXN0ZXMgbGVzIHBsdXMgc3RyZWFtw6lzCmF1ZGlvX2ZlYXR1cmVzX2tleXdvcmRzID0gWydkYW5jZWFiaWxpdHknLCAnZW5lcmd5JywgJ2Fjb3VzdGljbmVzcycsICdpbnN0cnVtZW50YWxuZXNzJywgJ2xpdmVuZXNzJywgJ3ZhbGVuY2UnXQphdWRpb19jb2xzID0gW2MgZm9yIGMgaW4gZGZfY2xlYW4uY29sdW1ucyBpZiBhbnkoYy5zdGFydHN3aXRoKGspIGZvciBrIGluIGF1ZGlvX2ZlYXR1cmVzX2tleXdvcmRzKV0KaWYgYXJ0aXN0X2NvbCBhbmQgYXVkaW9fY29scyBhbmQgJ3RvcF9hcnRpc3RzJyBpbiBsb2NhbHMoKToKICAgIHRvcDVfYXJ0aXN0c19yb3dzID0gdG9wX2FydGlzdHMuc2VsZWN0KGFydGlzdF9jb2wpLmxpbWl0KDUpLmNvbGxlY3QoKQogICAgdG9wNV9hcnRpc3RzID0gW3Jvd1thcnRpc3RfY29sXSBmb3Igcm93IGluIHRvcDVfYXJ0aXN0c19yb3dzXQogICAgZGZfdG9wNV9hdWRpbyA9IGRmX2NsZWFuLmZpbHRlcihjb2woYXJ0aXN0X2NvbCkuaXNpbih0b3A1X2FydGlzdHMpKSBcCiAgICAgICAgLmdyb3VwQnkoYXJ0aXN0X2NvbCkuYXZnKCphdWRpb19jb2xzKQogICAgcHJpbnQoIkJhciBjaGFydCAtIFByb2ZpbCBhdWRpbyBkZSA1IHRvcCBhcnRpc3RlcyA6IikKICAgIGRpc3BsYXkoZGZfdG9wNV9hdWRpbykKCiMgMTAuIFNhdXZlZ2FyZGUgZmluYWxlIGF2ZWMgbWVyZ2VTY2hlbWEgKGdlc3Rpb24gc2Now6ltYSBEZWx0YSkKZGZfZmluYWwud3JpdGUub3B0aW9uKCJtZXJnZVNjaGVtYSIsICJ0cnVlIikubW9kZSgib3ZlcndyaXRlIikuc2F2ZUFzVGFibGUoInNwb3RpZnlfc3RyZWFtc19hbmFseXNpc19maW5hbCIpCgpwcmludCgi4pyFIEFuYWx5c2UgdGVybWluw6llLCBFZGlzb24gTGlnaHRob3VzZSBldCBDYXJpbiBMZW9uLCBHcnVwbyBGcm9udGVyYSByZXRpcsOpLCBkb25uw6llcyBzYXV2ZWdhcmTDqWVzLCB2aXN1YWxpc2F0aW9ucyBwcsOqdGVzLiIpCg==\").decode())\n\ntry:\n    # run user code\n    __backend_agg_user_code_fn()\n\n    #reset display function\n    display = __backend_agg_display_orig\n\n    if len(__backend_agg_dfs) > 3:\n        # create a temp view\n        if type(__backend_agg_dfs[3]).__module__ == \"databricks.koalas.frame\":\n            # koalas dataframe\n            __backend_agg_dfs[3].to_spark().createOrReplaceTempView(\"DatabricksViewddb1a2b\")\n        elif type(__backend_agg_dfs[3]).__module__ == \"pandas.core.frame\" or isinstance(__backend_agg_dfs[3], list):\n            # pandas dataframe\n            spark.createDataFrame(__backend_agg_dfs[3]).createOrReplaceTempView(\"DatabricksViewddb1a2b\")\n        else:\n            __backend_agg_dfs[3].createOrReplaceTempView(\"DatabricksViewddb1a2b\")\n        #run backend agg\n        display(spark.sql(\"\"\"WITH q AS (select * from DatabricksViewddb1a2b) SELECT `released_year`,SUM(`count`) `column_3f7c0e0b61` FROM q GROUP BY `released_year`\"\"\"))\n    else:\n        displayHTML(\"dataframe no longer exists. If you're using dataframe.display(), use display(dataframe) instead.\")\n\n\nfinally:\n    spark.sql(\"drop view if exists DatabricksViewddb1a2b\")\n    display = __backend_agg_display_orig\n    del __backend_agg_display_new\n    del __backend_agg_display_orig\n    del __backend_agg_dfs\n    del __backend_agg_user_code_fn\n\n",
       "commandTitle": "Titres/ans",
       "commandType": "auto",
       "commandVersion": 0,
       "commentThread": [],
       "commentsVisible": false,
       "contentSha256Hex": null,
       "customPlotOptions": {
        "redashChart": [
         {
          "key": "type",
          "value": "CHART"
         },
         {
          "key": "options",
          "value": {
           "alignYAxesAtZero": true,
           "coefficient": 1,
           "columnConfigurationMap": {
            "x": {
             "column": "released_year",
             "id": "column_3f7c0e0b60"
            },
            "y": [
             {
              "column": "count",
              "id": "column_3f7c0e0b61",
              "transform": "SUM"
             }
            ]
           },
           "dateTimeFormat": "DD/MM/YYYY HH:mm",
           "direction": {
            "type": "counterclockwise"
           },
           "error_y": {
            "type": "data",
            "visible": true
           },
           "globalSeriesType": "area",
           "isAggregationOn": true,
           "legend": {
            "traceorder": "normal"
           },
           "missingValuesAsZero": true,
           "numberFormat": "0,0.[00000]",
           "percentFormat": "0[.]00%",
           "series": {
            "error_y": {
             "type": "data",
             "visible": true
            },
            "stacking": null
           },
           "seriesOptions": {
            "column_3f7c0e0b61": {
             "name": "count",
             "type": "area",
             "yAxis": 0
            }
           },
           "showDataLabels": false,
           "sizemode": "diameter",
           "sortX": true,
           "sortY": true,
           "swappedAxes": false,
           "textFormat": "",
           "useAggregationsUi": true,
           "valuesOptions": {},
           "version": 2,
           "xAxis": {
            "labels": {
             "enabled": true
            },
            "type": "-"
           },
           "yAxis": [
            {
             "type": "-"
            },
            {
             "opposite": true,
             "type": "-"
            }
           ]
          }
         }
        ]
       },
       "datasetPreviewNameToCmdIdMap": {},
       "diffDeletes": [],
       "diffInserts": [],
       "displayType": "redashChart",
       "error": null,
       "errorDetails": null,
       "errorSummary": null,
       "errorTraceType": null,
       "finishTime": 0,
       "globalVars": {},
       "guid": "",
       "height": "auto",
       "hideCommandCode": false,
       "hideCommandResult": false,
       "iPythonMetadata": null,
       "inputWidgets": {},
       "isLockedInExamMode": false,
       "latestAssumeRoleInfo": null,
       "latestUser": "a user",
       "latestUserId": null,
       "listResultMetadata": null,
       "metadata": {},
       "nuid": "313903ef-04a6-4451-89d0-7a5c1a12bfbf",
       "origId": 0,
       "parentHierarchy": [],
       "pivotAggregation": null,
       "pivotColumns": null,
       "position": 2.0,
       "resultDbfsErrorMessage": null,
       "resultDbfsStatus": "INLINED_IN_TREE",
       "results": null,
       "showCommandTitle": false,
       "startTime": 0,
       "state": "input",
       "streamStates": {},
       "subcommandOptions": {
        "queryPlan": {
         "groups": [
          {
           "column": "released_year",
           "type": "column"
          }
         ],
         "selects": [
          {
           "column": "released_year",
           "type": "column"
          },
          {
           "alias": "column_3f7c0e0b61",
           "args": [
            {
             "column": "count",
             "type": "column"
            }
           ],
           "function": "SUM",
           "type": "function"
          }
         ]
        }
       },
       "submitTime": 0,
       "subtype": "tableResultSubCmd.visualization",
       "tableResultIndex": 3,
       "tableResultSettingsMap": {},
       "useConsistentColors": false,
       "version": "CommandV1",
       "width": "auto",
       "workflows": [],
       "xColumns": null,
       "yColumns": null
      }
     },
     "output_type": "display_data"
    },
    {
     "output_type": "stream",
     "name": "stdout",
     "output_type": "stream",
     "text": [
      "Nombre de morceaux sortis par mois\n"
     ]
    },
    {
     "output_type": "display_data",
     "data": {
      "text/html": [
       "<style scoped>\n",
       "  .table-result-container {\n",
       "    max-height: 300px;\n",
       "    overflow: auto;\n",
       "  }\n",
       "  table, th, td {\n",
       "    border: 1px solid black;\n",
       "    border-collapse: collapse;\n",
       "  }\n",
       "  th, td {\n",
       "    padding: 5px;\n",
       "  }\n",
       "  th {\n",
       "    text-align: left;\n",
       "  }\n",
       "</style><div class='table-result-container'><table class='table-result'><thead style='background-color: white'><tr><th>released_month_full_label</th><th>count</th></tr></thead><tbody><tr><td>01-Janvier</td><td>133</td></tr><tr><td>02-Février</td><td>61</td></tr><tr><td>03-Mars</td><td>86</td></tr><tr><td>04-Avril</td><td>66</td></tr><tr><td>05-Mai</td><td>128</td></tr><tr><td>06-Juin</td><td>86</td></tr><tr><td>07-Juillet</td><td>62</td></tr><tr><td>08-Août</td><td>46</td></tr><tr><td>09-Septembre</td><td>56</td></tr><tr><td>10-Octobre</td><td>73</td></tr><tr><td>11-Novembre</td><td>80</td></tr><tr><td>12-Décembre</td><td>74</td></tr></tbody></table></div>"
      ]
     },
     "metadata": {
      "application/vnd.databricks.v1+output": {
       "addedWidgets": {},
       "aggData": [],
       "aggError": "",
       "aggOverflow": false,
       "aggSchema": [],
       "aggSeriesLimitReached": false,
       "aggType": "",
       "arguments": {},
       "columnCustomDisplayInfos": {},
       "data": [
        [
         "01-Janvier",
         133
        ],
        [
         "02-Février",
         61
        ],
        [
         "03-Mars",
         86
        ],
        [
         "04-Avril",
         66
        ],
        [
         "05-Mai",
         128
        ],
        [
         "06-Juin",
         86
        ],
        [
         "07-Juillet",
         62
        ],
        [
         "08-Août",
         46
        ],
        [
         "09-Septembre",
         56
        ],
        [
         "10-Octobre",
         73
        ],
        [
         "11-Novembre",
         80
        ],
        [
         "12-Décembre",
         74
        ]
       ],
       "datasetInfos": [],
       "dbfsResultPath": null,
       "isJsonSchema": true,
       "metadata": {},
       "overflow": false,
       "plotOptions": {
        "customPlotOptions": {},
        "displayType": "table",
        "pivotAggregation": null,
        "pivotColumns": null,
        "xColumns": null,
        "yColumns": null
       },
       "removedWidgets": [],
       "schema": [
        {
         "metadata": "{}",
         "name": "released_month_full_label",
         "type": "\"string\""
        },
        {
         "metadata": "{}",
         "name": "count",
         "type": "\"long\""
        }
       ],
       "type": "table"
      }
     },
     "output_type": "display_data"
    },
    {
     "output_type": "display_data",
     "data": {
      "text/plain": [
       "Databricks visualization. Run in Databricks to view."
      ]
     },
     "metadata": {
      "application/vnd.databricks.v1.subcommand+json": {
       "baseErrorDetails": null,
       "bindings": {},
       "collapsed": false,
       "command": "%python\n__backend_agg_display_orig = display\n__backend_agg_dfs = []\ndef __backend_agg_display_new(df):\n    __backend_agg_df_modules = [\"pandas.core.frame\", \"databricks.koalas.frame\", \"pyspark.sql.dataframe\", \"pyspark.pandas.frame\", \"pyspark.sql.connect.dataframe\"]\n    if (type(df).__module__ in __backend_agg_df_modules and type(df).__name__ == 'DataFrame') or isinstance(df, list):\n        __backend_agg_dfs.append(df)\n\ndisplay = __backend_agg_display_new\n\ndef __backend_agg_user_code_fn():\n    import base64\n    exec(base64.standard_b64decode(\"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\").decode())\n\ntry:\n    # run user code\n    __backend_agg_user_code_fn()\n\n    #reset display function\n    display = __backend_agg_display_orig\n\n    if len(__backend_agg_dfs) > 4:\n        # create a temp view\n        if type(__backend_agg_dfs[4]).__module__ == \"databricks.koalas.frame\":\n            # koalas dataframe\n            __backend_agg_dfs[4].to_spark().createOrReplaceTempView(\"DatabricksView6bcd7d7\")\n        elif type(__backend_agg_dfs[4]).__module__ == \"pandas.core.frame\" or isinstance(__backend_agg_dfs[4], list):\n            # pandas dataframe\n            spark.createDataFrame(__backend_agg_dfs[4]).createOrReplaceTempView(\"DatabricksView6bcd7d7\")\n        else:\n            __backend_agg_dfs[4].createOrReplaceTempView(\"DatabricksView6bcd7d7\")\n        #run backend agg\n        display(spark.sql(\"\"\"WITH q AS (select * from DatabricksView6bcd7d7) SELECT `released_month`,SUM(`count`) `column_3f7c0e0b64`,`released_month` FROM q GROUP BY `released_month`\"\"\"))\n    else:\n        displayHTML(\"dataframe no longer exists. If you're using dataframe.display(), use display(dataframe) instead.\")\n\n\nfinally:\n    spark.sql(\"drop view if exists DatabricksView6bcd7d7\")\n    display = __backend_agg_display_orig\n    del __backend_agg_display_new\n    del __backend_agg_display_orig\n    del __backend_agg_dfs\n    del __backend_agg_user_code_fn\n\n",
       "commandTitle": "Titres/Mois",
       "commandType": "auto",
       "commandVersion": 0,
       "commentThread": [],
       "commentsVisible": false,
       "contentSha256Hex": null,
       "customPlotOptions": {
        "redashChart": [
         {
          "key": "type",
          "value": "CHART"
         },
         {
          "key": "options",
          "value": {
           "alignYAxesAtZero": true,
           "coefficient": 1,
           "columnConfigurationMap": {
            "series": {
             "column": "released_month_full_label",
             "id": "column_3f7c0e0b126"
            },
            "x": {
             "column": "released_month_full_label",
             "id": "column_3f7c0e0b125"
            },
            "y": [
             {
              "column": "count",
              "id": "column_3f7c0e0b64",
              "transform": "SUM"
             }
            ]
           },
           "dateTimeFormat": "DD/MM/YYYY HH:mm",
           "direction": {
            "type": "counterclockwise"
           },
           "error_y": {
            "type": "data",
            "visible": true
           },
           "globalSeriesType": "column",
           "isAggregationOn": true,
           "legend": {
            "traceorder": "normal"
           },
           "missingValuesAsZero": true,
           "numberFormat": "0,0.[00000]",
           "percentFormat": "0[.]00%",
           "series": {
            "error_y": {
             "type": "data",
             "visible": true
            },
            "stacking": null
           },
           "seriesOptions": {
            "column_3f7c0e0b64": {
             "name": "count",
             "type": "column",
             "yAxis": 0
            }
           },
           "showDataLabels": false,
           "sizemode": "diameter",
           "sortX": true,
           "sortY": true,
           "swappedAxes": false,
           "textFormat": "",
           "useAggregationsUi": true,
           "valuesOptions": {},
           "version": 2,
           "xAxis": {
            "labels": {
             "enabled": true
            },
            "type": "-"
           },
           "yAxis": [
            {
             "type": "-"
            },
            {
             "opposite": true,
             "type": "-"
            }
           ]
          }
         }
        ]
       },
       "datasetPreviewNameToCmdIdMap": {},
       "diffDeletes": [],
       "diffInserts": [],
       "displayType": "redashChart",
       "error": null,
       "errorDetails": null,
       "errorSummary": null,
       "errorTraceType": null,
       "finishTime": 0,
       "globalVars": {},
       "guid": "",
       "height": "auto",
       "hideCommandCode": false,
       "hideCommandResult": false,
       "iPythonMetadata": null,
       "inputWidgets": {},
       "isLockedInExamMode": false,
       "latestAssumeRoleInfo": null,
       "latestUser": "a user",
       "latestUserId": null,
       "listResultMetadata": null,
       "metadata": {},
       "nuid": "666c08d3-b45c-4d85-992b-fc55ceabfb2d",
       "origId": 0,
       "parentHierarchy": [],
       "pivotAggregation": null,
       "pivotColumns": null,
       "position": 2.0,
       "resultDbfsErrorMessage": null,
       "resultDbfsStatus": "INLINED_IN_TREE",
       "results": null,
       "showCommandTitle": false,
       "startTime": 0,
       "state": "input",
       "streamStates": {},
       "subcommandOptions": {
        "queryPlan": {
         "groups": [
          {
           "column": "released_month_full_label",
           "type": "column"
          },
          {
           "column": "released_month_full_label",
           "type": "column"
          }
         ],
         "selects": [
          {
           "column": "released_month_full_label",
           "type": "column"
          },
          {
           "alias": "column_3f7c0e0b64",
           "args": [
            {
             "column": "count",
             "type": "column"
            }
           ],
           "function": "SUM",
           "type": "function"
          },
          {
           "column": "released_month_full_label",
           "type": "column"
          }
         ]
        }
       },
       "submitTime": 0,
       "subtype": "tableResultSubCmd.visualization",
       "tableResultIndex": 4,
       "tableResultSettingsMap": {},
       "useConsistentColors": false,
       "version": "CommandV1",
       "width": "auto",
       "workflows": [],
       "xColumns": null,
       "yColumns": null
      }
     },
     "output_type": "display_data"
    },
    {
     "output_type": "stream",
     "name": "stdout",
     "output_type": "stream",
     "text": [
      "Nombre de morceaux sortis par jour du mois\n"
     ]
    },
    {
     "output_type": "display_data",
     "data": {
      "text/html": [
       "<style scoped>\n",
       "  .table-result-container {\n",
       "    max-height: 300px;\n",
       "    overflow: auto;\n",
       "  }\n",
       "  table, th, td {\n",
       "    border: 1px solid black;\n",
       "    border-collapse: collapse;\n",
       "  }\n",
       "  th, td {\n",
       "    padding: 5px;\n",
       "  }\n",
       "  th {\n",
       "    text-align: left;\n",
       "  }\n",
       "</style><div class='table-result-container'><table class='table-result'><thead style='background-color: white'><tr><th>released_day</th><th>count</th></tr></thead><tbody><tr><td>1</td><td>94</td></tr><tr><td>2</td><td>39</td></tr><tr><td>3</td><td>32</td></tr><tr><td>4</td><td>39</td></tr><tr><td>5</td><td>25</td></tr><tr><td>6</td><td>39</td></tr><tr><td>7</td><td>39</td></tr><tr><td>8</td><td>25</td></tr><tr><td>9</td><td>35</td></tr><tr><td>10</td><td>37</td></tr><tr><td>11</td><td>22</td></tr><tr><td>12</td><td>17</td></tr><tr><td>13</td><td>43</td></tr><tr><td>14</td><td>26</td></tr><tr><td>15</td><td>21</td></tr><tr><td>16</td><td>20</td></tr><tr><td>17</td><td>28</td></tr><tr><td>18</td><td>19</td></tr><tr><td>19</td><td>25</td></tr><tr><td>20</td><td>39</td></tr><tr><td>21</td><td>44</td></tr><tr><td>22</td><td>33</td></tr><tr><td>23</td><td>23</td></tr><tr><td>24</td><td>40</td></tr><tr><td>25</td><td>28</td></tr><tr><td>26</td><td>13</td></tr><tr><td>27</td><td>21</td></tr><tr><td>28</td><td>21</td></tr><tr><td>29</td><td>23</td></tr><tr><td>30</td><td>22</td></tr><tr><td>31</td><td>19</td></tr></tbody></table></div>"
      ]
     },
     "metadata": {
      "application/vnd.databricks.v1+output": {
       "addedWidgets": {},
       "aggData": [],
       "aggError": "",
       "aggOverflow": false,
       "aggSchema": [],
       "aggSeriesLimitReached": false,
       "aggType": "",
       "arguments": {},
       "columnCustomDisplayInfos": {},
       "data": [
        [
         1,
         94
        ],
        [
         2,
         39
        ],
        [
         3,
         32
        ],
        [
         4,
         39
        ],
        [
         5,
         25
        ],
        [
         6,
         39
        ],
        [
         7,
         39
        ],
        [
         8,
         25
        ],
        [
         9,
         35
        ],
        [
         10,
         37
        ],
        [
         11,
         22
        ],
        [
         12,
         17
        ],
        [
         13,
         43
        ],
        [
         14,
         26
        ],
        [
         15,
         21
        ],
        [
         16,
         20
        ],
        [
         17,
         28
        ],
        [
         18,
         19
        ],
        [
         19,
         25
        ],
        [
         20,
         39
        ],
        [
         21,
         44
        ],
        [
         22,
         33
        ],
        [
         23,
         23
        ],
        [
         24,
         40
        ],
        [
         25,
         28
        ],
        [
         26,
         13
        ],
        [
         27,
         21
        ],
        [
         28,
         21
        ],
        [
         29,
         23
        ],
        [
         30,
         22
        ],
        [
         31,
         19
        ]
       ],
       "datasetInfos": [],
       "dbfsResultPath": null,
       "isJsonSchema": true,
       "metadata": {},
       "overflow": false,
       "plotOptions": {
        "customPlotOptions": {},
        "displayType": "table",
        "pivotAggregation": null,
        "pivotColumns": null,
        "xColumns": null,
        "yColumns": null
       },
       "removedWidgets": [],
       "schema": [
        {
         "metadata": "{}",
         "name": "released_day",
         "type": "\"long\""
        },
        {
         "metadata": "{}",
         "name": "count",
         "type": "\"long\""
        }
       ],
       "type": "table"
      }
     },
     "output_type": "display_data"
    },
    {
     "output_type": "display_data",
     "data": {
      "text/plain": [
       "Databricks visualization. Run in Databricks to view."
      ]
     },
     "metadata": {
      "application/vnd.databricks.v1.subcommand+json": {
       "baseErrorDetails": null,
       "bindings": {},
       "collapsed": false,
       "command": "%python\n__backend_agg_display_orig = display\n__backend_agg_dfs = []\ndef __backend_agg_display_new(df):\n    __backend_agg_df_modules = [\"pandas.core.frame\", \"databricks.koalas.frame\", \"pyspark.sql.dataframe\", \"pyspark.pandas.frame\", \"pyspark.sql.connect.dataframe\"]\n    if (type(df).__module__ in __backend_agg_df_modules and type(df).__name__ == 'DataFrame') or isinstance(df, list):\n        __backend_agg_dfs.append(df)\n\ndisplay = __backend_agg_display_new\n\ndef __backend_agg_user_code_fn():\n    import base64\n    exec(base64.standard_b64decode(\"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\").decode())\n\ntry:\n    # run user code\n    __backend_agg_user_code_fn()\n\n    #reset display function\n    display = __backend_agg_display_orig\n\n    if len(__backend_agg_dfs) > 5:\n        # create a temp view\n        if type(__backend_agg_dfs[5]).__module__ == \"databricks.koalas.frame\":\n            # koalas dataframe\n            __backend_agg_dfs[5].to_spark().createOrReplaceTempView(\"DatabricksViewc01b30a\")\n        elif type(__backend_agg_dfs[5]).__module__ == \"pandas.core.frame\" or isinstance(__backend_agg_dfs[5], list):\n            # pandas dataframe\n            spark.createDataFrame(__backend_agg_dfs[5]).createOrReplaceTempView(\"DatabricksViewc01b30a\")\n        else:\n            __backend_agg_dfs[5].createOrReplaceTempView(\"DatabricksViewc01b30a\")\n        #run backend agg\n        display(spark.sql(\"\"\"WITH q AS (select * from DatabricksViewc01b30a) SELECT `released_day`,SUM(`count`) `column_3f7c0e0b68`,`released_day` FROM q GROUP BY `released_day`\"\"\"))\n    else:\n        displayHTML(\"dataframe no longer exists. If you're using dataframe.display(), use display(dataframe) instead.\")\n\n\nfinally:\n    spark.sql(\"drop view if exists DatabricksViewc01b30a\")\n    display = __backend_agg_display_orig\n    del __backend_agg_display_new\n    del __backend_agg_display_orig\n    del __backend_agg_dfs\n    del __backend_agg_user_code_fn\n\n",
       "commandTitle": "Titres/Jour",
       "commandType": "auto",
       "commandVersion": 0,
       "commentThread": [],
       "commentsVisible": false,
       "contentSha256Hex": null,
       "customPlotOptions": {
        "redashChart": [
         {
          "key": "type",
          "value": "CHART"
         },
         {
          "key": "options",
          "value": {
           "alignYAxesAtZero": true,
           "coefficient": 1,
           "columnConfigurationMap": {
            "series": {
             "column": "released_day",
             "id": "column_3f7c0e0b70"
            },
            "x": {
             "column": "released_day",
             "id": "column_3f7c0e0b67"
            },
            "y": [
             {
              "column": "count",
              "id": "column_3f7c0e0b68",
              "transform": "SUM"
             }
            ]
           },
           "dateTimeFormat": "DD/MM/YYYY HH:mm",
           "direction": {
            "type": "counterclockwise"
           },
           "error_y": {
            "type": "data",
            "visible": true
           },
           "globalSeriesType": "column",
           "isAggregationOn": true,
           "legend": {
            "traceorder": "normal"
           },
           "missingValuesAsZero": true,
           "numberFormat": "0,0.[00000]",
           "percentFormat": "0[.]00%",
           "series": {
            "error_y": {
             "type": "data",
             "visible": true
            },
            "stacking": null
           },
           "seriesOptions": {
            "column_3f7c0e0b68": {
             "name": "count",
             "type": "column",
             "yAxis": 0
            }
           },
           "showDataLabels": false,
           "sizemode": "diameter",
           "sortX": true,
           "sortY": true,
           "swappedAxes": false,
           "textFormat": "",
           "useAggregationsUi": true,
           "valuesOptions": {},
           "version": 2,
           "xAxis": {
            "labels": {
             "enabled": true
            },
            "type": "-"
           },
           "yAxis": [
            {
             "type": "-"
            },
            {
             "opposite": true,
             "type": "-"
            }
           ]
          }
         }
        ]
       },
       "datasetPreviewNameToCmdIdMap": {},
       "diffDeletes": [],
       "diffInserts": [],
       "displayType": "redashChart",
       "error": null,
       "errorDetails": null,
       "errorSummary": null,
       "errorTraceType": null,
       "finishTime": 0,
       "globalVars": {},
       "guid": "",
       "height": "auto",
       "hideCommandCode": false,
       "hideCommandResult": false,
       "iPythonMetadata": null,
       "inputWidgets": {},
       "isLockedInExamMode": false,
       "latestAssumeRoleInfo": null,
       "latestUser": "a user",
       "latestUserId": null,
       "listResultMetadata": null,
       "metadata": {},
       "nuid": "191ea3e6-65ae-44f0-a89f-83a4dc6d8b60",
       "origId": 0,
       "parentHierarchy": [],
       "pivotAggregation": null,
       "pivotColumns": null,
       "position": 2.0,
       "resultDbfsErrorMessage": null,
       "resultDbfsStatus": "INLINED_IN_TREE",
       "results": null,
       "showCommandTitle": false,
       "startTime": 0,
       "state": "input",
       "streamStates": {},
       "subcommandOptions": {
        "queryPlan": {
         "groups": [
          {
           "column": "released_day",
           "type": "column"
          },
          {
           "column": "released_day",
           "type": "column"
          }
         ],
         "selects": [
          {
           "column": "released_day",
           "type": "column"
          },
          {
           "alias": "column_3f7c0e0b68",
           "args": [
            {
             "column": "count",
             "type": "column"
            }
           ],
           "function": "SUM",
           "type": "function"
          },
          {
           "column": "released_day",
           "type": "column"
          }
         ]
        }
       },
       "submitTime": 0,
       "subtype": "tableResultSubCmd.visualization",
       "tableResultIndex": 5,
       "tableResultSettingsMap": {},
       "useConsistentColors": false,
       "version": "CommandV1",
       "width": "auto",
       "workflows": [],
       "xColumns": null,
       "yColumns": null
      }
     },
     "output_type": "display_data"
    },
    {
     "output_type": "stream",
     "name": "stdout",
     "output_type": "stream",
     "text": [
      "Profils audio des top 5 artistes les plus streamés : The Weeknd, Taylor Swift, Ed Sheeran, Harry Styles, Bad Bunny\n"
     ]
    },
    {
     "output_type": "display_data",
     "data": {
      "text/html": [
       "<style scoped>\n",
       "  .table-result-container {\n",
       "    max-height: 300px;\n",
       "    overflow: auto;\n",
       "  }\n",
       "  table, th, td {\n",
       "    border: 1px solid black;\n",
       "    border-collapse: collapse;\n",
       "  }\n",
       "  th, td {\n",
       "    padding: 5px;\n",
       "  }\n",
       "  th {\n",
       "    text-align: left;\n",
       "  }\n",
       "</style><div class='table-result-container'><table class='table-result'><thead style='background-color: white'><tr><th>artist_s__name</th><th>avg(danceability_%)</th><th>avg(valence_%)</th><th>avg(energy_%)</th><th>avg(acousticness_%)</th><th>avg(instrumentalness_%)</th><th>avg(liveness_%)</th></tr></thead><tbody><tr><td>Taylor Swift</td><td>59.76470588235294</td><td>35.55882352941177</td><td>56.794117647058826</td><td>27.88235294117647</td><td>0.6764705882352942</td><td>15.411764705882353</td></tr><tr><td>Bad Bunny</td><td>75.15789473684211</td><td>53.21052631578947</td><td>66.73684210526316</td><td>22.842105263157894</td><td>3.3157894736842106</td><td>18.157894736842106</td></tr><tr><td>Harry Styles</td><td>61.35294117647059</td><td>54.0</td><td>58.88235294117647</td><td>42.8235294117647</td><td>1.588235294117647</td><td>14.294117647058824</td></tr><tr><td>The Weeknd</td><td>57.68181818181818</td><td>42.27272727272727</td><td>63.90909090909091</td><td>20.59090909090909</td><td>1.4090909090909092</td><td>19.681818181818183</td></tr><tr><td>Ed Sheeran</td><td>69.66666666666667</td><td>51.333333333333336</td><td>64.77777777777777</td><td>28.88888888888889</td><td>0.0</td><td>16.333333333333332</td></tr></tbody></table></div>"
      ]
     },
     "metadata": {
      "application/vnd.databricks.v1+output": {
       "addedWidgets": {},
       "aggData": [],
       "aggError": "",
       "aggOverflow": false,
       "aggSchema": [],
       "aggSeriesLimitReached": false,
       "aggType": "",
       "arguments": {},
       "columnCustomDisplayInfos": {},
       "data": [
        [
         "Taylor Swift",
         59.76470588235294,
         35.55882352941177,
         56.794117647058826,
         27.88235294117647,
         0.6764705882352942,
         15.411764705882353
        ],
        [
         "Bad Bunny",
         75.15789473684211,
         53.21052631578947,
         66.73684210526316,
         22.842105263157894,
         3.3157894736842106,
         18.157894736842106
        ],
        [
         "Harry Styles",
         61.35294117647059,
         54.0,
         58.88235294117647,
         42.8235294117647,
         1.588235294117647,
         14.294117647058824
        ],
        [
         "The Weeknd",
         57.68181818181818,
         42.27272727272727,
         63.90909090909091,
         20.59090909090909,
         1.4090909090909092,
         19.681818181818183
        ],
        [
         "Ed Sheeran",
         69.66666666666667,
         51.333333333333336,
         64.77777777777777,
         28.88888888888889,
         0.0,
         16.333333333333332
        ]
       ],
       "datasetInfos": [],
       "dbfsResultPath": null,
       "isJsonSchema": true,
       "metadata": {},
       "overflow": false,
       "plotOptions": {
        "customPlotOptions": {},
        "displayType": "table",
        "pivotAggregation": null,
        "pivotColumns": null,
        "xColumns": null,
        "yColumns": null
       },
       "removedWidgets": [],
       "schema": [
        {
         "metadata": "{}",
         "name": "artist_s__name",
         "type": "\"string\""
        },
        {
         "metadata": "{\"__autoGeneratedAlias\": \"true\"}",
         "name": "avg(danceability_%)",
         "type": "\"double\""
        },
        {
         "metadata": "{\"__autoGeneratedAlias\": \"true\"}",
         "name": "avg(valence_%)",
         "type": "\"double\""
        },
        {
         "metadata": "{\"__autoGeneratedAlias\": \"true\"}",
         "name": "avg(energy_%)",
         "type": "\"double\""
        },
        {
         "metadata": "{\"__autoGeneratedAlias\": \"true\"}",
         "name": "avg(acousticness_%)",
         "type": "\"double\""
        },
        {
         "metadata": "{\"__autoGeneratedAlias\": \"true\"}",
         "name": "avg(instrumentalness_%)",
         "type": "\"double\""
        },
        {
         "metadata": "{\"__autoGeneratedAlias\": \"true\"}",
         "name": "avg(liveness_%)",
         "type": "\"double\""
        }
       ],
       "type": "table"
      }
     },
     "output_type": "display_data"
    },
    {
     "output_type": "display_data",
     "data": {
      "text/plain": [
       "Databricks visualization. Run in Databricks to view."
      ]
     },
     "metadata": {
      "application/vnd.databricks.v1.subcommand+json": {
       "baseErrorDetails": null,
       "bindings": {},
       "collapsed": false,
       "command": "%python\n__backend_agg_display_orig = display\n__backend_agg_dfs = []\ndef __backend_agg_display_new(df):\n    __backend_agg_df_modules = [\"pandas.core.frame\", \"databricks.koalas.frame\", \"pyspark.sql.dataframe\", \"pyspark.pandas.frame\", \"pyspark.sql.connect.dataframe\"]\n    if (type(df).__module__ in __backend_agg_df_modules and type(df).__name__ == 'DataFrame') or isinstance(df, list):\n        __backend_agg_dfs.append(df)\n\ndisplay = __backend_agg_display_new\n\ndef __backend_agg_user_code_fn():\n    import base64\n    exec(base64.standard_b64decode(\"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\").decode())\n\ntry:\n    # run user code\n    __backend_agg_user_code_fn()\n\n    #reset display function\n    display = __backend_agg_display_orig\n\n    if len(__backend_agg_dfs) > 6:\n        # create a temp view\n        if type(__backend_agg_dfs[6]).__module__ == \"databricks.koalas.frame\":\n            # koalas dataframe\n            __backend_agg_dfs[6].to_spark().createOrReplaceTempView(\"DatabricksView8e3193a\")\n        elif type(__backend_agg_dfs[6]).__module__ == \"pandas.core.frame\" or isinstance(__backend_agg_dfs[6], list):\n            # pandas dataframe\n            spark.createDataFrame(__backend_agg_dfs[6]).createOrReplaceTempView(\"DatabricksView8e3193a\")\n        else:\n            __backend_agg_dfs[6].createOrReplaceTempView(\"DatabricksView8e3193a\")\n        #run backend agg\n        display(spark.sql(\"\"\"WITH q AS (select * from DatabricksView8e3193a) SELECT `artist_s__name`,SUM(`avg(danceability_%)`) `column_3f7c0e0b77`,`artist_s__name` FROM q GROUP BY `artist_s__name`\"\"\"))\n    else:\n        displayHTML(\"dataframe no longer exists. If you're using dataframe.display(), use display(dataframe) instead.\")\n\n\nfinally:\n    spark.sql(\"drop view if exists DatabricksView8e3193a\")\n    display = __backend_agg_display_orig\n    del __backend_agg_display_new\n    del __backend_agg_display_orig\n    del __backend_agg_dfs\n    del __backend_agg_user_code_fn\n\n",
       "commandTitle": "Danceability",
       "commandType": "auto",
       "commandVersion": 0,
       "commentThread": [],
       "commentsVisible": false,
       "contentSha256Hex": null,
       "customPlotOptions": {
        "redashChart": [
         {
          "key": "type",
          "value": "CHART"
         },
         {
          "key": "options",
          "value": {
           "alignYAxesAtZero": true,
           "coefficient": 1,
           "columnConfigurationMap": {
            "series": {
             "column": "artist_s__name",
             "id": "column_3f7c0e0b79"
            },
            "x": {
             "column": "artist_s__name",
             "id": "column_3f7c0e0b75"
            },
            "y": [
             {
              "column": "avg(danceability_%)",
              "id": "column_3f7c0e0b77",
              "transform": "SUM"
             }
            ]
           },
           "dateTimeFormat": "DD/MM/YYYY HH:mm",
           "direction": {
            "type": "counterclockwise"
           },
           "error_y": {
            "type": "data",
            "visible": true
           },
           "globalSeriesType": "column",
           "isAggregationOn": true,
           "legend": {
            "traceorder": "normal"
           },
           "missingValuesAsZero": true,
           "numberFormat": "0,0.[00000]",
           "percentFormat": "0[.]00%",
           "series": {
            "error_y": {
             "type": "data",
             "visible": true
            },
            "stacking": null
           },
           "seriesOptions": {
            "column_3f7c0e0b73": {
             "type": "column",
             "yAxis": 0
            },
            "column_3f7c0e0b77": {
             "type": "column",
             "yAxis": 0
            }
           },
           "showDataLabels": false,
           "sizemode": "diameter",
           "sortX": true,
           "sortY": true,
           "swappedAxes": false,
           "textFormat": "",
           "useAggregationsUi": true,
           "valuesOptions": {},
           "version": 2,
           "xAxis": {
            "labels": {
             "enabled": true
            },
            "type": "-"
           },
           "yAxis": [
            {
             "type": "-"
            },
            {
             "opposite": true,
             "type": "-"
            }
           ]
          }
         }
        ]
       },
       "datasetPreviewNameToCmdIdMap": {},
       "diffDeletes": [],
       "diffInserts": [],
       "displayType": "redashChart",
       "error": null,
       "errorDetails": null,
       "errorSummary": null,
       "errorTraceType": null,
       "finishTime": 0,
       "globalVars": {},
       "guid": "",
       "height": "auto",
       "hideCommandCode": false,
       "hideCommandResult": false,
       "iPythonMetadata": null,
       "inputWidgets": {},
       "isLockedInExamMode": false,
       "latestAssumeRoleInfo": null,
       "latestUser": "a user",
       "latestUserId": null,
       "listResultMetadata": null,
       "metadata": {},
       "nuid": "a22048d2-e692-49fb-9aa1-f7459c4b1704",
       "origId": 0,
       "parentHierarchy": [],
       "pivotAggregation": null,
       "pivotColumns": null,
       "position": 2.0,
       "resultDbfsErrorMessage": null,
       "resultDbfsStatus": "INLINED_IN_TREE",
       "results": null,
       "showCommandTitle": false,
       "startTime": 0,
       "state": "input",
       "streamStates": {},
       "subcommandOptions": {
        "queryPlan": {
         "groups": [
          {
           "column": "artist_s__name",
           "type": "column"
          },
          {
           "column": "artist_s__name",
           "type": "column"
          }
         ],
         "selects": [
          {
           "column": "artist_s__name",
           "type": "column"
          },
          {
           "alias": "column_3f7c0e0b77",
           "args": [
            {
             "column": "avg(danceability_%)",
             "type": "column"
            }
           ],
           "function": "SUM",
           "type": "function"
          },
          {
           "column": "artist_s__name",
           "type": "column"
          }
         ]
        }
       },
       "submitTime": 0,
       "subtype": "tableResultSubCmd.visualization",
       "tableResultIndex": 6,
       "tableResultSettingsMap": {},
       "useConsistentColors": false,
       "version": "CommandV1",
       "width": "auto",
       "workflows": [],
       "xColumns": null,
       "yColumns": null
      }
     },
     "output_type": "display_data"
    },
    {
     "output_type": "display_data",
     "data": {
      "text/plain": [
       "Databricks visualization. Run in Databricks to view."
      ]
     },
     "metadata": {
      "application/vnd.databricks.v1.subcommand+json": {
       "baseErrorDetails": null,
       "bindings": {},
       "collapsed": false,
       "command": "%python\n__backend_agg_display_orig = display\n__backend_agg_dfs = []\ndef __backend_agg_display_new(df):\n    __backend_agg_df_modules = [\"pandas.core.frame\", \"databricks.koalas.frame\", \"pyspark.sql.dataframe\", \"pyspark.pandas.frame\", \"pyspark.sql.connect.dataframe\"]\n    if (type(df).__module__ in __backend_agg_df_modules and type(df).__name__ == 'DataFrame') or isinstance(df, list):\n        __backend_agg_dfs.append(df)\n\ndisplay = __backend_agg_display_new\n\ndef __backend_agg_user_code_fn():\n    import base64\n    exec(base64.standard_b64decode(\"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\").decode())\n\ntry:\n    # run user code\n    __backend_agg_user_code_fn()\n\n    #reset display function\n    display = __backend_agg_display_orig\n\n    if len(__backend_agg_dfs) > 6:\n        # create a temp view\n        if type(__backend_agg_dfs[6]).__module__ == \"databricks.koalas.frame\":\n            # koalas dataframe\n            __backend_agg_dfs[6].to_spark().createOrReplaceTempView(\"DatabricksView4a19aa4\")\n        elif type(__backend_agg_dfs[6]).__module__ == \"pandas.core.frame\" or isinstance(__backend_agg_dfs[6], list):\n            # pandas dataframe\n            spark.createDataFrame(__backend_agg_dfs[6]).createOrReplaceTempView(\"DatabricksView4a19aa4\")\n        else:\n            __backend_agg_dfs[6].createOrReplaceTempView(\"DatabricksView4a19aa4\")\n        #run backend agg\n        display(spark.sql(\"\"\"WITH q AS (select * from DatabricksView4a19aa4) SELECT `artist_s__name`,SUM(`avg(valence_%)`) `column_3f7c0e0b82`,`artist_s__name` FROM q GROUP BY `artist_s__name`\"\"\"))\n    else:\n        displayHTML(\"dataframe no longer exists. If you're using dataframe.display(), use display(dataframe) instead.\")\n\n\nfinally:\n    spark.sql(\"drop view if exists DatabricksView4a19aa4\")\n    display = __backend_agg_display_orig\n    del __backend_agg_display_new\n    del __backend_agg_display_orig\n    del __backend_agg_dfs\n    del __backend_agg_user_code_fn\n\n",
       "commandTitle": "Valence",
       "commandType": "auto",
       "commandVersion": 0,
       "commentThread": [],
       "commentsVisible": false,
       "contentSha256Hex": null,
       "customPlotOptions": {
        "redashChart": [
         {
          "key": "type",
          "value": "CHART"
         },
         {
          "key": "options",
          "value": {
           "alignYAxesAtZero": true,
           "coefficient": 1,
           "columnConfigurationMap": {
            "series": {
             "column": "artist_s__name",
             "id": "column_3f7c0e0b84"
            },
            "x": {
             "column": "artist_s__name",
             "id": "column_3f7c0e0b80"
            },
            "y": [
             {
              "column": "avg(valence_%)",
              "id": "column_3f7c0e0b82",
              "transform": "SUM"
             }
            ]
           },
           "dateTimeFormat": "DD/MM/YYYY HH:mm",
           "direction": {
            "type": "counterclockwise"
           },
           "error_y": {
            "type": "data",
            "visible": true
           },
           "globalSeriesType": "column",
           "isAggregationOn": true,
           "legend": {
            "traceorder": "normal"
           },
           "missingValuesAsZero": true,
           "numberFormat": "0,0.[00000]",
           "percentFormat": "0[.]00%",
           "series": {
            "error_y": {
             "type": "data",
             "visible": true
            },
            "stacking": null
           },
           "seriesOptions": {
            "column_3f7c0e0b82": {
             "type": "column",
             "yAxis": 0
            }
           },
           "showDataLabels": false,
           "sizemode": "diameter",
           "sortX": true,
           "sortY": true,
           "swappedAxes": false,
           "textFormat": "",
           "useAggregationsUi": true,
           "valuesOptions": {},
           "version": 2,
           "xAxis": {
            "labels": {
             "enabled": true
            },
            "type": "-"
           },
           "yAxis": [
            {
             "type": "-"
            },
            {
             "opposite": true,
             "type": "-"
            }
           ]
          }
         }
        ]
       },
       "datasetPreviewNameToCmdIdMap": {},
       "diffDeletes": [],
       "diffInserts": [],
       "displayType": "redashChart",
       "error": null,
       "errorDetails": null,
       "errorSummary": null,
       "errorTraceType": null,
       "finishTime": 0,
       "globalVars": {},
       "guid": "",
       "height": "auto",
       "hideCommandCode": false,
       "hideCommandResult": false,
       "iPythonMetadata": null,
       "inputWidgets": {},
       "isLockedInExamMode": false,
       "latestAssumeRoleInfo": null,
       "latestUser": "a user",
       "latestUserId": null,
       "listResultMetadata": null,
       "metadata": {},
       "nuid": "42d8e83c-7cbd-4c08-8aa7-a9c0b0989835",
       "origId": 0,
       "parentHierarchy": [],
       "pivotAggregation": null,
       "pivotColumns": null,
       "position": 3.0,
       "resultDbfsErrorMessage": null,
       "resultDbfsStatus": "INLINED_IN_TREE",
       "results": null,
       "showCommandTitle": false,
       "startTime": 0,
       "state": "input",
       "streamStates": {},
       "subcommandOptions": {
        "queryPlan": {
         "groups": [
          {
           "column": "artist_s__name",
           "type": "column"
          },
          {
           "column": "artist_s__name",
           "type": "column"
          }
         ],
         "selects": [
          {
           "column": "artist_s__name",
           "type": "column"
          },
          {
           "alias": "column_3f7c0e0b82",
           "args": [
            {
             "column": "avg(valence_%)",
             "type": "column"
            }
           ],
           "function": "SUM",
           "type": "function"
          },
          {
           "column": "artist_s__name",
           "type": "column"
          }
         ]
        }
       },
       "submitTime": 0,
       "subtype": "tableResultSubCmd.visualization",
       "tableResultIndex": 6,
       "tableResultSettingsMap": {},
       "useConsistentColors": false,
       "version": "CommandV1",
       "width": "auto",
       "workflows": [],
       "xColumns": null,
       "yColumns": null
      }
     },
     "output_type": "display_data"
    },
    {
     "output_type": "display_data",
     "data": {
      "text/plain": [
       "Databricks visualization. Run in Databricks to view."
      ]
     },
     "metadata": {
      "application/vnd.databricks.v1.subcommand+json": {
       "baseErrorDetails": null,
       "bindings": {},
       "collapsed": false,
       "command": "%python\n__backend_agg_display_orig = display\n__backend_agg_dfs = []\ndef __backend_agg_display_new(df):\n    __backend_agg_df_modules = [\"pandas.core.frame\", \"databricks.koalas.frame\", \"pyspark.sql.dataframe\", \"pyspark.pandas.frame\", \"pyspark.sql.connect.dataframe\"]\n    if (type(df).__module__ in __backend_agg_df_modules and type(df).__name__ == 'DataFrame') or isinstance(df, list):\n        __backend_agg_dfs.append(df)\n\ndisplay = __backend_agg_display_new\n\ndef __backend_agg_user_code_fn():\n    import base64\n    exec(base64.standard_b64decode(\"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\").decode())\n\ntry:\n    # run user code\n    __backend_agg_user_code_fn()\n\n    #reset display function\n    display = __backend_agg_display_orig\n\n    if len(__backend_agg_dfs) > 6:\n        # create a temp view\n        if type(__backend_agg_dfs[6]).__module__ == \"databricks.koalas.frame\":\n            # koalas dataframe\n            __backend_agg_dfs[6].to_spark().createOrReplaceTempView(\"DatabricksView9da2879\")\n        elif type(__backend_agg_dfs[6]).__module__ == \"pandas.core.frame\" or isinstance(__backend_agg_dfs[6], list):\n            # pandas dataframe\n            spark.createDataFrame(__backend_agg_dfs[6]).createOrReplaceTempView(\"DatabricksView9da2879\")\n        else:\n            __backend_agg_dfs[6].createOrReplaceTempView(\"DatabricksView9da2879\")\n        #run backend agg\n        display(spark.sql(\"\"\"WITH q AS (select * from DatabricksView9da2879) SELECT `artist_s__name`,SUM(`avg(energy_%)`) `column_3f7c0e0b87`,`artist_s__name` FROM q GROUP BY `artist_s__name`\"\"\"))\n    else:\n        displayHTML(\"dataframe no longer exists. If you're using dataframe.display(), use display(dataframe) instead.\")\n\n\nfinally:\n    spark.sql(\"drop view if exists DatabricksView9da2879\")\n    display = __backend_agg_display_orig\n    del __backend_agg_display_new\n    del __backend_agg_display_orig\n    del __backend_agg_dfs\n    del __backend_agg_user_code_fn\n\n",
       "commandTitle": "Energy",
       "commandType": "auto",
       "commandVersion": 0,
       "commentThread": [],
       "commentsVisible": false,
       "contentSha256Hex": null,
       "customPlotOptions": {
        "redashChart": [
         {
          "key": "type",
          "value": "CHART"
         },
         {
          "key": "options",
          "value": {
           "alignYAxesAtZero": true,
           "coefficient": 1,
           "columnConfigurationMap": {
            "series": {
             "column": "artist_s__name",
             "id": "column_3f7c0e0b89"
            },
            "x": {
             "column": "artist_s__name",
             "id": "column_3f7c0e0b85"
            },
            "y": [
             {
              "column": "avg(energy_%)",
              "id": "column_3f7c0e0b87",
              "transform": "SUM"
             }
            ]
           },
           "dateTimeFormat": "DD/MM/YYYY HH:mm",
           "direction": {
            "type": "counterclockwise"
           },
           "error_y": {
            "type": "data",
            "visible": true
           },
           "globalSeriesType": "column",
           "isAggregationOn": true,
           "legend": {
            "traceorder": "normal"
           },
           "missingValuesAsZero": true,
           "numberFormat": "0,0.[00000]",
           "percentFormat": "0[.]00%",
           "series": {
            "error_y": {
             "type": "data",
             "visible": true
            },
            "stacking": null
           },
           "seriesOptions": {
            "column_3f7c0e0b87": {
             "type": "column",
             "yAxis": 0
            }
           },
           "showDataLabels": false,
           "sizemode": "diameter",
           "sortX": true,
           "sortY": true,
           "swappedAxes": false,
           "textFormat": "",
           "useAggregationsUi": true,
           "valuesOptions": {},
           "version": 2,
           "xAxis": {
            "labels": {
             "enabled": true
            },
            "type": "-"
           },
           "yAxis": [
            {
             "type": "-"
            },
            {
             "opposite": true,
             "type": "-"
            }
           ]
          }
         }
        ]
       },
       "datasetPreviewNameToCmdIdMap": {},
       "diffDeletes": [],
       "diffInserts": [],
       "displayType": "redashChart",
       "error": null,
       "errorDetails": null,
       "errorSummary": null,
       "errorTraceType": null,
       "finishTime": 0,
       "globalVars": {},
       "guid": "",
       "height": "auto",
       "hideCommandCode": false,
       "hideCommandResult": false,
       "iPythonMetadata": null,
       "inputWidgets": {},
       "isLockedInExamMode": false,
       "latestAssumeRoleInfo": null,
       "latestUser": "a user",
       "latestUserId": null,
       "listResultMetadata": null,
       "metadata": {},
       "nuid": "743a504c-b89b-444a-8f87-3aebfd5527e5",
       "origId": 0,
       "parentHierarchy": [],
       "pivotAggregation": null,
       "pivotColumns": null,
       "position": 4.0,
       "resultDbfsErrorMessage": null,
       "resultDbfsStatus": "INLINED_IN_TREE",
       "results": null,
       "showCommandTitle": false,
       "startTime": 0,
       "state": "input",
       "streamStates": {},
       "subcommandOptions": {
        "queryPlan": {
         "groups": [
          {
           "column": "artist_s__name",
           "type": "column"
          },
          {
           "column": "artist_s__name",
           "type": "column"
          }
         ],
         "selects": [
          {
           "column": "artist_s__name",
           "type": "column"
          },
          {
           "alias": "column_3f7c0e0b87",
           "args": [
            {
             "column": "avg(energy_%)",
             "type": "column"
            }
           ],
           "function": "SUM",
           "type": "function"
          },
          {
           "column": "artist_s__name",
           "type": "column"
          }
         ]
        }
       },
       "submitTime": 0,
       "subtype": "tableResultSubCmd.visualization",
       "tableResultIndex": 6,
       "tableResultSettingsMap": {},
       "useConsistentColors": false,
       "version": "CommandV1",
       "width": "auto",
       "workflows": [],
       "xColumns": null,
       "yColumns": null
      }
     },
     "output_type": "display_data"
    },
    {
     "output_type": "display_data",
     "data": {
      "text/plain": [
       "Databricks visualization. Run in Databricks to view."
      ]
     },
     "metadata": {
      "application/vnd.databricks.v1.subcommand+json": {
       "baseErrorDetails": null,
       "bindings": {},
       "collapsed": false,
       "command": "%python\n__backend_agg_display_orig = display\n__backend_agg_dfs = []\ndef __backend_agg_display_new(df):\n    __backend_agg_df_modules = [\"pandas.core.frame\", \"databricks.koalas.frame\", \"pyspark.sql.dataframe\", \"pyspark.pandas.frame\", \"pyspark.sql.connect.dataframe\"]\n    if (type(df).__module__ in __backend_agg_df_modules and type(df).__name__ == 'DataFrame') or isinstance(df, list):\n        __backend_agg_dfs.append(df)\n\ndisplay = __backend_agg_display_new\n\ndef __backend_agg_user_code_fn():\n    import base64\n    exec(base64.standard_b64decode(\"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\").decode())\n\ntry:\n    # run user code\n    __backend_agg_user_code_fn()\n\n    #reset display function\n    display = __backend_agg_display_orig\n\n    if len(__backend_agg_dfs) > 6:\n        # create a temp view\n        if type(__backend_agg_dfs[6]).__module__ == \"databricks.koalas.frame\":\n            # koalas dataframe\n            __backend_agg_dfs[6].to_spark().createOrReplaceTempView(\"DatabricksView4680228\")\n        elif type(__backend_agg_dfs[6]).__module__ == \"pandas.core.frame\" or isinstance(__backend_agg_dfs[6], list):\n            # pandas dataframe\n            spark.createDataFrame(__backend_agg_dfs[6]).createOrReplaceTempView(\"DatabricksView4680228\")\n        else:\n            __backend_agg_dfs[6].createOrReplaceTempView(\"DatabricksView4680228\")\n        #run backend agg\n        display(spark.sql(\"\"\"WITH q AS (select * from DatabricksView4680228) SELECT `artist_s__name`,SUM(`avg(acousticness_%)`) `column_3f7c0e0b92`,`artist_s__name` FROM q GROUP BY `artist_s__name`\"\"\"))\n    else:\n        displayHTML(\"dataframe no longer exists. If you're using dataframe.display(), use display(dataframe) instead.\")\n\n\nfinally:\n    spark.sql(\"drop view if exists DatabricksView4680228\")\n    display = __backend_agg_display_orig\n    del __backend_agg_display_new\n    del __backend_agg_display_orig\n    del __backend_agg_dfs\n    del __backend_agg_user_code_fn\n\n",
       "commandTitle": "Acousticness",
       "commandType": "auto",
       "commandVersion": 0,
       "commentThread": [],
       "commentsVisible": false,
       "contentSha256Hex": null,
       "customPlotOptions": {
        "redashChart": [
         {
          "key": "type",
          "value": "CHART"
         },
         {
          "key": "options",
          "value": {
           "alignYAxesAtZero": true,
           "coefficient": 1,
           "columnConfigurationMap": {
            "series": {
             "column": "artist_s__name",
             "id": "column_3f7c0e0b94"
            },
            "x": {
             "column": "artist_s__name",
             "id": "column_3f7c0e0b90"
            },
            "y": [
             {
              "column": "avg(acousticness_%)",
              "id": "column_3f7c0e0b92",
              "transform": "SUM"
             }
            ]
           },
           "dateTimeFormat": "DD/MM/YYYY HH:mm",
           "direction": {
            "type": "counterclockwise"
           },
           "error_y": {
            "type": "data",
            "visible": true
           },
           "globalSeriesType": "column",
           "isAggregationOn": true,
           "legend": {
            "traceorder": "normal"
           },
           "missingValuesAsZero": true,
           "numberFormat": "0,0.[00000]",
           "percentFormat": "0[.]00%",
           "series": {
            "error_y": {
             "type": "data",
             "visible": true
            },
            "stacking": null
           },
           "seriesOptions": {
            "column_3f7c0e0b92": {
             "type": "column",
             "yAxis": 0
            }
           },
           "showDataLabels": false,
           "sizemode": "diameter",
           "sortX": true,
           "sortY": true,
           "swappedAxes": false,
           "textFormat": "",
           "useAggregationsUi": true,
           "valuesOptions": {},
           "version": 2,
           "xAxis": {
            "labels": {
             "enabled": true
            },
            "type": "-"
           },
           "yAxis": [
            {
             "type": "-"
            },
            {
             "opposite": true,
             "type": "-"
            }
           ]
          }
         }
        ]
       },
       "datasetPreviewNameToCmdIdMap": {},
       "diffDeletes": [],
       "diffInserts": [],
       "displayType": "redashChart",
       "error": null,
       "errorDetails": null,
       "errorSummary": null,
       "errorTraceType": null,
       "finishTime": 0,
       "globalVars": {},
       "guid": "",
       "height": "auto",
       "hideCommandCode": false,
       "hideCommandResult": false,
       "iPythonMetadata": null,
       "inputWidgets": {},
       "isLockedInExamMode": false,
       "latestAssumeRoleInfo": null,
       "latestUser": "a user",
       "latestUserId": null,
       "listResultMetadata": null,
       "metadata": {},
       "nuid": "206b6fe2-e83e-40aa-a846-6997106e0421",
       "origId": 0,
       "parentHierarchy": [],
       "pivotAggregation": null,
       "pivotColumns": null,
       "position": 5.0,
       "resultDbfsErrorMessage": null,
       "resultDbfsStatus": "INLINED_IN_TREE",
       "results": null,
       "showCommandTitle": false,
       "startTime": 0,
       "state": "input",
       "streamStates": {},
       "subcommandOptions": {
        "queryPlan": {
         "groups": [
          {
           "column": "artist_s__name",
           "type": "column"
          },
          {
           "column": "artist_s__name",
           "type": "column"
          }
         ],
         "selects": [
          {
           "column": "artist_s__name",
           "type": "column"
          },
          {
           "alias": "column_3f7c0e0b92",
           "args": [
            {
             "column": "avg(acousticness_%)",
             "type": "column"
            }
           ],
           "function": "SUM",
           "type": "function"
          },
          {
           "column": "artist_s__name",
           "type": "column"
          }
         ]
        }
       },
       "submitTime": 0,
       "subtype": "tableResultSubCmd.visualization",
       "tableResultIndex": 6,
       "tableResultSettingsMap": {},
       "useConsistentColors": false,
       "version": "CommandV1",
       "width": "auto",
       "workflows": [],
       "xColumns": null,
       "yColumns": null
      }
     },
     "output_type": "display_data"
    },
    {
     "output_type": "display_data",
     "data": {
      "text/plain": [
       "Databricks visualization. Run in Databricks to view."
      ]
     },
     "metadata": {
      "application/vnd.databricks.v1.subcommand+json": {
       "baseErrorDetails": null,
       "bindings": {},
       "collapsed": false,
       "command": "%python\n__backend_agg_display_orig = display\n__backend_agg_dfs = []\ndef __backend_agg_display_new(df):\n    __backend_agg_df_modules = [\"pandas.core.frame\", \"databricks.koalas.frame\", \"pyspark.sql.dataframe\", \"pyspark.pandas.frame\", \"pyspark.sql.connect.dataframe\"]\n    if (type(df).__module__ in __backend_agg_df_modules and type(df).__name__ == 'DataFrame') or isinstance(df, list):\n        __backend_agg_dfs.append(df)\n\ndisplay = __backend_agg_display_new\n\ndef __backend_agg_user_code_fn():\n    import base64\n    exec(base64.standard_b64decode(\"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\").decode())\n\ntry:\n    # run user code\n    __backend_agg_user_code_fn()\n\n    #reset display function\n    display = __backend_agg_display_orig\n\n    if len(__backend_agg_dfs) > 6:\n        # create a temp view\n        if type(__backend_agg_dfs[6]).__module__ == \"databricks.koalas.frame\":\n            # koalas dataframe\n            __backend_agg_dfs[6].to_spark().createOrReplaceTempView(\"DatabricksViewe252a50\")\n        elif type(__backend_agg_dfs[6]).__module__ == \"pandas.core.frame\" or isinstance(__backend_agg_dfs[6], list):\n            # pandas dataframe\n            spark.createDataFrame(__backend_agg_dfs[6]).createOrReplaceTempView(\"DatabricksViewe252a50\")\n        else:\n            __backend_agg_dfs[6].createOrReplaceTempView(\"DatabricksViewe252a50\")\n        #run backend agg\n        display(spark.sql(\"\"\"WITH q AS (select * from DatabricksViewe252a50) SELECT `artist_s__name`,SUM(`avg(instrumentalness_%)`) `column_3f7c0e0b97`,`artist_s__name` FROM q GROUP BY `artist_s__name`\"\"\"))\n    else:\n        displayHTML(\"dataframe no longer exists. If you're using dataframe.display(), use display(dataframe) instead.\")\n\n\nfinally:\n    spark.sql(\"drop view if exists DatabricksViewe252a50\")\n    display = __backend_agg_display_orig\n    del __backend_agg_display_new\n    del __backend_agg_display_orig\n    del __backend_agg_dfs\n    del __backend_agg_user_code_fn\n\n",
       "commandTitle": "Instrumentalness",
       "commandType": "auto",
       "commandVersion": 0,
       "commentThread": [],
       "commentsVisible": false,
       "contentSha256Hex": null,
       "customPlotOptions": {
        "redashChart": [
         {
          "key": "type",
          "value": "CHART"
         },
         {
          "key": "options",
          "value": {
           "alignYAxesAtZero": true,
           "coefficient": 1,
           "columnConfigurationMap": {
            "series": {
             "column": "artist_s__name",
             "id": "column_3f7c0e0b99"
            },
            "x": {
             "column": "artist_s__name",
             "id": "column_3f7c0e0b95"
            },
            "y": [
             {
              "column": "avg(instrumentalness_%)",
              "id": "column_3f7c0e0b97",
              "transform": "SUM"
             }
            ]
           },
           "dateTimeFormat": "DD/MM/YYYY HH:mm",
           "direction": {
            "type": "counterclockwise"
           },
           "error_y": {
            "type": "data",
            "visible": true
           },
           "globalSeriesType": "column",
           "isAggregationOn": true,
           "legend": {
            "traceorder": "normal"
           },
           "missingValuesAsZero": true,
           "numberFormat": "0,0.[00000]",
           "percentFormat": "0[.]00%",
           "series": {
            "error_y": {
             "type": "data",
             "visible": true
            },
            "stacking": null
           },
           "seriesOptions": {
            "column_3f7c0e0b97": {
             "type": "column",
             "yAxis": 0
            }
           },
           "showDataLabels": false,
           "sizemode": "diameter",
           "sortX": true,
           "sortY": true,
           "swappedAxes": false,
           "textFormat": "",
           "useAggregationsUi": true,
           "valuesOptions": {},
           "version": 2,
           "xAxis": {
            "labels": {
             "enabled": true
            },
            "type": "-"
           },
           "yAxis": [
            {
             "type": "-"
            },
            {
             "opposite": true,
             "type": "-"
            }
           ]
          }
         }
        ]
       },
       "datasetPreviewNameToCmdIdMap": {},
       "diffDeletes": [],
       "diffInserts": [],
       "displayType": "redashChart",
       "error": null,
       "errorDetails": null,
       "errorSummary": null,
       "errorTraceType": null,
       "finishTime": 0,
       "globalVars": {},
       "guid": "",
       "height": "auto",
       "hideCommandCode": false,
       "hideCommandResult": false,
       "iPythonMetadata": null,
       "inputWidgets": {},
       "isLockedInExamMode": false,
       "latestAssumeRoleInfo": null,
       "latestUser": "a user",
       "latestUserId": null,
       "listResultMetadata": null,
       "metadata": {},
       "nuid": "52343f59-cd77-41d2-83b8-6efd5129eebf",
       "origId": 0,
       "parentHierarchy": [],
       "pivotAggregation": null,
       "pivotColumns": null,
       "position": 6.0,
       "resultDbfsErrorMessage": null,
       "resultDbfsStatus": "INLINED_IN_TREE",
       "results": null,
       "showCommandTitle": false,
       "startTime": 0,
       "state": "input",
       "streamStates": {},
       "subcommandOptions": {
        "queryPlan": {
         "groups": [
          {
           "column": "artist_s__name",
           "type": "column"
          },
          {
           "column": "artist_s__name",
           "type": "column"
          }
         ],
         "selects": [
          {
           "column": "artist_s__name",
           "type": "column"
          },
          {
           "alias": "column_3f7c0e0b97",
           "args": [
            {
             "column": "avg(instrumentalness_%)",
             "type": "column"
            }
           ],
           "function": "SUM",
           "type": "function"
          },
          {
           "column": "artist_s__name",
           "type": "column"
          }
         ]
        }
       },
       "submitTime": 0,
       "subtype": "tableResultSubCmd.visualization",
       "tableResultIndex": 6,
       "tableResultSettingsMap": {},
       "useConsistentColors": false,
       "version": "CommandV1",
       "width": "auto",
       "workflows": [],
       "xColumns": null,
       "yColumns": null
      }
     },
     "output_type": "display_data"
    },
    {
     "output_type": "display_data",
     "data": {
      "text/plain": [
       "Databricks visualization. Run in Databricks to view."
      ]
     },
     "metadata": {
      "application/vnd.databricks.v1.subcommand+json": {
       "baseErrorDetails": null,
       "bindings": {},
       "collapsed": false,
       "command": "%python\n__backend_agg_display_orig = display\n__backend_agg_dfs = []\ndef __backend_agg_display_new(df):\n    __backend_agg_df_modules = [\"pandas.core.frame\", \"databricks.koalas.frame\", \"pyspark.sql.dataframe\", \"pyspark.pandas.frame\", \"pyspark.sql.connect.dataframe\"]\n    if (type(df).__module__ in __backend_agg_df_modules and type(df).__name__ == 'DataFrame') or isinstance(df, list):\n        __backend_agg_dfs.append(df)\n\ndisplay = __backend_agg_display_new\n\ndef __backend_agg_user_code_fn():\n    import base64\n    exec(base64.standard_b64decode(\"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\").decode())\n\ntry:\n    # run user code\n    __backend_agg_user_code_fn()\n\n    #reset display function\n    display = __backend_agg_display_orig\n\n    if len(__backend_agg_dfs) > 6:\n        # create a temp view\n        if type(__backend_agg_dfs[6]).__module__ == \"databricks.koalas.frame\":\n            # koalas dataframe\n            __backend_agg_dfs[6].to_spark().createOrReplaceTempView(\"DatabricksView8401c1e\")\n        elif type(__backend_agg_dfs[6]).__module__ == \"pandas.core.frame\" or isinstance(__backend_agg_dfs[6], list):\n            # pandas dataframe\n            spark.createDataFrame(__backend_agg_dfs[6]).createOrReplaceTempView(\"DatabricksView8401c1e\")\n        else:\n            __backend_agg_dfs[6].createOrReplaceTempView(\"DatabricksView8401c1e\")\n        #run backend agg\n        display(spark.sql(\"\"\"WITH q AS (select * from DatabricksView8401c1e) SELECT `artist_s__name`,SUM(`avg(liveness_%)`) `column_3f7c0e0b102`,`artist_s__name` FROM q GROUP BY `artist_s__name`\"\"\"))\n    else:\n        displayHTML(\"dataframe no longer exists. If you're using dataframe.display(), use display(dataframe) instead.\")\n\n\nfinally:\n    spark.sql(\"drop view if exists DatabricksView8401c1e\")\n    display = __backend_agg_display_orig\n    del __backend_agg_display_new\n    del __backend_agg_display_orig\n    del __backend_agg_dfs\n    del __backend_agg_user_code_fn\n\n",
       "commandTitle": "Liveness",
       "commandType": "auto",
       "commandVersion": 0,
       "commentThread": [],
       "commentsVisible": false,
       "contentSha256Hex": null,
       "customPlotOptions": {
        "redashChart": [
         {
          "key": "type",
          "value": "CHART"
         },
         {
          "key": "options",
          "value": {
           "alignYAxesAtZero": true,
           "coefficient": 1,
           "columnConfigurationMap": {
            "series": {
             "column": "artist_s__name",
             "id": "column_3f7c0e0b104"
            },
            "x": {
             "column": "artist_s__name",
             "id": "column_3f7c0e0b100"
            },
            "y": [
             {
              "column": "avg(liveness_%)",
              "id": "column_3f7c0e0b102",
              "transform": "SUM"
             }
            ]
           },
           "dateTimeFormat": "DD/MM/YYYY HH:mm",
           "direction": {
            "type": "counterclockwise"
           },
           "error_y": {
            "type": "data",
            "visible": true
           },
           "globalSeriesType": "column",
           "isAggregationOn": true,
           "legend": {
            "traceorder": "normal"
           },
           "missingValuesAsZero": true,
           "numberFormat": "0,0.[00000]",
           "percentFormat": "0[.]00%",
           "series": {
            "error_y": {
             "type": "data",
             "visible": true
            },
            "stacking": null
           },
           "seriesOptions": {
            "column_3f7c0e0b102": {
             "type": "column",
             "yAxis": 0
            }
           },
           "showDataLabels": false,
           "sizemode": "diameter",
           "sortX": true,
           "sortY": true,
           "swappedAxes": false,
           "textFormat": "",
           "useAggregationsUi": true,
           "valuesOptions": {},
           "version": 2,
           "xAxis": {
            "labels": {
             "enabled": true
            },
            "type": "-"
           },
           "yAxis": [
            {
             "type": "-"
            },
            {
             "opposite": true,
             "type": "-"
            }
           ]
          }
         }
        ]
       },
       "datasetPreviewNameToCmdIdMap": {},
       "diffDeletes": [],
       "diffInserts": [],
       "displayType": "redashChart",
       "error": null,
       "errorDetails": null,
       "errorSummary": null,
       "errorTraceType": null,
       "finishTime": 0,
       "globalVars": {},
       "guid": "",
       "height": "auto",
       "hideCommandCode": false,
       "hideCommandResult": false,
       "iPythonMetadata": null,
       "inputWidgets": {},
       "isLockedInExamMode": false,
       "latestAssumeRoleInfo": null,
       "latestUser": "a user",
       "latestUserId": null,
       "listResultMetadata": null,
       "metadata": {},
       "nuid": "51257fb3-67e5-40ce-9189-4528be67a15b",
       "origId": 0,
       "parentHierarchy": [],
       "pivotAggregation": null,
       "pivotColumns": null,
       "position": 7.0,
       "resultDbfsErrorMessage": null,
       "resultDbfsStatus": "INLINED_IN_TREE",
       "results": null,
       "showCommandTitle": false,
       "startTime": 0,
       "state": "input",
       "streamStates": {},
       "subcommandOptions": {
        "queryPlan": {
         "groups": [
          {
           "column": "artist_s__name",
           "type": "column"
          },
          {
           "column": "artist_s__name",
           "type": "column"
          }
         ],
         "selects": [
          {
           "column": "artist_s__name",
           "type": "column"
          },
          {
           "alias": "column_3f7c0e0b102",
           "args": [
            {
             "column": "avg(liveness_%)",
             "type": "column"
            }
           ],
           "function": "SUM",
           "type": "function"
          },
          {
           "column": "artist_s__name",
           "type": "column"
          }
         ]
        }
       },
       "submitTime": 0,
       "subtype": "tableResultSubCmd.visualization",
       "tableResultIndex": 6,
       "tableResultSettingsMap": {},
       "useConsistentColors": false,
       "version": "CommandV1",
       "width": "auto",
       "workflows": [],
       "xColumns": null,
       "yColumns": null
      }
     },
     "output_type": "display_data"
    },
    {
     "output_type": "stream",
     "name": "stdout",
     "output_type": "stream",
     "text": [
      "Proportion des titres à très fort succès (> 70,000,000 streams) :\n862/89\n"
     ]
    },
    {
     "output_type": "display_data",
     "data": {
      "text/html": [
       "<style scoped>\n",
       "  .table-result-container {\n",
       "    max-height: 300px;\n",
       "    overflow: auto;\n",
       "  }\n",
       "  table, th, td {\n",
       "    border: 1px solid black;\n",
       "    border-collapse: collapse;\n",
       "  }\n",
       "  th, td {\n",
       "    padding: 5px;\n",
       "  }\n",
       "  th {\n",
       "    text-align: left;\n",
       "  }\n",
       "</style><div class='table-result-container'><table class='table-result'><thead style='background-color: white'><tr><th>streams_high</th><th>count</th></tr></thead><tbody><tr><td>1</td><td>862</td></tr><tr><td>0</td><td>89</td></tr></tbody></table></div>"
      ]
     },
     "metadata": {
      "application/vnd.databricks.v1+output": {
       "addedWidgets": {},
       "aggData": [],
       "aggError": "",
       "aggOverflow": false,
       "aggSchema": [],
       "aggSeriesLimitReached": false,
       "aggType": "",
       "arguments": {},
       "columnCustomDisplayInfos": {},
       "data": [
        [
         1,
         862
        ],
        [
         0,
         89
        ]
       ],
       "datasetInfos": [],
       "dbfsResultPath": null,
       "isJsonSchema": true,
       "metadata": {},
       "overflow": false,
       "plotOptions": {
        "customPlotOptions": {},
        "displayType": "table",
        "pivotAggregation": null,
        "pivotColumns": null,
        "xColumns": null,
        "yColumns": null
       },
       "removedWidgets": [],
       "schema": [
        {
         "metadata": "{}",
         "name": "streams_high",
         "type": "\"integer\""
        },
        {
         "metadata": "{}",
         "name": "count",
         "type": "\"long\""
        }
       ],
       "type": "table"
      }
     },
     "output_type": "display_data"
    },
    {
     "output_type": "stream",
     "name": "stdout",
     "output_type": "stream",
     "text": [
      "✅ Analyse terminée et documentée. Colonnes X garanties en ordre calendaire.\n"
     ]
    }
   ],
   "source": [
    "# -------------------------------------------\n",
    "# Projet : Analyse Spotify Popularity Songs - Databricks\n",
    "# Objectif : analyser la popularité Spotify (streams, saisonnalité, audio)\n",
    "# -------------------------------------------\n",
    "\n",
    "from pyspark.sql.functions import col, regexp_replace, format_number, when  # Imports Spark utiles\n",
    "from pyspark.sql.types import DoubleType\n",
    "import re\n",
    "\n",
    "# Nettoyage des noms de colonne (enlève caractères spéciaux)\n",
    "def clean_col_name(name):                                        # Définit une fonction de nettoyage des colonnes\n",
    "    return re.sub(r\"[ \\(\\)\\{\\}\\[\\],;\\'\\\"\\n\\t\\-=\\+]\", \"_\", name)  # Remplace tous les caractères non alphanumériques par '_'\n",
    "\n",
    "# Chargement de la table source Databricks\n",
    "table_name = \"workspace.default.popular_spotify_songs\"           # Spécifie le nom de ta table\n",
    "df = spark.table(table_name)                                     # Charge la table en DataFrame\n",
    "\n",
    "clean_cols = [clean_col_name(c) for c in df.columns]             # Applique la fonction à chaque colonne pour avoir des noms propres\n",
    "df_clean = df.toDF(*clean_cols)                                  # Renomme les colonnes nettoyées dans la DataFrame\n",
    "print(\"Colonnes nettoyées :\", df_clean.columns)                  # Affiche les nouveaux noms de colonnes\n",
    "\n",
    "# Nettoyage et conversion de la colonne 'streams'\n",
    "df_clean = df_clean.withColumn(\n",
    "    \"streams\",\n",
    "    regexp_replace(\"streams\", \"[^0-9.]\", \"\")                     # Retire des caractères parasites\n",
    ").withColumn(\n",
    "    \"streams\", col(\"streams\").cast(DoubleType())                 # Cast la colonne streams en float\n",
    ").na.drop(subset=[\"streams\"])                                    # Retire les titres où le stream est vide\n",
    "\n",
    "# Ajoute colonne 'streams_millions' (plus lisible pour les visus)\n",
    "df_clean = df_clean.withColumn(\"streams_millions\", format_number(col(\"streams\")/1e6, 1)) \n",
    "\n",
    "# Suppression spécifique d'artistes outliers qui biaisent les analyses\n",
    "artist_col = next((c for c in df_clean.columns if \"artist\" in c), None)  # Cherche la colonne artiste automatiquement\n",
    "if artist_col:\n",
    "    for bad in [\"Edison Lighthouse\", \"Carin Leon, Grupo Frontera\"]:      # Liste des artistes à enlever\n",
    "        df_clean = df_clean.filter(col(artist_col) != bad)\n",
    "\n",
    "track_col = next((c for c in df_clean.columns if \"track\" in c), None)    # Cherche la colonne track automatiquement\n",
    "\n",
    "# Création du label de mois avec numéro pour garantir le bon ordre X dans les visuels\n",
    "df_clean = df_clean.withColumn(\n",
    "    \"released_month_full_label\",\n",
    "    when(col(\"released_month\") == 1, \"01-Janvier\")\n",
    "    .when(col(\"released_month\") == 2, \"02-Février\")\n",
    "    .when(col(\"released_month\") == 3, \"03-Mars\")\n",
    "    .when(col(\"released_month\") == 4, \"04-Avril\")\n",
    "    .when(col(\"released_month\") == 5, \"05-Mai\")\n",
    "    .when(col(\"released_month\") == 6, \"06-Juin\")\n",
    "    .when(col(\"released_month\") == 7, \"07-Juillet\")\n",
    "    .when(col(\"released_month\") == 8, \"08-Août\")\n",
    "    .when(col(\"released_month\") == 9, \"09-Septembre\")\n",
    "    .when(col(\"released_month\") == 10, \"10-Octobre\")\n",
    "    .when(col(\"released_month\") == 11, \"11-Novembre\")\n",
    "    .otherwise(\"12-Décembre\")\n",
    ")\n",
    "\n",
    "# Statistiques sur les streams pour analyse basique et détection outlier\n",
    "print(\"Statistiques descriptives sur les streams :\")\n",
    "df_clean.describe(\"streams\").show()\n",
    "\n",
    "# Bar chart : top 10 artistes par streams cumulés\n",
    "if artist_col:\n",
    "    top_artists = df_clean.groupBy(artist_col)\\\n",
    "        .sum(\"streams\")\\\n",
    "        .orderBy(col(\"sum(streams)\").desc())\\\n",
    "        .limit(10)\\\n",
    "        .withColumn(\"streams_millions\", format_number(col(\"sum(streams)\")/1e6, 1))\n",
    "    print(\"Top 10 artistes par streams cumulés\")\n",
    "    display(top_artists.select(artist_col, \"streams_millions\")) # Affiche un graphique du top 10 artistes\n",
    "\n",
    "# Distribution : nombre de streams par titre (pour visualiser la dispersion des succès)\n",
    "print(\"Nombre de streams par titre\")\n",
    "display(df_clean.select(artist_col, track_col, \"streams_millions\"))\n",
    "\n",
    "# Evolution des streams cumulés par année (visualisation tendance globale Spotify)\n",
    "if \"released_year\" in df_clean.columns:\n",
    "    yearly_streams = df_clean.groupBy(\"released_year\").sum(\"streams\").orderBy(\"released_year\")\n",
    "    print(\"Evolution des streams cumulés par année\")\n",
    "    display(yearly_streams)\n",
    "\n",
    "# Histogramme : nombre de morceaux sortis par année\n",
    "df_year = df_clean.groupBy(\"released_year\").count().orderBy(\"released_year\")\n",
    "print(\"Nombre de morceaux sortis par année\")\n",
    "display(df_year)\n",
    "\n",
    "# Bar chart : nombre de morceaux sortis par mois en ordre calendrier (clé pour l'axe X !)\n",
    "df_month_full_label = df_clean.groupBy(\"released_month_full_label\").count().orderBy(\"released_month_full_label\")\n",
    "print(\"Nombre de morceaux sortis par mois\")\n",
    "display(df_month_full_label)\n",
    "\n",
    "# Historique : combien de morceaux par jour du mois (voir effet calendrier)\n",
    "df_day = df_clean.groupBy(\"released_day\").count().orderBy(\"released_day\")\n",
    "print(\"Nombre de morceaux sortis par jour du mois\")\n",
    "display(df_day)\n",
    "\n",
    "# Profils audio des top 5 artistes les plus streamés (comparatif des grandes dimensions musicales Spotify)\n",
    "audio_features_keywords = ['danceability', 'energy', 'acousticness',\n",
    "                          'instrumentalness', 'liveness', 'valence']\n",
    "audio_cols = [c for c in df_clean.columns if any(c.startswith(k) for k in audio_features_keywords)]\n",
    "if artist_col and audio_cols and \"top_artists\" in locals():\n",
    "    top5_rows = top_artists.select(artist_col).limit(5).collect()\n",
    "    top5_artists = [row[artist_col] for row in top5_rows]\n",
    "    df_top5_audio = df_clean.filter(col(artist_col).isin(top5_artists)).groupBy(artist_col).avg(*audio_cols)\n",
    "    print(f\"Profils audio des top 5 artistes les plus streamés : {', '.join(top5_artists)}\")\n",
    "    display(df_top5_audio)\n",
    "\n",
    "# Segmentation : proportion des titres à très fort succès (> 70M streams)\n",
    "threshold = 70000000\n",
    "df_final = df_clean.withColumn(\"streams_high\", (col(\"streams\") >= threshold).cast(\"integer\"))\n",
    "if artist_col:\n",
    "    pop_dist = df_final.groupBy(\"streams_high\").count()\n",
    "    print(f\"Proportion des titres à très fort succès (> {threshold:,} streams) :\")\n",
    "    print(f\"{pop_dist.filter(col('streams_high') == 1).collect()[0]['count']:,}/{pop_dist.filter(col('streams_high') == 0).collect()[0]['count']:,}\")\n",
    "    display(pop_dist)\n",
    "\n",
    "# Sauvegarde sous forme de Delta Table propres, pour BI/présentation/re-use\n",
    "df_final.write.option(\"mergeSchema\", \"true\").mode(\"overwrite\").saveAsTable(\"spotify_streams_analysis_final\")\n",
    "\n",
    "print(\"✅ Analyse terminée et documentée. Colonnes X garanties en ordre calendaire.\")\n"
   ]
  }
 ],
 "metadata": {
  "application/vnd.databricks.v1+notebook": {
   "computePreferences": null,
   "dashboards": [],
   "environmentMetadata": {
    "base_environment": "",
    "environment_version": "3"
   },
   "inputWidgetPreferences": null,
   "language": "python",
   "notebookMetadata": {
    "pythonIndentUnit": 4
   },
   "notebookName": "Analyse_Spotify_PopularitySongs",
   "widgets": {}
  },
  "language_info": {
   "name": "python"
  }
 },
 "nbformat": 4,
 "nbformat_minor": 0
}